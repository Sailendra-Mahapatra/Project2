{
 "cells": [
  {
   "cell_type": "code",
   "execution_count": 2,
   "metadata": {},
   "outputs": [],
   "source": [
    "import datetime as dt\n",
    "import numpy as np\n",
    "import pandas as pd\n",
    "import requests\n",
    "import json\n",
    "from pprint import pprint\n",
    "import csv\n",
    "# from api_key import api_key\n",
    "from flask_sqlalchemy import SQLAlchemy\n",
    "from sqlalchemy.ext.automap import automap_base\n",
    "from sqlalchemy.orm import Session\n",
    "from sqlalchemy import create_engine"
   ]
  },
  {
   "cell_type": "code",
   "execution_count": 3,
   "metadata": {},
   "outputs": [],
   "source": [
    "export_url = (f\"https://api.census.gov/data/timeseries/intltrade/exports\")\n",
    "import_url = (f\"https://api.census.gov/data/timeseries/intltrade/imports\")\n",
    "china_code = \"5700\"\n",
    "usa_code = \"1000\"\n",
    "month = []\n",
    "year = []"
   ]
  },
  {
   "cell_type": "code",
   "execution_count": 4,
   "metadata": {},
   "outputs": [],
   "source": [
    "export_by_commodity = requests.get(f\"{export_url}/hs?get=E_COMMODITY,E_COMMODITY_SDESC,ALL_VAL_MO,ALL_VAL_YR&time=from+2015-01&COMM_LVL=HS2&CTY_CODE={china_code}\").json()\n"
   ]
  },
  {
   "cell_type": "code",
   "execution_count": 5,
   "metadata": {},
   "outputs": [],
   "source": [
    "count = 1\n",
    "movalue = []\n",
    "yrvalue = []\n",
    "period = []\n",
    "desc = []\n",
    "code = []\n",
    "while count < 4745:\n",
    "    count += 1\n",
    "    movalue.append(export_by_commodity[count][2])\n",
    "    yrvalue.append(export_by_commodity[count][3])\n",
    "    desc.append(export_by_commodity[count][1])\n",
    "    period.append(export_by_commodity[count][4])\n",
    "    code.append(export_by_commodity[count][0])\n",
    "china_data_export = pd.DataFrame({\"YTD Value\" : yrvalue,\n",
    "                           \"Monthly Value \" : movalue,\n",
    "                          \"Period\" : period,\n",
    "                          \"Commodity\" : desc,\n",
    "                          \"Comm Code\": code})"
   ]
  },
  {
   "cell_type": "code",
   "execution_count": 7,
   "metadata": {},
   "outputs": [],
   "source": [
    "import_by_commodity = requests.get(f\"{import_url}/hs?get=I_COMMODITY,I_COMMODITY_SDESC,GEN_VAL_MO,GEN_VAL_YR&time=from+2015-01&COMM_LVL=HS2&CTY_CODE={china_code}\").json()\n"
   ]
  },
  {
   "cell_type": "code",
   "execution_count": 8,
   "metadata": {},
   "outputs": [],
   "source": [
    "count = 1\n",
    "movalue = []\n",
    "yrvalue = []\n",
    "period = []\n",
    "desc = []\n",
    "code = []\n",
    "while count < 4802:\n",
    "    count += 1\n",
    "    movalue.append(import_by_commodity[count][2])\n",
    "    yrvalue.append(import_by_commodity[count][3])\n",
    "    desc.append(import_by_commodity[count][1])\n",
    "    period.append(import_by_commodity[count][4])\n",
    "    code.append(import_by_commodity[count][0])\n",
    "china_data_import = pd.DataFrame({\"YTD Value\" : yrvalue,\n",
    "                           \"Monthly Value \" : movalue,\n",
    "                          \"Period\" : period,\n",
    "                          \"Commodity\" : desc,\n",
    "                          \"Comm Code\": code})"
   ]
  },
  {
   "cell_type": "code",
   "execution_count": 9,
   "metadata": {},
   "outputs": [],
   "source": [
    "china_data_export[\"YTD Value\"] =pd.to_numeric(china_data_export[\"YTD Value\"])"
   ]
  },
  {
   "cell_type": "code",
   "execution_count": 10,
   "metadata": {},
   "outputs": [],
   "source": [
    "first_2015 = china_data_export[china_data_export[\"Period\"].str.contains(\"2015\")]"
   ]
  },
  {
   "cell_type": "code",
   "execution_count": 11,
   "metadata": {},
   "outputs": [],
   "source": [
    "data_2015 = first_2015.groupby([\"Comm Code\",\"Commodity\"])[\"YTD Value\"].sum()"
   ]
  },
  {
   "cell_type": "code",
   "execution_count": 13,
   "metadata": {},
   "outputs": [],
   "source": [
    "test= pd.DataFrame({\"total\" : data_2015})"
   ]
  },
  {
   "cell_type": "code",
   "execution_count": null,
   "metadata": {},
   "outputs": [],
   "source": []
  },
  {
   "cell_type": "code",
   "execution_count": 32,
   "metadata": {},
   "outputs": [],
   "source": [
    "data_2015= test.nlargest(10,\"total\")\n"
   ]
  },
  {
   "cell_type": "code",
   "execution_count": 34,
   "metadata": {},
   "outputs": [],
   "source": [
    "data_2015 = data_2015.reset_index()"
   ]
  },
  {
   "cell_type": "code",
   "execution_count": 35,
   "metadata": {},
   "outputs": [
    {
     "data": {
      "text/html": [
       "<div>\n",
       "<style scoped>\n",
       "    .dataframe tbody tr th:only-of-type {\n",
       "        vertical-align: middle;\n",
       "    }\n",
       "\n",
       "    .dataframe tbody tr th {\n",
       "        vertical-align: top;\n",
       "    }\n",
       "\n",
       "    .dataframe thead th {\n",
       "        text-align: right;\n",
       "    }\n",
       "</style>\n",
       "<table border=\"1\" class=\"dataframe\">\n",
       "  <thead>\n",
       "    <tr style=\"text-align: right;\">\n",
       "      <th></th>\n",
       "      <th>Comm Code</th>\n",
       "      <th>Commodity</th>\n",
       "      <th>total</th>\n",
       "    </tr>\n",
       "  </thead>\n",
       "  <tbody>\n",
       "    <tr>\n",
       "      <th>0</th>\n",
       "      <td>88</td>\n",
       "      <td>AIRCRAFT, SPACECRAFT, AND PARTS THEREOF</td>\n",
       "      <td>95362331288</td>\n",
       "    </tr>\n",
       "    <tr>\n",
       "      <th>1</th>\n",
       "      <td>84</td>\n",
       "      <td>NUCLEAR REACTORS, BOILERS, MACHINERY ETC.; PARTS</td>\n",
       "      <td>81687836243</td>\n",
       "    </tr>\n",
       "    <tr>\n",
       "      <th>2</th>\n",
       "      <td>85</td>\n",
       "      <td>ELECTRIC MACHINERY ETC; SOUND</td>\n",
       "      <td>80965955011</td>\n",
       "    </tr>\n",
       "    <tr>\n",
       "      <th>3</th>\n",
       "      <td>87</td>\n",
       "      <td>VEHICLES, EXCEPT RAILWAY OR TRAMWAY, AND PARTS...</td>\n",
       "      <td>68852528392</td>\n",
       "    </tr>\n",
       "    <tr>\n",
       "      <th>4</th>\n",
       "      <td>12</td>\n",
       "      <td>OIL SEEDS ETC.; MISC GRAIN, SEED, FRUIT, PLANT...</td>\n",
       "      <td>59289835223</td>\n",
       "    </tr>\n",
       "    <tr>\n",
       "      <th>5</th>\n",
       "      <td>90</td>\n",
       "      <td>OPTIC, PHOTO ETC, MEDIC OR S</td>\n",
       "      <td>50091151820</td>\n",
       "    </tr>\n",
       "    <tr>\n",
       "      <th>6</th>\n",
       "      <td>39</td>\n",
       "      <td>PLASTICS AND ARTICLES THEREOF</td>\n",
       "      <td>31971602888</td>\n",
       "    </tr>\n",
       "    <tr>\n",
       "      <th>7</th>\n",
       "      <td>47</td>\n",
       "      <td>WOOD PULP ETC; RECOVD (WASTE &amp; SCRAP) PPR &amp; PPRBD</td>\n",
       "      <td>22330949053</td>\n",
       "    </tr>\n",
       "    <tr>\n",
       "      <th>8</th>\n",
       "      <td>10</td>\n",
       "      <td>CEREALS</td>\n",
       "      <td>16486726063</td>\n",
       "    </tr>\n",
       "    <tr>\n",
       "      <th>9</th>\n",
       "      <td>29</td>\n",
       "      <td>ORGANIC CHEMICALS</td>\n",
       "      <td>16250282113</td>\n",
       "    </tr>\n",
       "  </tbody>\n",
       "</table>\n",
       "</div>"
      ],
      "text/plain": [
       "  Comm Code                                          Commodity        total\n",
       "0        88            AIRCRAFT, SPACECRAFT, AND PARTS THEREOF  95362331288\n",
       "1        84   NUCLEAR REACTORS, BOILERS, MACHINERY ETC.; PARTS  81687836243\n",
       "2        85                      ELECTRIC MACHINERY ETC; SOUND  80965955011\n",
       "3        87  VEHICLES, EXCEPT RAILWAY OR TRAMWAY, AND PARTS...  68852528392\n",
       "4        12  OIL SEEDS ETC.; MISC GRAIN, SEED, FRUIT, PLANT...  59289835223\n",
       "5        90                       OPTIC, PHOTO ETC, MEDIC OR S  50091151820\n",
       "6        39                      PLASTICS AND ARTICLES THEREOF  31971602888\n",
       "7        47  WOOD PULP ETC; RECOVD (WASTE & SCRAP) PPR & PPRBD  22330949053\n",
       "8        10                                            CEREALS  16486726063\n",
       "9        29                                  ORGANIC CHEMICALS  16250282113"
      ]
     },
     "execution_count": 35,
     "metadata": {},
     "output_type": "execute_result"
    }
   ],
   "source": [
    "data_2015= data_2015.nlargest(10,\"total\")\n",
    "data_2015"
   ]
  },
  {
   "cell_type": "code",
   "execution_count": 36,
   "metadata": {},
   "outputs": [],
   "source": [
    "data_2015 = data_2015.to_csv(\"data_2015.csv\", index=False)"
   ]
  },
  {
   "cell_type": "code",
   "execution_count": null,
   "metadata": {},
   "outputs": [],
   "source": []
  },
  {
   "cell_type": "code",
   "execution_count": null,
   "metadata": {},
   "outputs": [],
   "source": []
  }
 ],
 "metadata": {
  "kernelspec": {
   "display_name": "Python 3",
   "language": "python",
   "name": "python3"
  },
  "language_info": {
   "codemirror_mode": {
    "name": "ipython",
    "version": 3
   },
   "file_extension": ".py",
   "mimetype": "text/x-python",
   "name": "python",
   "nbconvert_exporter": "python",
   "pygments_lexer": "ipython3",
   "version": "3.7.1"
  }
 },
 "nbformat": 4,
 "nbformat_minor": 2
}
