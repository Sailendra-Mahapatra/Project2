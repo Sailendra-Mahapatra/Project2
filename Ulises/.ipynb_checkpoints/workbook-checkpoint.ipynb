{
 "cells": [
  {
   "cell_type": "code",
   "execution_count": 3,
   "metadata": {},
   "outputs": [
    {
     "ename": "ModuleNotFoundError",
     "evalue": "No module named 'api_key'",
     "output_type": "error",
     "traceback": [
      "\u001b[1;31m---------------------------------------------------------------------------\u001b[0m",
      "\u001b[1;31mModuleNotFoundError\u001b[0m                       Traceback (most recent call last)",
      "\u001b[1;32m<ipython-input-3-014566a55c95>\u001b[0m in \u001b[0;36m<module>\u001b[1;34m()\u001b[0m\n\u001b[0;32m      6\u001b[0m \u001b[1;32mfrom\u001b[0m \u001b[0mpprint\u001b[0m \u001b[1;32mimport\u001b[0m \u001b[0mpprint\u001b[0m\u001b[1;33m\u001b[0m\u001b[0m\n\u001b[0;32m      7\u001b[0m \u001b[1;32mimport\u001b[0m \u001b[0mcsv\u001b[0m\u001b[1;33m\u001b[0m\u001b[0m\n\u001b[1;32m----> 8\u001b[1;33m \u001b[1;32mfrom\u001b[0m \u001b[0mapi_key\u001b[0m \u001b[1;32mimport\u001b[0m \u001b[0mapi_key\u001b[0m\u001b[1;33m\u001b[0m\u001b[0m\n\u001b[0m\u001b[0;32m      9\u001b[0m \u001b[1;32mfrom\u001b[0m \u001b[0mflask_sqlalchemy\u001b[0m \u001b[1;32mimport\u001b[0m \u001b[0mSQLAlchemy\u001b[0m\u001b[1;33m\u001b[0m\u001b[0m\n\u001b[0;32m     10\u001b[0m \u001b[1;32mfrom\u001b[0m \u001b[0msqlalchemy\u001b[0m\u001b[1;33m.\u001b[0m\u001b[0mext\u001b[0m\u001b[1;33m.\u001b[0m\u001b[0mautomap\u001b[0m \u001b[1;32mimport\u001b[0m \u001b[0mautomap_base\u001b[0m\u001b[1;33m\u001b[0m\u001b[0m\n",
      "\u001b[1;31mModuleNotFoundError\u001b[0m: No module named 'api_key'"
     ]
    }
   ],
   "source": [
    "import datetime as dt\n",
    "import numpy as np\n",
    "import pandas as pd\n",
    "import requests\n",
    "import json\n",
    "from pprint import pprint\n",
    "import csv\n",
    "# from api_key import api_key\n",
    "from flask_sqlalchemy import SQLAlchemy\n",
    "from sqlalchemy.ext.automap import automap_base\n",
    "from sqlalchemy.orm import Session\n",
    "from sqlalchemy import create_engine"
   ]
  },
  {
   "cell_type": "code",
   "execution_count": 4,
   "metadata": {},
   "outputs": [],
   "source": [
    "api_key = \"93ba5366cb39b249dcbde95cc4d461e7b05b747d\"\n",
    "export_url = (f\"https://api.census.gov/data/timeseries/intltrade/exports\")\n",
    "import_url = (f\"https://api.census.gov/data/timeseries/intltrade/imports\")\n",
    "china_code = \"5700\"\n",
    "usa_code = \"1000\"\n",
    "month = []\n",
    "year = []\n",
    "#&ParameterName={parameter_name}\n",
    "#url = (f\"https://apps.bea.gov/api/data?&UserID={api_key}&method={get_data}&datasetname={dataset}&LineCode={line_code}&TableName={table_name}&GeoFIPS={geofip}&Year={year}\")\n",
    "\n",
    "#SAINC51\n",
    "#response = requests.get(url).json()       \n",
    "#list_response = requests.get(list_url).json()"
   ]
  },
  {
   "cell_type": "code",
   "execution_count": 53,
   "metadata": {},
   "outputs": [],
   "source": [
    "total_trade = requests.get(f\"{export_url}/hs?get=ALL_VAL_MO&key={api_key}&time=2019-01\").json() "
   ]
  },
  {
   "cell_type": "code",
   "execution_count": 54,
   "metadata": {},
   "outputs": [
    {
     "data": {
      "text/plain": [
       "'129545568405'"
      ]
     },
     "execution_count": 54,
     "metadata": {},
     "output_type": "execute_result"
    }
   ],
   "source": [
    "total_trade[1][0]\n"
   ]
  },
  {
   "cell_type": "code",
   "execution_count": 63,
   "metadata": {},
   "outputs": [
    {
     "data": {
      "text/plain": [
       "[['DF', 'ALL_VAL_MO', 'ALL_VAL_YR', 'YEAR', 'MONTH'],\n",
       " ['-', '131915459503', '1578516879950', '2013', '12'],\n",
       " ['1', '114956497285', '1371134061205', '2013', '12'],\n",
       " ['2', '16958962218', '207382818745', '2013', '12']]"
      ]
     },
     "execution_count": 63,
     "metadata": {},
     "output_type": "execute_result"
    }
   ],
   "source": [
    "requests.get(f\"https://api.census.gov/data/timeseries/intltrade/exports/hs?get=DF,ALL_VAL_MO,ALL_VAL_YR&YEAR=2013&MONTH=12\").json()"
   ]
  },
  {
   "cell_type": "code",
   "execution_count": 88,
   "metadata": {},
   "outputs": [
    {
     "name": "stdout",
     "output_type": "stream",
     "text": [
      "[['CTY_CODE', 'CTY_NAME', 'ALL_VAL_MO', 'ALL_VAL_YR', 'time', 'CTY_CODE'],\n",
      " ['5700', 'CHINA', '9835259350', '9835259350', '2018-01', '5700'],\n",
      " ['5700', 'CHINA', '9806092670', '19641352020', '2018-02', '5700'],\n",
      " ['5700', 'CHINA', '12382086329', '32023438349', '2018-03', '5700'],\n",
      " ['5700', 'CHINA', '10268035458', '42291473807', '2018-04', '5700'],\n",
      " ['5700', 'CHINA', '10610817545', '52902291352', '2018-05', '5700'],\n",
      " ['5700', 'CHINA', '11115623430', '64017914782', '2018-06', '5700'],\n",
      " ['5700', 'CHINA', '10261688039', '74279602821', '2018-07', '5700'],\n",
      " ['5700', 'CHINA', '9294344300', '83573947121', '2018-08', '5700'],\n",
      " ['5700', 'CHINA', '9789081065', '93363028186', '2018-09', '5700'],\n",
      " ['5700', 'CHINA', '9130520323', '102493548509', '2018-10', '5700'],\n",
      " ['5700', 'CHINA', '8664895287', '111158443796', '2018-11', '5700'],\n",
      " ['5700', 'CHINA', '9182981845', '120341425641', '2018-12', '5700'],\n",
      " ['5700', 'CHINA', '7134335725', '7134335725', '2019-01', '5700']]\n"
     ]
    }
   ],
   "source": [
    "china_exports = requests.get(f\"{export_url}/hs?get=CTY_CODE,CTY_NAME,ALL_VAL_MO,ALL_VAL_YR&key={api_key}&time=from+2018-01&CTY_CODE={china_code}\").json()\n",
    "pprint(china_exports)"
   ]
  },
  {
   "cell_type": "code",
   "execution_count": 190,
   "metadata": {},
   "outputs": [
    {
     "name": "stdout",
     "output_type": "stream",
     "text": [
      "clear\n"
     ]
    }
   ],
   "source": [
    "requests.get(f\"{export_url}/hs?get=CTY_CODE,CTY_NAME,ALL_VAL_MO,ALL_VAL_YR,E_COMMODITY_LDESC&key={api_key}&time=from+2015-01&CTY_CODE={china_code}\").json()\n",
    "print(\"clear\")"
   ]
  },
  {
   "cell_type": "code",
   "execution_count": 191,
   "metadata": {},
   "outputs": [],
   "source": [
    "export_by_commodity = requests.get(f\"{import_url}/hs?get=CTY_CODE,I_COMMODITY,I_COMMODITY_SDESC,GEN_VAL_MO,GEN_VAL_YR&key={api_key}&time=from+2015-01&CTY_CODE={china_code}\").json()\n"
   ]
  },
  {
   "cell_type": "code",
   "execution_count": 193,
   "metadata": {},
   "outputs": [],
   "source": [
    "count = 1\n",
    "value = []\n",
    "period = []\n",
    "desc = []\n",
    "code = []\n",
    "while count < 911207:\n",
    "    count += 1\n",
    "    value.append(export_by_commodity[count][3])\n",
    "    desc.append(export_by_commodity[count][2])\n",
    "    period.append(export_by_commodity[count][5])\n",
    "    code.append(export_by_commodity[count][1])\n",
    "china_data = pd.DataFrame({\"Value\" : value,\n",
    "                          \"Period\" : period,\n",
    "                          \"Commodity\" : desc,\n",
    "                          \"Comm Code\": code})"
   ]
  },
  {
   "cell_type": "code",
   "execution_count": 192,
   "metadata": {},
   "outputs": [
    {
     "data": {
      "text/plain": [
       "911208"
      ]
     },
     "execution_count": 192,
     "metadata": {},
     "output_type": "execute_result"
    }
   ],
   "source": [
    "len(export_by_commodity)"
   ]
  },
  {
   "cell_type": "code",
   "execution_count": 199,
   "metadata": {},
   "outputs": [
    {
     "data": {
      "text/html": [
       "<div>\n",
       "<style scoped>\n",
       "    .dataframe tbody tr th:only-of-type {\n",
       "        vertical-align: middle;\n",
       "    }\n",
       "\n",
       "    .dataframe tbody tr th {\n",
       "        vertical-align: top;\n",
       "    }\n",
       "\n",
       "    .dataframe thead th {\n",
       "        text-align: right;\n",
       "    }\n",
       "</style>\n",
       "<table border=\"1\" class=\"dataframe\">\n",
       "  <thead>\n",
       "    <tr style=\"text-align: right;\">\n",
       "      <th></th>\n",
       "      <th>Value</th>\n",
       "      <th>Period</th>\n",
       "      <th>Commodity</th>\n",
       "      <th>Comm Code</th>\n",
       "    </tr>\n",
       "  </thead>\n",
       "  <tbody>\n",
       "    <tr>\n",
       "      <th>count</th>\n",
       "      <td>911206</td>\n",
       "      <td>911206</td>\n",
       "      <td>911206</td>\n",
       "      <td>911206</td>\n",
       "    </tr>\n",
       "    <tr>\n",
       "      <th>unique</th>\n",
       "      <td>499928</td>\n",
       "      <td>49</td>\n",
       "      <td>21265</td>\n",
       "      <td>23383</td>\n",
       "    </tr>\n",
       "    <tr>\n",
       "      <th>top</th>\n",
       "      <td>0</td>\n",
       "      <td>2018-12</td>\n",
       "      <td>WV FB CT &lt;85% WGT CT</td>\n",
       "      <td>210390</td>\n",
       "    </tr>\n",
       "    <tr>\n",
       "      <th>freq</th>\n",
       "      <td>142319</td>\n",
       "      <td>20382</td>\n",
       "      <td>399</td>\n",
       "      <td>49</td>\n",
       "    </tr>\n",
       "  </tbody>\n",
       "</table>\n",
       "</div>"
      ],
      "text/plain": [
       "         Value   Period             Commodity Comm Code\n",
       "count   911206   911206                911206    911206\n",
       "unique  499928       49                 21265     23383\n",
       "top          0  2018-12  WV FB CT <85% WGT CT    210390\n",
       "freq    142319    20382                   399        49"
      ]
     },
     "execution_count": 199,
     "metadata": {},
     "output_type": "execute_result"
    }
   ],
   "source": [
    "china_data.describe()"
   ]
  },
  {
   "cell_type": "code",
   "execution_count": 195,
   "metadata": {},
   "outputs": [],
   "source": [
    "engine = create_engine('sqlite:///../data/china_trade.db', echo=False)\n"
   ]
  },
  {
   "cell_type": "code",
   "execution_count": null,
   "metadata": {},
   "outputs": [],
   "source": []
  },
  {
   "cell_type": "code",
   "execution_count": 198,
   "metadata": {},
   "outputs": [],
   "source": [
    "china_data.to_sql('import', con=engine, if_exists='replace')"
   ]
  },
  {
   "cell_type": "code",
   "execution_count": null,
   "metadata": {},
   "outputs": [],
   "source": [
    "def parameters(x, y, view=False, csv=False):   \n",
    "    count =+1\n",
    "    paras = []\n",
    "    parameter_values = (x)\n",
    "    data_set = (y)\n",
    "\n",
    "    try:\n",
    "        response = requests.get(f\"{url}{method[3]}&datasetname={data_set}&ParameterName={parameter_values}\").json() \n",
    "        paras.append(response[\"BEAAPI\"][\"Results\"][\"ParamValue\"])\n",
    "        if view == True:\n",
    "            pprint(response[\"BEAAPI\"][\"Results\"][\"ParamValue\"])\n",
    "        elif csv == True:\n",
    "            paras = pd.DataFrame(paras)\n",
    "            paras.to_csv(\"output.csv\")  \n",
    "            print(\"output.csv uploaded\")\n",
    "        else:\n",
    "            print(f\"{parameter_values} Values Retrived\")\n",
    "    except:\n",
    "        try:\n",
    "            response = requests.get(f\"{url}{method[3]}&datasetname={data_set}&ParameterName={parameter_values}\").json() \n",
    "            paras.append(response[\"BEAAPI\"][\"Results\"][\"ParamValue\"])\n",
    "            if view == True:\n",
    "                pprint(response[\"BEAAPI\"][\"Results\"][\"ParamValue\"])\n",
    "            elif csv == True:\n",
    "                paras = pd.DataFrame(paras)\n",
    "                paras.to_csv(\"output.csv\")  \n",
    "            else:\n",
    "                print(f\"{parameter_values} List Retrived\")  \n",
    "        except:   \n",
    "            try:\n",
    "                response = requests.get(f\"{url}{method[1]}&datasetname={data_set}\").json() \n",
    "                paras.append(response[\"BEAAPI\"][\"Results\"][\"Parameter\"])\n",
    "                print(f\"{parameter_values} List Retrived\")  \n",
    "                if view == True:\n",
    "                    pprint(response[\"BEAAPI\"][\"Results\"][\"Parameter\"])\n",
    "                elif csv == True:\n",
    "                    paras = pd.DataFrame(paras)\n",
    "                    paras.to_csv(\"output.csv\")  \n",
    "                else:\n",
    "                    print(f\"{data_set} List Retrived\")      \n",
    "            except:\n",
    "                print(response)\n",
    "    return"
   ]
  }
 ],
 "metadata": {
  "kernelspec": {
   "display_name": "Python 3",
   "language": "python",
   "name": "python3"
  },
  "language_info": {
   "codemirror_mode": {
    "name": "ipython",
    "version": 3
   },
   "file_extension": ".py",
   "mimetype": "text/x-python",
   "name": "python",
   "nbconvert_exporter": "python",
   "pygments_lexer": "ipython3",
   "version": "3.6.5"
  }
 },
 "nbformat": 4,
 "nbformat_minor": 2
}
