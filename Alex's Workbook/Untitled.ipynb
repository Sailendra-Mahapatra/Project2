{
 "cells": [
  {
   "cell_type": "code",
   "execution_count": 7,
   "metadata": {},
   "outputs": [],
   "source": [
    "import datetime as dt\n",
    "import numpy as np\n",
    "import pandas as pd\n",
    "import requests\n",
    "import json\n",
    "from pprint import pprint\n",
    "import csv\n",
    "from api_key import api_key\n"
   ]
  },
  {
   "cell_type": "code",
   "execution_count": 14,
   "metadata": {},
   "outputs": [],
   "source": [
    "export_url = (f\"https://api.census.gov/data/timeseries/intltrade/exports\")\n",
    "import_url = (f\"https://api.census.gov/data/timeseries/intltrade/imports\")\n",
    "china_code = \"5700\"\n",
    "usa_code = \"1000\"\n",
    "month = []\n",
    "year = []\n",
    "#&ParameterName={parameter_name}\n",
    "#url = (f\"https://apps.bea.gov/api/data?&UserID={api_key}&method={get_data}&datasetname={dataset}&LineCode={line_code}&TableName={table_name}&GeoFIPS={geofip}&Year={year}\")\n",
    "\n",
    "#SAINC51\n",
    "#response = requests.get(url).json()       \n",
    "#list_response = requests.get(list_url).json()"
   ]
  },
  {
   "cell_type": "code",
   "execution_count": 53,
   "metadata": {},
   "outputs": [],
   "source": [
    "total_trade = requests.get(f\"{export_url}/hs?get=ALL_VAL_MO&key={api_key}&time=2019-01\").json() "
   ]
  },
  {
   "cell_type": "code",
   "execution_count": 54,
   "metadata": {},
   "outputs": [
    {
     "data": {
      "text/plain": [
       "'129545568405'"
      ]
     },
     "execution_count": 54,
     "metadata": {},
     "output_type": "execute_result"
    }
   ],
   "source": [
    "total_trade[1][0]\n"
   ]
  },
  {
   "cell_type": "code",
   "execution_count": 63,
   "metadata": {},
   "outputs": [
    {
     "data": {
      "text/plain": [
       "[['DF', 'ALL_VAL_MO', 'ALL_VAL_YR', 'YEAR', 'MONTH'],\n",
       " ['-', '131915459503', '1578516879950', '2013', '12'],\n",
       " ['1', '114956497285', '1371134061205', '2013', '12'],\n",
       " ['2', '16958962218', '207382818745', '2013', '12']]"
      ]
     },
     "execution_count": 63,
     "metadata": {},
     "output_type": "execute_result"
    }
   ],
   "source": [
    "requests.get(f\"https://api.census.gov/data/timeseries/intltrade/exports/hs?get=DF,ALL_VAL_MO,ALL_VAL_YR&YEAR=2013&MONTH=12\").json()"
   ]
  },
  {
   "cell_type": "code",
   "execution_count": 64,
   "metadata": {},
   "outputs": [
    {
     "name": "stdout",
     "output_type": "stream",
     "text": [
      "[['CTY_CODE', 'CTY_NAME', 'ALL_VAL_MO', 'ALL_VAL_YR', 'time', 'CTY_CODE'],\n",
      " ['5700', 'CHINA', '9835259350', '9835259350', '2018-01', '5700'],\n",
      " ['5700', 'CHINA', '9806092670', '19641352020', '2018-02', '5700'],\n",
      " ['5700', 'CHINA', '12382086329', '32023438349', '2018-03', '5700'],\n",
      " ['5700', 'CHINA', '10268035458', '42291473807', '2018-04', '5700'],\n",
      " ['5700', 'CHINA', '10610817545', '52902291352', '2018-05', '5700'],\n",
      " ['5700', 'CHINA', '11115623430', '64017914782', '2018-06', '5700'],\n",
      " ['5700', 'CHINA', '10261688039', '74279602821', '2018-07', '5700'],\n",
      " ['5700', 'CHINA', '9294344300', '83573947121', '2018-08', '5700'],\n",
      " ['5700', 'CHINA', '9789081065', '93363028186', '2018-09', '5700'],\n",
      " ['5700', 'CHINA', '9130520323', '102493548509', '2018-10', '5700'],\n",
      " ['5700', 'CHINA', '8664895287', '111158443796', '2018-11', '5700'],\n",
      " ['5700', 'CHINA', '9182981845', '120341425641', '2018-12', '5700'],\n",
      " ['5700', 'CHINA', '7134335725', '7134335725', '2019-01', '5700']]\n"
     ]
    }
   ],
   "source": [
    "china_exports = requests.get(f\"{export_url}/hs?get=CTY_CODE,CTY_NAME,ALL_VAL_MO,ALL_VAL_YR&key={api_key}&time=from+2018-01&CTY_CODE={china_code}\").json()\n",
    "pprint(china_exports)"
   ]
  },
  {
   "cell_type": "code",
   "execution_count": null,
   "metadata": {},
   "outputs": [],
   "source": []
  },
  {
   "cell_type": "code",
   "execution_count": null,
   "metadata": {},
   "outputs": [],
   "source": []
  },
  {
   "cell_type": "code",
   "execution_count": null,
   "metadata": {},
   "outputs": [],
   "source": []
  },
  {
   "cell_type": "code",
   "execution_count": null,
   "metadata": {},
   "outputs": [],
   "source": []
  },
  {
   "cell_type": "code",
   "execution_count": null,
   "metadata": {},
   "outputs": [],
   "source": [
    "def parameters(x, y, view=False, csv=False):   \n",
    "    count =+1\n",
    "    paras = []\n",
    "    parameter_values = (x)\n",
    "    data_set = (y)\n",
    "\n",
    "    try:\n",
    "        response = requests.get(f\"{url}{method[3]}&datasetname={data_set}&ParameterName={parameter_values}\").json() \n",
    "        paras.append(response[\"BEAAPI\"][\"Results\"][\"ParamValue\"])\n",
    "        if view == True:\n",
    "            pprint(response[\"BEAAPI\"][\"Results\"][\"ParamValue\"])\n",
    "        elif csv == True:\n",
    "            paras = pd.DataFrame(paras)\n",
    "            paras.to_csv(\"output.csv\")  \n",
    "            print(\"output.csv uploaded\")\n",
    "        else:\n",
    "            print(f\"{parameter_values} Values Retrived\")\n",
    "    except:\n",
    "        try:\n",
    "            response = requests.get(f\"{url}{method[3]}&datasetname={data_set}&ParameterName={parameter_values}\").json() \n",
    "            paras.append(response[\"BEAAPI\"][\"Results\"][\"ParamValue\"])\n",
    "            if view == True:\n",
    "                pprint(response[\"BEAAPI\"][\"Results\"][\"ParamValue\"])\n",
    "            elif csv == True:\n",
    "                paras = pd.DataFrame(paras)\n",
    "                paras.to_csv(\"output.csv\")  \n",
    "            else:\n",
    "                print(f\"{parameter_values} List Retrived\")  \n",
    "        except:   \n",
    "            try:\n",
    "                response = requests.get(f\"{url}{method[1]}&datasetname={data_set}\").json() \n",
    "                paras.append(response[\"BEAAPI\"][\"Results\"][\"Parameter\"])\n",
    "                print(f\"{parameter_values} List Retrived\")  \n",
    "                if view == True:\n",
    "                    pprint(response[\"BEAAPI\"][\"Results\"][\"Parameter\"])\n",
    "                elif csv == True:\n",
    "                    paras = pd.DataFrame(paras)\n",
    "                    paras.to_csv(\"output.csv\")  \n",
    "                else:\n",
    "                    print(f\"{data_set} List Retrived\")      \n",
    "            except:\n",
    "                print(response)\n",
    "    return"
   ]
  }
 ],
 "metadata": {
  "kernelspec": {
   "display_name": "Python 3",
   "language": "python",
   "name": "python3"
  },
  "language_info": {
   "codemirror_mode": {
    "name": "ipython",
    "version": 3
   },
   "file_extension": ".py",
   "mimetype": "text/x-python",
   "name": "python",
   "nbconvert_exporter": "python",
   "pygments_lexer": "ipython3",
   "version": "3.6.5"
  }
 },
 "nbformat": 4,
 "nbformat_minor": 2
}
