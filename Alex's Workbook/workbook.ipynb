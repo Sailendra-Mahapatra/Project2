{
 "cells": [
  {
   "cell_type": "code",
   "execution_count": 1,
   "metadata": {},
   "outputs": [],
   "source": [
    "import datetime as dt\n",
    "import numpy as np\n",
    "import pandas as pd\n",
    "import requests\n",
    "import json\n",
    "from pprint import pprint\n",
    "import csv\n",
    "# from api_key import api_key\n",
    "from flask_sqlalchemy import SQLAlchemy\n",
    "from sqlalchemy.ext.automap import automap_base\n",
    "from sqlalchemy.orm import Session\n",
    "from sqlalchemy import create_engine, func\n",
    "import sqlalchemy"
   ]
  },
  {
   "cell_type": "code",
   "execution_count": 2,
   "metadata": {},
   "outputs": [],
   "source": [
    "api_key = \"93ba5366cb39b249dcbde95cc4d461e7b05b747d\"\n",
    "export_url = (f\"https://api.census.gov/data/timeseries/intltrade/exports\")\n",
    "import_url = (f\"https://api.census.gov/data/timeseries/intltrade/imports\")\n",
    "china_code = \"5700\"\n",
    "usa_code = \"1000\"\n",
    "month = []\n",
    "year = []\n",
    "#&ParameterName={parameter_name}\n",
    "#url = (f\"https://apps.bea.gov/api/data?&UserID={api_key}&method={get_data}&datasetname={dataset}&LineCode={line_code}&TableName={table_name}&GeoFIPS={geofip}&Year={year}\")\n",
    "\n",
    "#SAINC51\n",
    "#response = requests.get(url).json()       \n",
    "#list_response = requests.get(list_url).json()"
   ]
  },
  {
   "cell_type": "code",
   "execution_count": 38,
   "metadata": {},
   "outputs": [],
   "source": [
    "total_trade = requests.get(f\"{export_url}/hs?get=ALL_VAL_MO&key={api_key}&time=2019-01\").json() "
   ]
  },
  {
   "cell_type": "code",
   "execution_count": 39,
   "metadata": {},
   "outputs": [
    {
     "data": {
      "text/plain": [
       "'129545568405'"
      ]
     },
     "execution_count": 39,
     "metadata": {},
     "output_type": "execute_result"
    }
   ],
   "source": [
    "total_trade[1][0]\n"
   ]
  },
  {
   "cell_type": "code",
   "execution_count": 40,
   "metadata": {},
   "outputs": [
    {
     "data": {
      "text/plain": [
       "[['DF', 'ALL_VAL_MO', 'ALL_VAL_YR', 'YEAR', 'MONTH'],\n",
       " ['-', '131915459503', '1578516879950', '2013', '12'],\n",
       " ['1', '114956497285', '1371134061205', '2013', '12'],\n",
       " ['2', '16958962218', '207382818745', '2013', '12']]"
      ]
     },
     "execution_count": 40,
     "metadata": {},
     "output_type": "execute_result"
    }
   ],
   "source": [
    "requests.get(f\"https://api.census.gov/data/timeseries/intltrade/exports/hs?get=DF,ALL_VAL_MO,ALL_VAL_YR&YEAR=2013&MONTH=12\").json()"
   ]
  },
  {
   "cell_type": "code",
   "execution_count": 43,
   "metadata": {},
   "outputs": [
    {
     "name": "stdout",
     "output_type": "stream",
     "text": [
      "[['ALL_VAL_MO', 'ALL_VAL_YR', 'time', 'CTY_CODE'],\n",
      " ['9459198394', '9459198394', '2015-01', '5700'],\n",
      " ['8754588178', '18213786572', '2015-02', '5700'],\n",
      " ['9886519164', '28100305736', '2015-03', '5700'],\n",
      " ['9279912850', '37380218586', '2015-04', '5700'],\n",
      " ['8749787563', '46130006149', '2015-05', '5700'],\n",
      " ['9615754115', '55745760264', '2015-06', '5700'],\n",
      " ['9505173559', '65250933823', '2015-07', '5700'],\n",
      " ['9183456081', '74434389904', '2015-08', '5700'],\n",
      " ['9419421166', '83853811070', '2015-09', '5700'],\n",
      " ['11324856248', '95178667318', '2015-10', '5700'],\n",
      " ['10603592681', '105782259999', '2015-11', '5700'],\n",
      " ['10091105315', '115873365314', '2015-12', '5700'],\n",
      " ['8202841436', '8202841436', '2016-01', '5700'],\n",
      " ['8070084594', '16272926030', '2016-02', '5700'],\n",
      " ['8916286008', '25189212038', '2016-03', '5700'],\n",
      " ['8672731969', '33861944007', '2016-04', '5700'],\n",
      " ['8539888162', '42401832169', '2016-05', '5700'],\n",
      " ['8838793248', '51240625417', '2016-06', '5700'],\n",
      " ['9128143401', '60368768818', '2016-07', '5700'],\n",
      " ['9370430626', '69739199444', '2016-08', '5700'],\n",
      " ['9519995549', '79259194993', '2016-09', '5700'],\n",
      " ['12598556248', '91857751241', '2016-10', '5700'],\n",
      " ['12039500847', '103897252088', '2016-11', '5700'],\n",
      " ['11648255572', '115545507660', '2016-12', '5700'],\n",
      " ['9961097157', '9961097157', '2017-01', '5700'],\n",
      " ['9735785625', '19696882782', '2017-02', '5700'],\n",
      " ['9719186451', '29416069233', '2017-03', '5700'],\n",
      " ['9805657653', '39221726886', '2017-04', '5700'],\n",
      " ['9862177185', '49083904071', '2017-05', '5700'],\n",
      " ['9717402236', '58801306307', '2017-06', '5700'],\n",
      " ['9979057962', '68780364269', '2017-07', '5700'],\n",
      " ['10828339314', '79608703583', '2017-08', '5700'],\n",
      " ['10911677353', '90520380936', '2017-09', '5700'],\n",
      " ['12963434465', '103483815401', '2017-10', '5700'],\n",
      " ['12765021147', '116248836548', '2017-11', '5700'],\n",
      " ['13644750168', '129893586716', '2017-12', '5700'],\n",
      " ['9835259350', '9835259350', '2018-01', '5700'],\n",
      " ['9806092670', '19641352020', '2018-02', '5700'],\n",
      " ['12382086329', '32023438349', '2018-03', '5700'],\n",
      " ['10268035458', '42291473807', '2018-04', '5700'],\n",
      " ['10610817545', '52902291352', '2018-05', '5700'],\n",
      " ['11115623430', '64017914782', '2018-06', '5700'],\n",
      " ['10261688039', '74279602821', '2018-07', '5700'],\n",
      " ['9294344300', '83573947121', '2018-08', '5700'],\n",
      " ['9789081065', '93363028186', '2018-09', '5700'],\n",
      " ['9130520323', '102493548509', '2018-10', '5700'],\n",
      " ['8664895287', '111158443796', '2018-11', '5700'],\n",
      " ['9182981845', '120341425641', '2018-12', '5700'],\n",
      " ['7134335725', '7134335725', '2019-01', '5700']]\n"
     ]
    }
   ],
   "source": [
    "china_exports = requests.get(f\"{export_url}/hs?get=ALL_VAL_MO,ALL_VAL_YR&key={api_key}&time=from+2015-01&CTY_CODE={china_code}\").json()\n",
    "pprint(china_exports)"
   ]
  },
  {
   "cell_type": "code",
   "execution_count": 44,
   "metadata": {},
   "outputs": [
    {
     "name": "stdout",
     "output_type": "stream",
     "text": [
      "clear\n"
     ]
    }
   ],
   "source": [
    "requests.get(f\"{export_url}/hs?get=CTY_CODE,CTY_NAME,ALL_VAL_MO,ALL_VAL_YR,E_COMMODITY_LDESC&key={api_key}&time=from+2015-01&CTY_CODE={china_code}\").json()\n",
    "print(\"clear\")"
   ]
  },
  {
   "cell_type": "code",
   "execution_count": 45,
   "metadata": {},
   "outputs": [],
   "source": [
    "export_by_commodity = requests.get(f\"{export_url}/hs?get=E_COMMODITY,E_COMMODITY_SDESC,ALL_VAL_MO,ALL_VAL_YR&key={api_key}&time=from+2015-01&COMM_LVL=HS4&CTY_CODE={china_code}\").json()\n"
   ]
  },
  {
   "cell_type": "code",
   "execution_count": 47,
   "metadata": {},
   "outputs": [
    {
     "data": {
      "text/plain": [
       "54073"
      ]
     },
     "execution_count": 47,
     "metadata": {},
     "output_type": "execute_result"
    }
   ],
   "source": [
    "len(export_by_commodity)"
   ]
  },
  {
   "cell_type": "code",
   "execution_count": 48,
   "metadata": {},
   "outputs": [],
   "source": [
    "count = 1\n",
    "movalue = []\n",
    "yrvalue = []\n",
    "period = []\n",
    "desc = []\n",
    "code = []\n",
    "while count < 54072:\n",
    "    count += 1\n",
    "    movalue.append(export_by_commodity[count][2])\n",
    "    yrvalue.append(export_by_commodity[count][3])\n",
    "    desc.append(export_by_commodity[count][1])\n",
    "    period.append(export_by_commodity[count][4])\n",
    "    code.append(export_by_commodity[count][0])\n",
    "china_data = pd.DataFrame({\"YTD Value\" : yrvalue,\n",
    "                           \"Monthly Value \" : movalue,\n",
    "                          \"Period\" : period,\n",
    "                          \"Commodity\" : desc,\n",
    "                          \"Comm Code\": code})"
   ]
  },
  {
   "cell_type": "code",
   "execution_count": 51,
   "metadata": {},
   "outputs": [
    {
     "data": {
      "text/html": [
       "<div>\n",
       "<style scoped>\n",
       "    .dataframe tbody tr th:only-of-type {\n",
       "        vertical-align: middle;\n",
       "    }\n",
       "\n",
       "    .dataframe tbody tr th {\n",
       "        vertical-align: top;\n",
       "    }\n",
       "\n",
       "    .dataframe thead th {\n",
       "        text-align: right;\n",
       "    }\n",
       "</style>\n",
       "<table border=\"1\" class=\"dataframe\">\n",
       "  <thead>\n",
       "    <tr style=\"text-align: right;\">\n",
       "      <th></th>\n",
       "      <th>YTD Value</th>\n",
       "      <th>Monthly Value</th>\n",
       "      <th>Period</th>\n",
       "      <th>Commodity</th>\n",
       "      <th>Comm Code</th>\n",
       "    </tr>\n",
       "  </thead>\n",
       "  <tbody>\n",
       "    <tr>\n",
       "      <th>54066</th>\n",
       "      <td>320405</td>\n",
       "      <td>37821</td>\n",
       "      <td>2018-08</td>\n",
       "      <td>MONOPODS, BIPODS, TRIPODS AND SIMILAR ARTICLES</td>\n",
       "      <td>9620</td>\n",
       "    </tr>\n",
       "    <tr>\n",
       "      <th>54067</th>\n",
       "      <td>327518</td>\n",
       "      <td>7113</td>\n",
       "      <td>2018-09</td>\n",
       "      <td>MONOPODS, BIPODS, TRIPODS AND SIMILAR ARTICLES</td>\n",
       "      <td>9620</td>\n",
       "    </tr>\n",
       "    <tr>\n",
       "      <th>54068</th>\n",
       "      <td>361042</td>\n",
       "      <td>33524</td>\n",
       "      <td>2018-10</td>\n",
       "      <td>MONOPODS, BIPODS, TRIPODS AND SIMILAR ARTICLES</td>\n",
       "      <td>9620</td>\n",
       "    </tr>\n",
       "    <tr>\n",
       "      <th>54069</th>\n",
       "      <td>399482</td>\n",
       "      <td>38440</td>\n",
       "      <td>2018-11</td>\n",
       "      <td>MONOPODS, BIPODS, TRIPODS AND SIMILAR ARTICLES</td>\n",
       "      <td>9620</td>\n",
       "    </tr>\n",
       "    <tr>\n",
       "      <th>54070</th>\n",
       "      <td>444867</td>\n",
       "      <td>45385</td>\n",
       "      <td>2018-12</td>\n",
       "      <td>MONOPODS, BIPODS, TRIPODS AND SIMILAR ARTICLES</td>\n",
       "      <td>9620</td>\n",
       "    </tr>\n",
       "  </tbody>\n",
       "</table>\n",
       "</div>"
      ],
      "text/plain": [
       "      YTD Value Monthly Value    Period  \\\n",
       "54066    320405          37821  2018-08   \n",
       "54067    327518           7113  2018-09   \n",
       "54068    361042          33524  2018-10   \n",
       "54069    399482          38440  2018-11   \n",
       "54070    444867          45385  2018-12   \n",
       "\n",
       "                                            Commodity Comm Code  \n",
       "54066  MONOPODS, BIPODS, TRIPODS AND SIMILAR ARTICLES      9620  \n",
       "54067  MONOPODS, BIPODS, TRIPODS AND SIMILAR ARTICLES      9620  \n",
       "54068  MONOPODS, BIPODS, TRIPODS AND SIMILAR ARTICLES      9620  \n",
       "54069  MONOPODS, BIPODS, TRIPODS AND SIMILAR ARTICLES      9620  \n",
       "54070  MONOPODS, BIPODS, TRIPODS AND SIMILAR ARTICLES      9620  "
      ]
     },
     "execution_count": 51,
     "metadata": {},
     "output_type": "execute_result"
    }
   ],
   "source": [
    "\n",
    "china_data.tail()"
   ]
  },
  {
   "cell_type": "code",
   "execution_count": 3,
   "metadata": {},
   "outputs": [],
   "source": [
    "engine = create_engine('sqlite:///../data/china_trade.sqlite', echo=False)\n"
   ]
  },
  {
   "cell_type": "code",
   "execution_count": null,
   "metadata": {},
   "outputs": [],
   "source": []
  },
  {
   "cell_type": "code",
   "execution_count": 2,
   "metadata": {},
   "outputs": [],
   "source": [
    "#china_data.to_sql('export', con=engine, if_exists='replace') #dont run this again"
   ]
  },
  {
   "cell_type": "code",
   "execution_count": 24,
   "metadata": {},
   "outputs": [],
   "source": [
    "import_by_commodity = requests.get(f\"{import_url}/hs?get=I_COMMODITY,I_COMMODITY_SDESC,GEN_VAL_MO,GEN_VAL_YR&key={api_key}&time=from+2015-01&COMM_LVL=HS4&CTY_CODE={china_code}\").json()"
   ]
  },
  {
   "cell_type": "code",
   "execution_count": 55,
   "metadata": {},
   "outputs": [],
   "source": [
    "count = 1\n",
    "movalue = []\n",
    "yrvalue = []\n",
    "period = []\n",
    "desc = []\n",
    "code = []\n",
    "while count < 55352:\n",
    "    count += 1\n",
    "    movalue.append(import_by_commodity[count][2])\n",
    "    yrvalue.append(import_by_commodity[count][3])\n",
    "    desc.append(import_by_commodity[count][1])\n",
    "    period.append(import_by_commodity[count][4])\n",
    "    code.append(import_by_commodity[count][0])\n",
    "import_china_data = pd.DataFrame({\"YTD Value\" : yrvalue,\n",
    "                           \"Monthly Value \" : movalue,\n",
    "                          \"Period\" : period,\n",
    "                          \"Commodity\" : desc,\n",
    "                          \"Comm Code\": code})"
   ]
  },
  {
   "cell_type": "code",
   "execution_count": 1,
   "metadata": {},
   "outputs": [],
   "source": [
    "#import_china_data.to_sql('import', con=engine, if_exists='replace') "
   ]
  },
  {
   "cell_type": "code",
   "execution_count": null,
   "metadata": {},
   "outputs": [],
   "source": [
    "#import_china_data"
   ]
  },
  {
   "cell_type": "code",
   "execution_count": 45,
   "metadata": {},
   "outputs": [],
   "source": [
    "engine = create_engine('sqlite:///../data/china_trade.sqlite')\n",
    "#engine = create_engine(\"sqlite:///db/china_trade.sqlite\")\n",
    "\n",
    "\n"
   ]
  },
  {
   "cell_type": "code",
   "execution_count": 46,
   "metadata": {},
   "outputs": [],
   "source": [
    "Base = automap_base()\n",
    "Base.prepare(engine, reflect=True)\n",
    "session = Session(engine)\n"
   ]
  },
  {
   "cell_type": "code",
   "execution_count": 47,
   "metadata": {},
   "outputs": [
    {
     "data": {
      "text/plain": [
       "['export', 'imports']"
      ]
     },
     "execution_count": 47,
     "metadata": {},
     "output_type": "execute_result"
    }
   ],
   "source": [
    "Base.classes.keys()"
   ]
  },
  {
   "cell_type": "code",
   "execution_count": 48,
   "metadata": {},
   "outputs": [],
   "source": [
    "Imports = Base.classes.imports"
   ]
  },
  {
   "cell_type": "code",
   "execution_count": null,
   "metadata": {},
   "outputs": [],
   "source": []
  },
  {
   "cell_type": "code",
   "execution_count": 49,
   "metadata": {},
   "outputs": [],
   "source": [
    "Exports = Base.classes.export"
   ]
  },
  {
   "cell_type": "code",
   "execution_count": 50,
   "metadata": {},
   "outputs": [
    {
     "data": {
      "text/plain": [
       "{'Description': 'FISH, DRIED, SALTED ETC, SMOKED ETC; ED FISH MEAL',\n",
       " 'HSC': 305,\n",
       " 'MoValue ': 274324,\n",
       " 'Period': '2015-02',\n",
       " 'YTDValue': 310025,\n",
       " '_sa_instance_state': <sqlalchemy.orm.state.InstanceState at 0x224f2358d68>,\n",
       " 'index': 0}"
      ]
     },
     "execution_count": 50,
     "metadata": {},
     "output_type": "execute_result"
    }
   ],
   "source": [
    "exports = session.query(Exports).first()\n",
    "exports.__dict__\n"
   ]
  },
  {
   "cell_type": "code",
   "execution_count": 51,
   "metadata": {},
   "outputs": [],
   "source": [
    "results = session.query(Imports).statement\n"
   ]
  },
  {
   "cell_type": "code",
   "execution_count": 52,
   "metadata": {},
   "outputs": [],
   "source": [
    "df = pd.read_sql_query(results, session.bind)"
   ]
  },
  {
   "cell_type": "code",
   "execution_count": 53,
   "metadata": {},
   "outputs": [
    {
     "data": {
      "text/plain": [
       "Index(['index', 'YTDValue', 'MoValue', 'Period', 'Description', 'HSC'], dtype='object')"
      ]
     },
     "execution_count": 53,
     "metadata": {},
     "output_type": "execute_result"
    }
   ],
   "source": [
    "df.columns"
   ]
  },
  {
   "cell_type": "code",
   "execution_count": null,
   "metadata": {},
   "outputs": [],
   "source": []
  },
  {
   "cell_type": "code",
   "execution_count": 54,
   "metadata": {},
   "outputs": [
    {
     "data": {
      "text/plain": [
       "['index', 'YTDValue', 'MoValue', 'Period', 'Description', 'HSC']"
      ]
     },
     "execution_count": 54,
     "metadata": {},
     "output_type": "execute_result"
    }
   ],
   "source": [
    "list(df.columns)"
   ]
  },
  {
   "cell_type": "code",
   "execution_count": 57,
   "metadata": {},
   "outputs": [],
   "source": [
    "sel = [\n",
    "        Imports.Description,\n",
    "        Imports.YTDValue,\n",
    "        Imports.MoValue,\n",
    "        Imports.Period,\n",
    "        Imports.HSC\n",
    "    ]"
   ]
  },
  {
   "cell_type": "code",
   "execution_count": 58,
   "metadata": {},
   "outputs": [
    {
     "data": {
      "text/plain": [
       "[('FISH, DRIED, SALTED ETC, SMOKED ETC; ED FISH MEAL',\n",
       "  12238358,\n",
       "  5385854,\n",
       "  '2015-02',\n",
       "  305),\n",
       " ('FISH, DRIED, SALTED ETC, SMOKED ETC; ED FISH MEAL',\n",
       "  16629923,\n",
       "  4391565,\n",
       "  '2015-03',\n",
       "  305),\n",
       " ('FISH, DRIED, SALTED ETC, SMOKED ETC; ED FISH MEAL',\n",
       "  19522841,\n",
       "  2892918,\n",
       "  '2015-04',\n",
       "  305),\n",
       " ('FISH, DRIED, SALTED ETC, SMOKED ETC; ED FISH MEAL',\n",
       "  23971868,\n",
       "  4449027,\n",
       "  '2015-05',\n",
       "  305),\n",
       " ('FISH, DRIED, SALTED ETC, SMOKED ETC; ED FISH MEAL',\n",
       "  29755208,\n",
       "  5783340,\n",
       "  '2015-06',\n",
       "  305),\n",
       " ('FISH, DRIED, SALTED ETC, SMOKED ETC; ED FISH MEAL',\n",
       "  35828070,\n",
       "  6072862,\n",
       "  '2015-07',\n",
       "  305),\n",
       " ('FISH, DRIED, SALTED ETC, SMOKED ETC; ED FISH MEAL',\n",
       "  40715428,\n",
       "  4887358,\n",
       "  '2015-08',\n",
       "  305),\n",
       " ('FISH, DRIED, SALTED ETC, SMOKED ETC; ED FISH MEAL',\n",
       "  46719724,\n",
       "  6004296,\n",
       "  '2015-09',\n",
       "  305),\n",
       " ('FISH, DRIED, SALTED ETC, SMOKED ETC; ED FISH MEAL',\n",
       "  51674573,\n",
       "  4954849,\n",
       "  '2015-10',\n",
       "  305),\n",
       " ('FISH, DRIED, SALTED ETC, SMOKED ETC; ED FISH MEAL',\n",
       "  57521143,\n",
       "  5846570,\n",
       "  '2015-11',\n",
       "  305),\n",
       " ('FISH, DRIED, SALTED ETC, SMOKED ETC; ED FISH MEAL',\n",
       "  62787036,\n",
       "  5265893,\n",
       "  '2015-12',\n",
       "  305),\n",
       " ('FISH, DRIED, SALTED ETC, SMOKED ETC; ED FISH MEAL',\n",
       "  5995226,\n",
       "  5995226,\n",
       "  '2016-01',\n",
       "  305),\n",
       " ('FISH, DRIED, SALTED ETC, SMOKED ETC; ED FISH MEAL',\n",
       "  12011644,\n",
       "  6016418,\n",
       "  '2016-02',\n",
       "  305),\n",
       " ('FISH, DRIED, SALTED ETC, SMOKED ETC; ED FISH MEAL',\n",
       "  14496728,\n",
       "  2485084,\n",
       "  '2016-03',\n",
       "  305),\n",
       " ('FISH, DRIED, SALTED ETC, SMOKED ETC; ED FISH MEAL',\n",
       "  17683566,\n",
       "  3186838,\n",
       "  '2016-04',\n",
       "  305),\n",
       " ('FISH, DRIED, SALTED ETC, SMOKED ETC; ED FISH MEAL',\n",
       "  21363425,\n",
       "  3679859,\n",
       "  '2016-05',\n",
       "  305),\n",
       " ('FISH, DRIED, SALTED ETC, SMOKED ETC; ED FISH MEAL',\n",
       "  25098751,\n",
       "  3735326,\n",
       "  '2016-06',\n",
       "  305),\n",
       " ('FISH, DRIED, SALTED ETC, SMOKED ETC; ED FISH MEAL',\n",
       "  29254450,\n",
       "  4155699,\n",
       "  '2016-07',\n",
       "  305),\n",
       " ('FISH, DRIED, SALTED ETC, SMOKED ETC; ED FISH MEAL',\n",
       "  34091277,\n",
       "  4836827,\n",
       "  '2016-08',\n",
       "  305),\n",
       " ('FISH, DRIED, SALTED ETC, SMOKED ETC; ED FISH MEAL',\n",
       "  37074738,\n",
       "  2983461,\n",
       "  '2016-09',\n",
       "  305),\n",
       " ('FISH, DRIED, SALTED ETC, SMOKED ETC; ED FISH MEAL',\n",
       "  41887059,\n",
       "  4812321,\n",
       "  '2016-10',\n",
       "  305),\n",
       " ('FISH, DRIED, SALTED ETC, SMOKED ETC; ED FISH MEAL',\n",
       "  47419965,\n",
       "  5532906,\n",
       "  '2016-11',\n",
       "  305),\n",
       " ('FISH, DRIED, SALTED ETC, SMOKED ETC; ED FISH MEAL',\n",
       "  53795905,\n",
       "  6375940,\n",
       "  '2016-12',\n",
       "  305),\n",
       " ('FISH, DRIED, SALTED ETC, SMOKED ETC; ED FISH MEAL',\n",
       "  7283966,\n",
       "  7283966,\n",
       "  '2017-01',\n",
       "  305),\n",
       " ('FISH, DRIED, SALTED ETC, SMOKED ETC; ED FISH MEAL',\n",
       "  14338683,\n",
       "  7054717,\n",
       "  '2017-02',\n",
       "  305),\n",
       " ('FISH, DRIED, SALTED ETC, SMOKED ETC; ED FISH MEAL',\n",
       "  17735238,\n",
       "  3396555,\n",
       "  '2017-03',\n",
       "  305),\n",
       " ('FISH, DRIED, SALTED ETC, SMOKED ETC; ED FISH MEAL',\n",
       "  22042017,\n",
       "  4306779,\n",
       "  '2017-04',\n",
       "  305),\n",
       " ('FISH, DRIED, SALTED ETC, SMOKED ETC; ED FISH MEAL',\n",
       "  25051907,\n",
       "  3009890,\n",
       "  '2017-05',\n",
       "  305),\n",
       " ('FISH, DRIED, SALTED ETC, SMOKED ETC; ED FISH MEAL',\n",
       "  29235727,\n",
       "  4183820,\n",
       "  '2017-06',\n",
       "  305),\n",
       " ('FISH, DRIED, SALTED ETC, SMOKED ETC; ED FISH MEAL',\n",
       "  32587371,\n",
       "  3351644,\n",
       "  '2017-07',\n",
       "  305),\n",
       " ('FISH, DRIED, SALTED ETC, SMOKED ETC; ED FISH MEAL',\n",
       "  35960479,\n",
       "  3373108,\n",
       "  '2017-08',\n",
       "  305),\n",
       " ('FISH, DRIED, SALTED ETC, SMOKED ETC; ED FISH MEAL',\n",
       "  40227545,\n",
       "  4267066,\n",
       "  '2017-09',\n",
       "  305),\n",
       " ('FISH, DRIED, SALTED ETC, SMOKED ETC; ED FISH MEAL',\n",
       "  44686323,\n",
       "  4458778,\n",
       "  '2017-10',\n",
       "  305),\n",
       " ('FISH, DRIED, SALTED ETC, SMOKED ETC; ED FISH MEAL',\n",
       "  49806327,\n",
       "  5120004,\n",
       "  '2017-11',\n",
       "  305),\n",
       " ('FISH, DRIED, SALTED ETC, SMOKED ETC; ED FISH MEAL',\n",
       "  55285833,\n",
       "  5479506,\n",
       "  '2017-12',\n",
       "  305),\n",
       " ('FISH, DRIED, SALTED ETC, SMOKED ETC; ED FISH MEAL',\n",
       "  5953385,\n",
       "  5953385,\n",
       "  '2018-01',\n",
       "  305),\n",
       " ('FISH, DRIED, SALTED ETC, SMOKED ETC; ED FISH MEAL',\n",
       "  12014322,\n",
       "  6060937,\n",
       "  '2018-02',\n",
       "  305),\n",
       " ('FISH, DRIED, SALTED ETC, SMOKED ETC; ED FISH MEAL',\n",
       "  17062171,\n",
       "  5047849,\n",
       "  '2018-03',\n",
       "  305),\n",
       " ('FISH, DRIED, SALTED ETC, SMOKED ETC; ED FISH MEAL',\n",
       "  20243022,\n",
       "  3180851,\n",
       "  '2018-04',\n",
       "  305),\n",
       " ('FISH, DRIED, SALTED ETC, SMOKED ETC; ED FISH MEAL',\n",
       "  23957792,\n",
       "  3714770,\n",
       "  '2018-05',\n",
       "  305),\n",
       " ('FISH, DRIED, SALTED ETC, SMOKED ETC; ED FISH MEAL',\n",
       "  28155274,\n",
       "  4197482,\n",
       "  '2018-06',\n",
       "  305),\n",
       " ('FISH, DRIED, SALTED ETC, SMOKED ETC; ED FISH MEAL',\n",
       "  31523584,\n",
       "  3368310,\n",
       "  '2018-07',\n",
       "  305),\n",
       " ('FISH, DRIED, SALTED ETC, SMOKED ETC; ED FISH MEAL',\n",
       "  35327540,\n",
       "  3803956,\n",
       "  '2018-08',\n",
       "  305),\n",
       " ('FISH, DRIED, SALTED ETC, SMOKED ETC; ED FISH MEAL',\n",
       "  39209178,\n",
       "  3881638,\n",
       "  '2018-09',\n",
       "  305),\n",
       " ('FISH, DRIED, SALTED ETC, SMOKED ETC; ED FISH MEAL',\n",
       "  43868738,\n",
       "  4659560,\n",
       "  '2018-10',\n",
       "  305),\n",
       " ('FISH, DRIED, SALTED ETC, SMOKED ETC; ED FISH MEAL',\n",
       "  48954548,\n",
       "  5085810,\n",
       "  '2018-11',\n",
       "  305),\n",
       " ('FISH, DRIED, SALTED ETC, SMOKED ETC; ED FISH MEAL',\n",
       "  55674863,\n",
       "  6720315,\n",
       "  '2018-12',\n",
       "  305),\n",
       " ('FISH, DRIED, SALTED ETC, SMOKED ETC; ED FISH MEAL',\n",
       "  4251633,\n",
       "  4251633,\n",
       "  '2019-01',\n",
       "  305)]"
      ]
     },
     "execution_count": 58,
     "metadata": {},
     "output_type": "execute_result"
    }
   ],
   "source": [
    "session.query(*sel).filter(Imports.HSC == \"305\").all()"
   ]
  },
  {
   "cell_type": "code",
   "execution_count": null,
   "metadata": {},
   "outputs": [],
   "source": []
  }
 ],
 "metadata": {
  "kernelspec": {
   "display_name": "Python 3",
   "language": "python",
   "name": "python3"
  },
  "language_info": {
   "codemirror_mode": {
    "name": "ipython",
    "version": 3
   },
   "file_extension": ".py",
   "mimetype": "text/x-python",
   "name": "python",
   "nbconvert_exporter": "python",
   "pygments_lexer": "ipython3",
   "version": "3.6.5"
  }
 },
 "nbformat": 4,
 "nbformat_minor": 2
}
