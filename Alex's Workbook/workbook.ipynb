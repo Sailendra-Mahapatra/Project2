{
 "cells": [
  {
   "cell_type": "code",
   "execution_count": 435,
   "metadata": {},
   "outputs": [],
   "source": [
    "import datetime as dt\n",
    "import numpy as np\n",
    "import pandas as pd\n",
    "import requests\n",
    "import json\n",
    "from pprint import pprint\n",
    "import csv\n",
    "# from api_key import api_key\n",
    "from flask import Flask, jsonify, render_template\n",
    "\n",
    "from flask_sqlalchemy import SQLAlchemy\n",
    "from sqlalchemy.ext.automap import automap_base\n",
    "from sqlalchemy.orm import Session\n",
    "from sqlalchemy import create_engine, func\n",
    "import sqlalchemy"
   ]
  },
  {
   "cell_type": "code",
   "execution_count": 436,
   "metadata": {},
   "outputs": [],
   "source": [
    "api_key = \"93ba5366cb39b249dcbde95cc4d461e7b05b747d\"\n",
    "export_url = (f\"https://api.census.gov/data/timeseries/intltrade/exports\")\n",
    "import_url = (f\"https://api.census.gov/data/timeseries/intltrade/imports\")\n",
    "china_code = \"5700\"\n",
    "usa_code = \"1000\"\n",
    "month = []\n",
    "year = []\n",
    "#&ParameterName={parameter_name}\n",
    "#url = (f\"https://apps.bea.gov/api/data?&UserID={api_key}&method={get_data}&datasetname={dataset}&LineCode={line_code}&TableName={table_name}&GeoFIPS={geofip}&Year={year}\")\n",
    "\n",
    "#SAINC51\n",
    "#response = requests.get(url).json()       \n",
    "#list_response = requests.get(list_url).json()"
   ]
  },
  {
   "cell_type": "code",
   "execution_count": 38,
   "metadata": {},
   "outputs": [],
   "source": [
    "total_trade = requests.get(f\"{export_url}/hs?get=ALL_VAL_MO&key={api_key}&time=2019-01\").json() "
   ]
  },
  {
   "cell_type": "code",
   "execution_count": 39,
   "metadata": {},
   "outputs": [
    {
     "data": {
      "text/plain": [
       "'129545568405'"
      ]
     },
     "execution_count": 39,
     "metadata": {},
     "output_type": "execute_result"
    }
   ],
   "source": [
    "total_trade[1][0]\n"
   ]
  },
  {
   "cell_type": "code",
   "execution_count": 40,
   "metadata": {},
   "outputs": [
    {
     "data": {
      "text/plain": [
       "[['DF', 'ALL_VAL_MO', 'ALL_VAL_YR', 'YEAR', 'MONTH'],\n",
       " ['-', '131915459503', '1578516879950', '2013', '12'],\n",
       " ['1', '114956497285', '1371134061205', '2013', '12'],\n",
       " ['2', '16958962218', '207382818745', '2013', '12']]"
      ]
     },
     "execution_count": 40,
     "metadata": {},
     "output_type": "execute_result"
    }
   ],
   "source": [
    "requests.get(f\"https://api.census.gov/data/timeseries/intltrade/exports/hs?get=DF,ALL_VAL_MO,ALL_VAL_YR&YEAR=2013&MONTH=12\").json()"
   ]
  },
  {
   "cell_type": "code",
   "execution_count": 160,
   "metadata": {},
   "outputs": [],
   "source": [
    "china_exports = requests.get(f\"{export_url}/hs?get=ALL_VAL_MO,ALL_VAL_YR&key={api_key}&time=from+2015-01&CTY_CODE={china_code}\").json()\n"
   ]
  },
  {
   "cell_type": "code",
   "execution_count": 44,
   "metadata": {},
   "outputs": [
    {
     "name": "stdout",
     "output_type": "stream",
     "text": [
      "clear\n"
     ]
    }
   ],
   "source": [
    "# requests.get(f\"{export_url}/hs?get=CTY_CODE,CTY_NAME,ALL_VAL_MO,ALL_VAL_YR,E_COMMODITY_LDESC&key={api_key}&time=from+2015-01&CTY_CODE={china_code}\").json()\n"
   ]
  },
  {
   "cell_type": "code",
   "execution_count": 45,
   "metadata": {},
   "outputs": [],
   "source": [
    "# export_by_commodity = requests.get(f\"{export_url}/hs?get=E_COMMODITY,E_COMMODITY_SDESC,ALL_VAL_MO,ALL_VAL_YR&key={api_key}&time=from+2015-01&COMM_LVL=HS4&CTY_CODE={china_code}\").json()\n"
   ]
  },
  {
   "cell_type": "code",
   "execution_count": 47,
   "metadata": {},
   "outputs": [
    {
     "data": {
      "text/plain": [
       "54073"
      ]
     },
     "execution_count": 47,
     "metadata": {},
     "output_type": "execute_result"
    }
   ],
   "source": [
    "len(export_by_commodity)"
   ]
  },
  {
   "cell_type": "code",
   "execution_count": 48,
   "metadata": {},
   "outputs": [],
   "source": [
    "count = 1\n",
    "movalue = []\n",
    "yrvalue = []\n",
    "period = []\n",
    "desc = []\n",
    "code = []\n",
    "while count < 54072:\n",
    "    count += 1\n",
    "    movalue.append(export_by_commodity[count][2])\n",
    "    yrvalue.append(export_by_commodity[count][3])\n",
    "    desc.append(export_by_commodity[count][1])\n",
    "    period.append(export_by_commodity[count][4])\n",
    "    code.append(export_by_commodity[count][0])\n",
    "china_data = pd.DataFrame({\"YTD Value\" : yrvalue,\n",
    "                           \"Monthly Value \" : movalue,\n",
    "                          \"Period\" : period,\n",
    "                          \"Commodity\" : desc,\n",
    "                          \"Comm Code\": code})"
   ]
  },
  {
   "cell_type": "code",
   "execution_count": 51,
   "metadata": {},
   "outputs": [
    {
     "data": {
      "text/html": [
       "<div>\n",
       "<style scoped>\n",
       "    .dataframe tbody tr th:only-of-type {\n",
       "        vertical-align: middle;\n",
       "    }\n",
       "\n",
       "    .dataframe tbody tr th {\n",
       "        vertical-align: top;\n",
       "    }\n",
       "\n",
       "    .dataframe thead th {\n",
       "        text-align: right;\n",
       "    }\n",
       "</style>\n",
       "<table border=\"1\" class=\"dataframe\">\n",
       "  <thead>\n",
       "    <tr style=\"text-align: right;\">\n",
       "      <th></th>\n",
       "      <th>YTD Value</th>\n",
       "      <th>Monthly Value</th>\n",
       "      <th>Period</th>\n",
       "      <th>Commodity</th>\n",
       "      <th>Comm Code</th>\n",
       "    </tr>\n",
       "  </thead>\n",
       "  <tbody>\n",
       "    <tr>\n",
       "      <th>54066</th>\n",
       "      <td>320405</td>\n",
       "      <td>37821</td>\n",
       "      <td>2018-08</td>\n",
       "      <td>MONOPODS, BIPODS, TRIPODS AND SIMILAR ARTICLES</td>\n",
       "      <td>9620</td>\n",
       "    </tr>\n",
       "    <tr>\n",
       "      <th>54067</th>\n",
       "      <td>327518</td>\n",
       "      <td>7113</td>\n",
       "      <td>2018-09</td>\n",
       "      <td>MONOPODS, BIPODS, TRIPODS AND SIMILAR ARTICLES</td>\n",
       "      <td>9620</td>\n",
       "    </tr>\n",
       "    <tr>\n",
       "      <th>54068</th>\n",
       "      <td>361042</td>\n",
       "      <td>33524</td>\n",
       "      <td>2018-10</td>\n",
       "      <td>MONOPODS, BIPODS, TRIPODS AND SIMILAR ARTICLES</td>\n",
       "      <td>9620</td>\n",
       "    </tr>\n",
       "    <tr>\n",
       "      <th>54069</th>\n",
       "      <td>399482</td>\n",
       "      <td>38440</td>\n",
       "      <td>2018-11</td>\n",
       "      <td>MONOPODS, BIPODS, TRIPODS AND SIMILAR ARTICLES</td>\n",
       "      <td>9620</td>\n",
       "    </tr>\n",
       "    <tr>\n",
       "      <th>54070</th>\n",
       "      <td>444867</td>\n",
       "      <td>45385</td>\n",
       "      <td>2018-12</td>\n",
       "      <td>MONOPODS, BIPODS, TRIPODS AND SIMILAR ARTICLES</td>\n",
       "      <td>9620</td>\n",
       "    </tr>\n",
       "  </tbody>\n",
       "</table>\n",
       "</div>"
      ],
      "text/plain": [
       "      YTD Value Monthly Value    Period  \\\n",
       "54066    320405          37821  2018-08   \n",
       "54067    327518           7113  2018-09   \n",
       "54068    361042          33524  2018-10   \n",
       "54069    399482          38440  2018-11   \n",
       "54070    444867          45385  2018-12   \n",
       "\n",
       "                                            Commodity Comm Code  \n",
       "54066  MONOPODS, BIPODS, TRIPODS AND SIMILAR ARTICLES      9620  \n",
       "54067  MONOPODS, BIPODS, TRIPODS AND SIMILAR ARTICLES      9620  \n",
       "54068  MONOPODS, BIPODS, TRIPODS AND SIMILAR ARTICLES      9620  \n",
       "54069  MONOPODS, BIPODS, TRIPODS AND SIMILAR ARTICLES      9620  \n",
       "54070  MONOPODS, BIPODS, TRIPODS AND SIMILAR ARTICLES      9620  "
      ]
     },
     "execution_count": 51,
     "metadata": {},
     "output_type": "execute_result"
    }
   ],
   "source": [
    "\n",
    "china_data.tail()"
   ]
  },
  {
   "cell_type": "code",
   "execution_count": 462,
   "metadata": {},
   "outputs": [],
   "source": [
    "engine = create_engine('sqlite:///../data/china_trade.sqlite', echo=False)\n"
   ]
  },
  {
   "cell_type": "code",
   "execution_count": null,
   "metadata": {},
   "outputs": [],
   "source": []
  },
  {
   "cell_type": "code",
   "execution_count": 15,
   "metadata": {},
   "outputs": [
    {
     "ename": "NameError",
     "evalue": "name 'china_data' is not defined",
     "output_type": "error",
     "traceback": [
      "\u001b[1;31m---------------------------------------------------------------------------\u001b[0m",
      "\u001b[1;31mNameError\u001b[0m                                 Traceback (most recent call last)",
      "\u001b[1;32m<ipython-input-15-324fb6a0f833>\u001b[0m in \u001b[0;36m<module>\u001b[1;34m()\u001b[0m\n\u001b[1;32m----> 1\u001b[1;33m \u001b[0mchina_data\u001b[0m\u001b[1;33m.\u001b[0m\u001b[0mto_sql\u001b[0m\u001b[1;33m(\u001b[0m\u001b[1;34m'export'\u001b[0m\u001b[1;33m,\u001b[0m \u001b[0mcon\u001b[0m\u001b[1;33m=\u001b[0m\u001b[0mengine\u001b[0m\u001b[1;33m,\u001b[0m \u001b[0mif_exists\u001b[0m\u001b[1;33m=\u001b[0m\u001b[1;34m'replace'\u001b[0m\u001b[1;33m)\u001b[0m \u001b[1;31m#dont run this again\u001b[0m\u001b[1;33m\u001b[0m\u001b[0m\n\u001b[0m",
      "\u001b[1;31mNameError\u001b[0m: name 'china_data' is not defined"
     ]
    }
   ],
   "source": [
    "# china_data.to_sql('export', con=engine, if_exists='replace') #dont run this again"
   ]
  },
  {
   "cell_type": "code",
   "execution_count": 16,
   "metadata": {},
   "outputs": [],
   "source": [
    "import_by_commodity = requests.get(f\"{import_url}/hs?get=I_COMMODITY,I_COMMODITY_SDESC,GEN_VAL_MO,GEN_VAL_YR&key={api_key}&time=from+2015-01&COMM_LVL=HS4&CTY_CODE={china_code}\").json()"
   ]
  },
  {
   "cell_type": "code",
   "execution_count": 19,
   "metadata": {},
   "outputs": [],
   "source": [
    "count = 1\n",
    "movalue = []\n",
    "yrvalue = []\n",
    "period = []\n",
    "desc = []\n",
    "code = []\n",
    "while count < 55352:\n",
    "    count += 1\n",
    "    movalue.append(import_by_commodity[count][2])\n",
    "    yrvalue.append(import_by_commodity[count][3])\n",
    "    desc.append(import_by_commodity[count][1])\n",
    "    period.append(import_by_commodity[count][4])\n",
    "    code.append(import_by_commodity[count][0])\n",
    "import_china_data = pd.DataFrame({\"YTD Value\" : yrvalue,\n",
    "                           \"Monthly Value \" : movalue,\n",
    "                          \"Period\" : period,\n",
    "                          \"Commodity\" : desc,\n",
    "                          \"Comm Code\": code})"
   ]
  },
  {
   "cell_type": "code",
   "execution_count": 29,
   "metadata": {},
   "outputs": [],
   "source": [
    "import_china_data.to_sql('import', con=engine, if_exists='replace') "
   ]
  },
  {
   "cell_type": "code",
   "execution_count": 24,
   "metadata": {},
   "outputs": [],
   "source": [
    "# import_china_data"
   ]
  },
  {
   "cell_type": "code",
   "execution_count": 60,
   "metadata": {},
   "outputs": [],
   "source": [
    "engine = create_engine('sqlite:///../data/china_trade.sqlite')\n",
    "#engine = create_engine(\"sqlite:///db/china_trade.sqlite\")\n",
    "\n",
    "\n"
   ]
  },
  {
   "cell_type": "code",
   "execution_count": 467,
   "metadata": {},
   "outputs": [],
   "source": [
    "Base = automap_base()\n",
    "Base.prepare(engine, reflect=True)\n",
    "session = Session(engine)\n"
   ]
  },
  {
   "cell_type": "code",
   "execution_count": 468,
   "metadata": {},
   "outputs": [
    {
     "data": {
      "text/plain": [
       "['export', 'hs2export', 'hs2import', 'imports', 'yrhs2export', 'yrhs2import']"
      ]
     },
     "execution_count": 468,
     "metadata": {},
     "output_type": "execute_result"
    }
   ],
   "source": [
    "Base.classes.keys()"
   ]
  },
  {
   "cell_type": "code",
   "execution_count": 63,
   "metadata": {},
   "outputs": [],
   "source": [
    "Imports = Base.classes.imports"
   ]
  },
  {
   "cell_type": "code",
   "execution_count": 474,
   "metadata": {},
   "outputs": [],
   "source": [
    "IndImports = Base.classes.hs2import\n",
    "IndExports = Base.classes.hs2export\n",
    "YRImports = Base.classes.yrhs2import\n",
    "YRExports = Base.classes.yrhs2export"
   ]
  },
  {
   "cell_type": "code",
   "execution_count": 65,
   "metadata": {},
   "outputs": [],
   "source": [
    "Exports = Base.classes.export"
   ]
  },
  {
   "cell_type": "code",
   "execution_count": 66,
   "metadata": {},
   "outputs": [
    {
     "data": {
      "text/plain": [
       "{'Description': 'FISH, DRIED, SALTED ETC, SMOKED ETC; ED FISH MEAL',\n",
       " 'HSC': 305,\n",
       " 'MoValue ': 274324,\n",
       " 'Period': '2015-02',\n",
       " 'YTDValue': 310025,\n",
       " '_sa_instance_state': <sqlalchemy.orm.state.InstanceState at 0x1ea322345c0>,\n",
       " 'index': 0}"
      ]
     },
     "execution_count": 66,
     "metadata": {},
     "output_type": "execute_result"
    }
   ],
   "source": [
    "exports = session.query(Exports).first()\n",
    "exports.__dict__\n"
   ]
  },
  {
   "cell_type": "code",
   "execution_count": 14,
   "metadata": {},
   "outputs": [],
   "source": [
    "results = session.query(Imports).statement\n"
   ]
  },
  {
   "cell_type": "code",
   "execution_count": 12,
   "metadata": {},
   "outputs": [],
   "source": [
    "df = pd.read_sql_query(results, session.bind)"
   ]
  },
  {
   "cell_type": "code",
   "execution_count": 13,
   "metadata": {},
   "outputs": [
    {
     "data": {
      "text/plain": [
       "Index(['index', 'YTDValue', 'MoValue', 'Period', 'Description', 'HSC'], dtype='object')"
      ]
     },
     "execution_count": 13,
     "metadata": {},
     "output_type": "execute_result"
    }
   ],
   "source": [
    "df.columns"
   ]
  },
  {
   "cell_type": "code",
   "execution_count": null,
   "metadata": {},
   "outputs": [],
   "source": []
  },
  {
   "cell_type": "code",
   "execution_count": 14,
   "metadata": {},
   "outputs": [
    {
     "data": {
      "text/plain": [
       "['index', 'YTDValue', 'MoValue', 'Period', 'Description', 'HSC']"
      ]
     },
     "execution_count": 14,
     "metadata": {},
     "output_type": "execute_result"
    }
   ],
   "source": [
    "list(df.columns)"
   ]
  },
  {
   "cell_type": "code",
   "execution_count": 13,
   "metadata": {},
   "outputs": [
    {
     "ename": "AttributeError",
     "evalue": "type object 'imports' has no attribute 'MoValue'",
     "output_type": "error",
     "traceback": [
      "\u001b[1;31m---------------------------------------------------------------------------\u001b[0m",
      "\u001b[1;31mAttributeError\u001b[0m                            Traceback (most recent call last)",
      "\u001b[1;32m<ipython-input-13-37ab62a747f2>\u001b[0m in \u001b[0;36m<module>\u001b[1;34m()\u001b[0m\n\u001b[0;32m      2\u001b[0m         \u001b[0mImports\u001b[0m\u001b[1;33m.\u001b[0m\u001b[0mDescription\u001b[0m\u001b[1;33m,\u001b[0m\u001b[1;33m\u001b[0m\u001b[0m\n\u001b[0;32m      3\u001b[0m         \u001b[0mImports\u001b[0m\u001b[1;33m.\u001b[0m\u001b[0mYTDValue\u001b[0m\u001b[1;33m,\u001b[0m\u001b[1;33m\u001b[0m\u001b[0m\n\u001b[1;32m----> 4\u001b[1;33m         \u001b[0mImports\u001b[0m\u001b[1;33m.\u001b[0m\u001b[0mMoValue\u001b[0m\u001b[1;33m,\u001b[0m\u001b[1;33m\u001b[0m\u001b[0m\n\u001b[0m\u001b[0;32m      5\u001b[0m         \u001b[0mImports\u001b[0m\u001b[1;33m.\u001b[0m\u001b[0mPeriod\u001b[0m\u001b[1;33m,\u001b[0m\u001b[1;33m\u001b[0m\u001b[0m\n\u001b[0;32m      6\u001b[0m         \u001b[0mImports\u001b[0m\u001b[1;33m.\u001b[0m\u001b[0mDescription\u001b[0m\u001b[1;33m\u001b[0m\u001b[0m\n",
      "\u001b[1;31mAttributeError\u001b[0m: type object 'imports' has no attribute 'MoValue'"
     ]
    }
   ],
   "source": [
    "sel = [\n",
    "        Imports.Description,\n",
    "        Imports.YTDValue,\n",
    "        Imports.MoValue,\n",
    "        Imports.Period,\n",
    "        Imports.Description\n",
    "    ]"
   ]
  },
  {
   "cell_type": "code",
   "execution_count": 3,
   "metadata": {},
   "outputs": [],
   "source": [
    "# session.query(*sel).filter(Imports.HSC == \"305\").all()"
   ]
  },
  {
   "cell_type": "code",
   "execution_count": 27,
   "metadata": {},
   "outputs": [],
   "source": [
    "stmt = session.query(Imports).statement\n",
    "df = pd.read_sql_query(stmt, session.bind)\n"
   ]
  },
  {
   "cell_type": "code",
   "execution_count": 120,
   "metadata": {},
   "outputs": [],
   "source": [
    "##### GOOD CODE FOR INDIVIDUAL SEARCHES IE TOOLTIP\"\n",
    "year = 2018\n",
    "hsc = 97\n",
    "sel = [\n",
    "        Imports.Description,\n",
    "        Imports.YTDValue,\n",
    "        Imports.Period,\n",
    "        Imports.HSC\n",
    "        ]\n",
    "\n",
    "results = session.query(*sel).filter(Imports.HSC == hsc).filter(Imports.Period.like(f\"%{year}%\")).all()\n",
    "hsc_data = {}\n",
    "for result in results:\n",
    "    hsc_data[\"Description\"] = result[0]\n",
    "    hsc_data[\"Annual Value\"] = result[1]\n",
    "    hsc_data[\"Year\"] = result[2]\n",
    "    hsc_data[\"HSC\"] = result[3]"
   ]
  },
  {
   "cell_type": "code",
   "execution_count": 137,
   "metadata": {},
   "outputs": [
    {
     "data": {
      "text/plain": [
       "{'Annual Value': 252327033,\n",
       " 'Description': 'SPECIAL IMPORT PROVISIONS, NESOI',\n",
       " 'HSC': 99,\n",
       " 'Year': '2015-01'}"
      ]
     },
     "execution_count": 137,
     "metadata": {},
     "output_type": "execute_result"
    }
   ],
   "source": [
    "hsc_data"
   ]
  },
  {
   "cell_type": "raw",
   "metadata": {},
   "source": [
    "type"
   ]
  },
  {
   "cell_type": "code",
   "execution_count": 451,
   "metadata": {},
   "outputs": [],
   "source": [
    "year_hs2 = requests.get(f\"{import_url}/hs?get=I_COMMODITY,I_COMMODITY_SDESC,GEN_VAL_YR&YEAR=2015&YEAR=2016&YEAR=2017&YEAR=2018&YEAR=2019&COMM_LVL=HS2&CTY_CODE={china_code}\").json()\n"
   ]
  },
  {
   "cell_type": "code",
   "execution_count": 458,
   "metadata": {},
   "outputs": [
    {
     "data": {
      "text/plain": [
       "4803"
      ]
     },
     "execution_count": 458,
     "metadata": {},
     "output_type": "execute_result"
    }
   ],
   "source": [
    "len(year_hs2)"
   ]
  },
  {
   "cell_type": "code",
   "execution_count": 453,
   "metadata": {},
   "outputs": [],
   "source": [
    "count = 1\n",
    "movalue = []\n",
    "yrvalue = []\n",
    "period = []\n",
    "desc = []\n",
    "code = []\n",
    "while count < 4802:\n",
    "    count += 1\n",
    "    yrvalue.append(year_hs2[count][2])\n",
    "    desc.append(year_hs2[count][1])\n",
    "    period.append(year_hs2[count][3])\n",
    "    code.append(year_hs2[count][0])\n",
    "yr_hs2_import = pd.DataFrame({\"YTDValue\" : yrvalue,\n",
    "                          \"Period\" : period,\n",
    "                          \"Description\" : desc,\n",
    "                          \"HSC\": code})"
   ]
  },
  {
   "cell_type": "code",
   "execution_count": 454,
   "metadata": {},
   "outputs": [],
   "source": [
    "yr_hs2_import.to_sql('yrhs2import', con=engine, if_exists='replace') "
   ]
  },
  {
   "cell_type": "code",
   "execution_count": 455,
   "metadata": {},
   "outputs": [],
   "source": [
    "year_hs2exp = requests.get(f\"{export_url}/hs?get=E_COMMODITY,E_COMMODITY_SDESC,ALL_VAL_YR&YEAR=2015&YEAR=2016&YEAR=2017&YEAR=2018&YEAR=2019&COMM_LVL=HS2&CTY_CODE={china_code}\").json()\n"
   ]
  },
  {
   "cell_type": "code",
   "execution_count": 456,
   "metadata": {},
   "outputs": [
    {
     "data": {
      "text/plain": [
       "4746"
      ]
     },
     "execution_count": 456,
     "metadata": {},
     "output_type": "execute_result"
    }
   ],
   "source": [
    "len(year_hs2exp)"
   ]
  },
  {
   "cell_type": "code",
   "execution_count": 460,
   "metadata": {},
   "outputs": [],
   "source": [
    "count = 1\n",
    "movalue = []\n",
    "yrvalue = []\n",
    "period = []\n",
    "desc = []\n",
    "code = []\n",
    "while count < 4745:\n",
    "    count += 1\n",
    "    yrvalue.append(year_hs2exp[count][2])\n",
    "    desc.append(year_hs2exp[count][1])\n",
    "    period.append(year_hs2exp[count][3])\n",
    "    code.append(year_hs2exp[count][0])\n",
    "yr_hs2_export = pd.DataFrame({\"YTDValue\" : yrvalue,\n",
    "                          \"Period\" : period,\n",
    "                          \"Description\" : desc,\n",
    "                          \"HSC\": code})"
   ]
  },
  {
   "cell_type": "code",
   "execution_count": 461,
   "metadata": {},
   "outputs": [],
   "source": [
    "yr_hs2_export.to_sql('yrhs2export', con=engine, if_exists='replace') "
   ]
  },
  {
   "cell_type": "code",
   "execution_count": 19,
   "metadata": {},
   "outputs": [],
   "source": [
    "count = 1\n",
    "movalue = []\n",
    "yrvalue = []\n",
    "period = []\n",
    "desc = []\n",
    "code = []\n",
    "while count < 4802:\n",
    "    count += 1\n",
    "    yrvalue.append(import_hs2[count][2])\n",
    "    desc.append(import_hs2[count][1])\n",
    "    period.append(import_hs2[count][3])\n",
    "    code.append(import_hs2[count][0])\n",
    "hs2_import = pd.DataFrame({\"YTDValue\" : yrvalue,\n",
    "                          \"Period\" : period,\n",
    "                          \"Description\" : desc,\n",
    "                          \"HSC\": code})\n"
   ]
  },
  {
   "cell_type": "code",
   "execution_count": 21,
   "metadata": {},
   "outputs": [],
   "source": [
    "# hs2_import.to_sql('hs2import', con=engine, if_exists='replace') "
   ]
  },
  {
   "cell_type": "code",
   "execution_count": 33,
   "metadata": {},
   "outputs": [],
   "source": [
    "# export_hs2 = requests.get(f\"{export_url}/hs?get=E_COMMODITY,E_COMMODITY_SDESC,ALL_VAL_MO,ALL_VAL_YR&time=from+2015-01&COMM_LVL=HS2&CTY_CODE={china_code}\").json()\n",
    "\n"
   ]
  },
  {
   "cell_type": "code",
   "execution_count": 143,
   "metadata": {},
   "outputs": [],
   "source": [
    "# count = 1\n",
    "# movalue = []\n",
    "# yrvalue = []\n",
    "# period = []\n",
    "# desc = []\n",
    "# code = []\n",
    "# while count < 4802:\n",
    "#     count += 1\n",
    "#     movalue.append(import_by_commodity[count][2])\n",
    "#     yrvalue.append(import_by_commodity[count][3])\n",
    "#     desc.append(import_by_commodity[count][1])\n",
    "#     period.append(import_by_commodity[count][4])\n",
    "#     code.append(import_by_commodity[count][0])\n",
    "# hs2_export = pd.DataFrame({\"YTDValue\" : yrvalue,\n",
    "#                            \"MoValue \" : movalue,\n",
    "#                           \"Period\" : period,\n",
    "#                           \"Description\" : desc,\n",
    "#                           \"HSC\": code})\n"
   ]
  },
  {
   "cell_type": "code",
   "execution_count": 34,
   "metadata": {},
   "outputs": [],
   "source": [
    "# hs2_export.to_sql('hs2export', con=engine, if_exists='replace') \n"
   ]
  },
  {
   "cell_type": "code",
   "execution_count": null,
   "metadata": {},
   "outputs": [],
   "source": [
    "count = 1\n",
    "movalue = []\n",
    "yrvalue = []\n",
    "period = []\n",
    "desc = []\n",
    "code = []\n",
    "while count < 4802:\n",
    "    count += 1\n",
    "    yrvalue.append(import_hs2[count][2])\n",
    "    desc.append(import_hs2[count][1])\n",
    "    period.append(import_hs2[count][3])\n",
    "    code.append(import_hs2[count][0])\n",
    "hs2_import = pd.DataFrame({\"YTDValue\" : yrvalue,\n",
    "                          \"Period\" : period,\n",
    "                          \"Description\" : desc,\n",
    "                          \"HSC\": code})"
   ]
  },
  {
   "cell_type": "code",
   "execution_count": 505,
   "metadata": {},
   "outputs": [],
   "source": [
    "stmt = session.query(IndImports).statement\n",
    "df = pd.read_sql_query(stmt, session.bind)"
   ]
  },
  {
   "cell_type": "code",
   "execution_count": 506,
   "metadata": {},
   "outputs": [
    {
     "data": {
      "text/html": [
       "<div>\n",
       "<style scoped>\n",
       "    .dataframe tbody tr th:only-of-type {\n",
       "        vertical-align: middle;\n",
       "    }\n",
       "\n",
       "    .dataframe tbody tr th {\n",
       "        vertical-align: top;\n",
       "    }\n",
       "\n",
       "    .dataframe thead th {\n",
       "        text-align: right;\n",
       "    }\n",
       "</style>\n",
       "<table border=\"1\" class=\"dataframe\">\n",
       "  <thead>\n",
       "    <tr style=\"text-align: right;\">\n",
       "      <th></th>\n",
       "      <th>index</th>\n",
       "      <th>YTDValue</th>\n",
       "      <th>Period</th>\n",
       "      <th>Description</th>\n",
       "      <th>HSC</th>\n",
       "    </tr>\n",
       "  </thead>\n",
       "  <tbody>\n",
       "    <tr>\n",
       "      <th>0</th>\n",
       "      <td>0</td>\n",
       "      <td>1395030</td>\n",
       "      <td>2015-02</td>\n",
       "      <td>LIVE ANIMALS</td>\n",
       "      <td>1</td>\n",
       "    </tr>\n",
       "    <tr>\n",
       "      <th>1</th>\n",
       "      <td>1</td>\n",
       "      <td>4249990</td>\n",
       "      <td>2015-03</td>\n",
       "      <td>LIVE ANIMALS</td>\n",
       "      <td>1</td>\n",
       "    </tr>\n",
       "    <tr>\n",
       "      <th>2</th>\n",
       "      <td>2</td>\n",
       "      <td>8561570</td>\n",
       "      <td>2015-04</td>\n",
       "      <td>LIVE ANIMALS</td>\n",
       "      <td>1</td>\n",
       "    </tr>\n",
       "    <tr>\n",
       "      <th>3</th>\n",
       "      <td>3</td>\n",
       "      <td>9446570</td>\n",
       "      <td>2015-05</td>\n",
       "      <td>LIVE ANIMALS</td>\n",
       "      <td>1</td>\n",
       "    </tr>\n",
       "    <tr>\n",
       "      <th>4</th>\n",
       "      <td>4</td>\n",
       "      <td>13469407</td>\n",
       "      <td>2015-06</td>\n",
       "      <td>LIVE ANIMALS</td>\n",
       "      <td>1</td>\n",
       "    </tr>\n",
       "    <tr>\n",
       "      <th>5</th>\n",
       "      <td>5</td>\n",
       "      <td>14980503</td>\n",
       "      <td>2015-07</td>\n",
       "      <td>LIVE ANIMALS</td>\n",
       "      <td>1</td>\n",
       "    </tr>\n",
       "    <tr>\n",
       "      <th>6</th>\n",
       "      <td>6</td>\n",
       "      <td>18290205</td>\n",
       "      <td>2015-08</td>\n",
       "      <td>LIVE ANIMALS</td>\n",
       "      <td>1</td>\n",
       "    </tr>\n",
       "    <tr>\n",
       "      <th>7</th>\n",
       "      <td>7</td>\n",
       "      <td>21325543</td>\n",
       "      <td>2015-09</td>\n",
       "      <td>LIVE ANIMALS</td>\n",
       "      <td>1</td>\n",
       "    </tr>\n",
       "    <tr>\n",
       "      <th>8</th>\n",
       "      <td>8</td>\n",
       "      <td>25069663</td>\n",
       "      <td>2015-10</td>\n",
       "      <td>LIVE ANIMALS</td>\n",
       "      <td>1</td>\n",
       "    </tr>\n",
       "    <tr>\n",
       "      <th>9</th>\n",
       "      <td>9</td>\n",
       "      <td>26831863</td>\n",
       "      <td>2015-11</td>\n",
       "      <td>LIVE ANIMALS</td>\n",
       "      <td>1</td>\n",
       "    </tr>\n",
       "    <tr>\n",
       "      <th>10</th>\n",
       "      <td>10</td>\n",
       "      <td>27704684</td>\n",
       "      <td>2015-12</td>\n",
       "      <td>LIVE ANIMALS</td>\n",
       "      <td>1</td>\n",
       "    </tr>\n",
       "    <tr>\n",
       "      <th>11</th>\n",
       "      <td>11</td>\n",
       "      <td>3449640</td>\n",
       "      <td>2016-01</td>\n",
       "      <td>LIVE ANIMALS</td>\n",
       "      <td>1</td>\n",
       "    </tr>\n",
       "    <tr>\n",
       "      <th>12</th>\n",
       "      <td>12</td>\n",
       "      <td>6820440</td>\n",
       "      <td>2016-02</td>\n",
       "      <td>LIVE ANIMALS</td>\n",
       "      <td>1</td>\n",
       "    </tr>\n",
       "    <tr>\n",
       "      <th>13</th>\n",
       "      <td>13</td>\n",
       "      <td>10966765</td>\n",
       "      <td>2016-03</td>\n",
       "      <td>LIVE ANIMALS</td>\n",
       "      <td>1</td>\n",
       "    </tr>\n",
       "    <tr>\n",
       "      <th>14</th>\n",
       "      <td>14</td>\n",
       "      <td>15397595</td>\n",
       "      <td>2016-04</td>\n",
       "      <td>LIVE ANIMALS</td>\n",
       "      <td>1</td>\n",
       "    </tr>\n",
       "    <tr>\n",
       "      <th>15</th>\n",
       "      <td>15</td>\n",
       "      <td>18704453</td>\n",
       "      <td>2016-05</td>\n",
       "      <td>LIVE ANIMALS</td>\n",
       "      <td>1</td>\n",
       "    </tr>\n",
       "    <tr>\n",
       "      <th>16</th>\n",
       "      <td>16</td>\n",
       "      <td>23403788</td>\n",
       "      <td>2016-06</td>\n",
       "      <td>LIVE ANIMALS</td>\n",
       "      <td>1</td>\n",
       "    </tr>\n",
       "    <tr>\n",
       "      <th>17</th>\n",
       "      <td>17</td>\n",
       "      <td>26698533</td>\n",
       "      <td>2016-07</td>\n",
       "      <td>LIVE ANIMALS</td>\n",
       "      <td>1</td>\n",
       "    </tr>\n",
       "    <tr>\n",
       "      <th>18</th>\n",
       "      <td>18</td>\n",
       "      <td>30164718</td>\n",
       "      <td>2016-08</td>\n",
       "      <td>LIVE ANIMALS</td>\n",
       "      <td>1</td>\n",
       "    </tr>\n",
       "    <tr>\n",
       "      <th>19</th>\n",
       "      <td>19</td>\n",
       "      <td>35249173</td>\n",
       "      <td>2016-09</td>\n",
       "      <td>LIVE ANIMALS</td>\n",
       "      <td>1</td>\n",
       "    </tr>\n",
       "    <tr>\n",
       "      <th>20</th>\n",
       "      <td>20</td>\n",
       "      <td>36445573</td>\n",
       "      <td>2016-10</td>\n",
       "      <td>LIVE ANIMALS</td>\n",
       "      <td>1</td>\n",
       "    </tr>\n",
       "    <tr>\n",
       "      <th>21</th>\n",
       "      <td>21</td>\n",
       "      <td>40657758</td>\n",
       "      <td>2016-11</td>\n",
       "      <td>LIVE ANIMALS</td>\n",
       "      <td>1</td>\n",
       "    </tr>\n",
       "    <tr>\n",
       "      <th>22</th>\n",
       "      <td>22</td>\n",
       "      <td>44705784</td>\n",
       "      <td>2016-12</td>\n",
       "      <td>LIVE ANIMALS</td>\n",
       "      <td>1</td>\n",
       "    </tr>\n",
       "    <tr>\n",
       "      <th>23</th>\n",
       "      <td>23</td>\n",
       "      <td>615500</td>\n",
       "      <td>2017-01</td>\n",
       "      <td>LIVE ANIMALS</td>\n",
       "      <td>1</td>\n",
       "    </tr>\n",
       "    <tr>\n",
       "      <th>24</th>\n",
       "      <td>24</td>\n",
       "      <td>2586262</td>\n",
       "      <td>2017-02</td>\n",
       "      <td>LIVE ANIMALS</td>\n",
       "      <td>1</td>\n",
       "    </tr>\n",
       "    <tr>\n",
       "      <th>25</th>\n",
       "      <td>25</td>\n",
       "      <td>5120287</td>\n",
       "      <td>2017-03</td>\n",
       "      <td>LIVE ANIMALS</td>\n",
       "      <td>1</td>\n",
       "    </tr>\n",
       "    <tr>\n",
       "      <th>26</th>\n",
       "      <td>26</td>\n",
       "      <td>9445282</td>\n",
       "      <td>2017-04</td>\n",
       "      <td>LIVE ANIMALS</td>\n",
       "      <td>1</td>\n",
       "    </tr>\n",
       "    <tr>\n",
       "      <th>27</th>\n",
       "      <td>27</td>\n",
       "      <td>12367384</td>\n",
       "      <td>2017-05</td>\n",
       "      <td>LIVE ANIMALS</td>\n",
       "      <td>1</td>\n",
       "    </tr>\n",
       "    <tr>\n",
       "      <th>28</th>\n",
       "      <td>28</td>\n",
       "      <td>15657051</td>\n",
       "      <td>2017-06</td>\n",
       "      <td>LIVE ANIMALS</td>\n",
       "      <td>1</td>\n",
       "    </tr>\n",
       "    <tr>\n",
       "      <th>29</th>\n",
       "      <td>29</td>\n",
       "      <td>18511088</td>\n",
       "      <td>2017-07</td>\n",
       "      <td>LIVE ANIMALS</td>\n",
       "      <td>1</td>\n",
       "    </tr>\n",
       "    <tr>\n",
       "      <th>...</th>\n",
       "      <td>...</td>\n",
       "      <td>...</td>\n",
       "      <td>...</td>\n",
       "      <td>...</td>\n",
       "      <td>...</td>\n",
       "    </tr>\n",
       "    <tr>\n",
       "      <th>4771</th>\n",
       "      <td>4771</td>\n",
       "      <td>2025642914</td>\n",
       "      <td>2016-08</td>\n",
       "      <td>SPECIAL IMPORT PROVISIONS, NESOI</td>\n",
       "      <td>99</td>\n",
       "    </tr>\n",
       "    <tr>\n",
       "      <th>4772</th>\n",
       "      <td>4772</td>\n",
       "      <td>2287920696</td>\n",
       "      <td>2016-09</td>\n",
       "      <td>SPECIAL IMPORT PROVISIONS, NESOI</td>\n",
       "      <td>99</td>\n",
       "    </tr>\n",
       "    <tr>\n",
       "      <th>4773</th>\n",
       "      <td>4773</td>\n",
       "      <td>2548353205</td>\n",
       "      <td>2016-10</td>\n",
       "      <td>SPECIAL IMPORT PROVISIONS, NESOI</td>\n",
       "      <td>99</td>\n",
       "    </tr>\n",
       "    <tr>\n",
       "      <th>4774</th>\n",
       "      <td>4774</td>\n",
       "      <td>2810987060</td>\n",
       "      <td>2016-11</td>\n",
       "      <td>SPECIAL IMPORT PROVISIONS, NESOI</td>\n",
       "      <td>99</td>\n",
       "    </tr>\n",
       "    <tr>\n",
       "      <th>4775</th>\n",
       "      <td>4775</td>\n",
       "      <td>3070484007</td>\n",
       "      <td>2016-12</td>\n",
       "      <td>SPECIAL IMPORT PROVISIONS, NESOI</td>\n",
       "      <td>99</td>\n",
       "    </tr>\n",
       "    <tr>\n",
       "      <th>4776</th>\n",
       "      <td>4776</td>\n",
       "      <td>277519567</td>\n",
       "      <td>2017-01</td>\n",
       "      <td>SPECIAL IMPORT PROVISIONS, NESOI</td>\n",
       "      <td>99</td>\n",
       "    </tr>\n",
       "    <tr>\n",
       "      <th>4777</th>\n",
       "      <td>4777</td>\n",
       "      <td>505470564</td>\n",
       "      <td>2017-02</td>\n",
       "      <td>SPECIAL IMPORT PROVISIONS, NESOI</td>\n",
       "      <td>99</td>\n",
       "    </tr>\n",
       "    <tr>\n",
       "      <th>4778</th>\n",
       "      <td>4778</td>\n",
       "      <td>759845622</td>\n",
       "      <td>2017-03</td>\n",
       "      <td>SPECIAL IMPORT PROVISIONS, NESOI</td>\n",
       "      <td>99</td>\n",
       "    </tr>\n",
       "    <tr>\n",
       "      <th>4779</th>\n",
       "      <td>4779</td>\n",
       "      <td>1017688643</td>\n",
       "      <td>2017-04</td>\n",
       "      <td>SPECIAL IMPORT PROVISIONS, NESOI</td>\n",
       "      <td>99</td>\n",
       "    </tr>\n",
       "    <tr>\n",
       "      <th>4780</th>\n",
       "      <td>4780</td>\n",
       "      <td>1291995157</td>\n",
       "      <td>2017-05</td>\n",
       "      <td>SPECIAL IMPORT PROVISIONS, NESOI</td>\n",
       "      <td>99</td>\n",
       "    </tr>\n",
       "    <tr>\n",
       "      <th>4781</th>\n",
       "      <td>4781</td>\n",
       "      <td>1578430537</td>\n",
       "      <td>2017-06</td>\n",
       "      <td>SPECIAL IMPORT PROVISIONS, NESOI</td>\n",
       "      <td>99</td>\n",
       "    </tr>\n",
       "    <tr>\n",
       "      <th>4782</th>\n",
       "      <td>4782</td>\n",
       "      <td>1860396367</td>\n",
       "      <td>2017-07</td>\n",
       "      <td>SPECIAL IMPORT PROVISIONS, NESOI</td>\n",
       "      <td>99</td>\n",
       "    </tr>\n",
       "    <tr>\n",
       "      <th>4783</th>\n",
       "      <td>4783</td>\n",
       "      <td>2166205004</td>\n",
       "      <td>2017-08</td>\n",
       "      <td>SPECIAL IMPORT PROVISIONS, NESOI</td>\n",
       "      <td>99</td>\n",
       "    </tr>\n",
       "    <tr>\n",
       "      <th>4784</th>\n",
       "      <td>4784</td>\n",
       "      <td>2453181906</td>\n",
       "      <td>2017-09</td>\n",
       "      <td>SPECIAL IMPORT PROVISIONS, NESOI</td>\n",
       "      <td>99</td>\n",
       "    </tr>\n",
       "    <tr>\n",
       "      <th>4785</th>\n",
       "      <td>4785</td>\n",
       "      <td>2747575189</td>\n",
       "      <td>2017-10</td>\n",
       "      <td>SPECIAL IMPORT PROVISIONS, NESOI</td>\n",
       "      <td>99</td>\n",
       "    </tr>\n",
       "    <tr>\n",
       "      <th>4786</th>\n",
       "      <td>4786</td>\n",
       "      <td>3037946939</td>\n",
       "      <td>2017-11</td>\n",
       "      <td>SPECIAL IMPORT PROVISIONS, NESOI</td>\n",
       "      <td>99</td>\n",
       "    </tr>\n",
       "    <tr>\n",
       "      <th>4787</th>\n",
       "      <td>4787</td>\n",
       "      <td>3318398641</td>\n",
       "      <td>2017-12</td>\n",
       "      <td>SPECIAL IMPORT PROVISIONS, NESOI</td>\n",
       "      <td>99</td>\n",
       "    </tr>\n",
       "    <tr>\n",
       "      <th>4788</th>\n",
       "      <td>4788</td>\n",
       "      <td>285879114</td>\n",
       "      <td>2018-01</td>\n",
       "      <td>SPECIAL IMPORT PROVISIONS, NESOI</td>\n",
       "      <td>99</td>\n",
       "    </tr>\n",
       "    <tr>\n",
       "      <th>4789</th>\n",
       "      <td>4789</td>\n",
       "      <td>515149010</td>\n",
       "      <td>2018-02</td>\n",
       "      <td>SPECIAL IMPORT PROVISIONS, NESOI</td>\n",
       "      <td>99</td>\n",
       "    </tr>\n",
       "    <tr>\n",
       "      <th>4790</th>\n",
       "      <td>4790</td>\n",
       "      <td>778193950</td>\n",
       "      <td>2018-03</td>\n",
       "      <td>SPECIAL IMPORT PROVISIONS, NESOI</td>\n",
       "      <td>99</td>\n",
       "    </tr>\n",
       "    <tr>\n",
       "      <th>4791</th>\n",
       "      <td>4791</td>\n",
       "      <td>1046371852</td>\n",
       "      <td>2018-04</td>\n",
       "      <td>SPECIAL IMPORT PROVISIONS, NESOI</td>\n",
       "      <td>99</td>\n",
       "    </tr>\n",
       "    <tr>\n",
       "      <th>4792</th>\n",
       "      <td>4792</td>\n",
       "      <td>1347429207</td>\n",
       "      <td>2018-05</td>\n",
       "      <td>SPECIAL IMPORT PROVISIONS, NESOI</td>\n",
       "      <td>99</td>\n",
       "    </tr>\n",
       "    <tr>\n",
       "      <th>4793</th>\n",
       "      <td>4793</td>\n",
       "      <td>1643929986</td>\n",
       "      <td>2018-06</td>\n",
       "      <td>SPECIAL IMPORT PROVISIONS, NESOI</td>\n",
       "      <td>99</td>\n",
       "    </tr>\n",
       "    <tr>\n",
       "      <th>4794</th>\n",
       "      <td>4794</td>\n",
       "      <td>1953626787</td>\n",
       "      <td>2018-07</td>\n",
       "      <td>SPECIAL IMPORT PROVISIONS, NESOI</td>\n",
       "      <td>99</td>\n",
       "    </tr>\n",
       "    <tr>\n",
       "      <th>4795</th>\n",
       "      <td>4795</td>\n",
       "      <td>2285480847</td>\n",
       "      <td>2018-08</td>\n",
       "      <td>SPECIAL IMPORT PROVISIONS, NESOI</td>\n",
       "      <td>99</td>\n",
       "    </tr>\n",
       "    <tr>\n",
       "      <th>4796</th>\n",
       "      <td>4796</td>\n",
       "      <td>2608565542</td>\n",
       "      <td>2018-09</td>\n",
       "      <td>SPECIAL IMPORT PROVISIONS, NESOI</td>\n",
       "      <td>99</td>\n",
       "    </tr>\n",
       "    <tr>\n",
       "      <th>4797</th>\n",
       "      <td>4797</td>\n",
       "      <td>2964667788</td>\n",
       "      <td>2018-10</td>\n",
       "      <td>SPECIAL IMPORT PROVISIONS, NESOI</td>\n",
       "      <td>99</td>\n",
       "    </tr>\n",
       "    <tr>\n",
       "      <th>4798</th>\n",
       "      <td>4798</td>\n",
       "      <td>3295502634</td>\n",
       "      <td>2018-11</td>\n",
       "      <td>SPECIAL IMPORT PROVISIONS, NESOI</td>\n",
       "      <td>99</td>\n",
       "    </tr>\n",
       "    <tr>\n",
       "      <th>4799</th>\n",
       "      <td>4799</td>\n",
       "      <td>3609020146</td>\n",
       "      <td>2018-12</td>\n",
       "      <td>SPECIAL IMPORT PROVISIONS, NESOI</td>\n",
       "      <td>99</td>\n",
       "    </tr>\n",
       "    <tr>\n",
       "      <th>4800</th>\n",
       "      <td>4800</td>\n",
       "      <td>325342727</td>\n",
       "      <td>2019-01</td>\n",
       "      <td>SPECIAL IMPORT PROVISIONS, NESOI</td>\n",
       "      <td>99</td>\n",
       "    </tr>\n",
       "  </tbody>\n",
       "</table>\n",
       "<p>4801 rows × 5 columns</p>\n",
       "</div>"
      ],
      "text/plain": [
       "      index    YTDValue   Period                       Description  HSC\n",
       "0         0     1395030  2015-02                      LIVE ANIMALS    1\n",
       "1         1     4249990  2015-03                      LIVE ANIMALS    1\n",
       "2         2     8561570  2015-04                      LIVE ANIMALS    1\n",
       "3         3     9446570  2015-05                      LIVE ANIMALS    1\n",
       "4         4    13469407  2015-06                      LIVE ANIMALS    1\n",
       "5         5    14980503  2015-07                      LIVE ANIMALS    1\n",
       "6         6    18290205  2015-08                      LIVE ANIMALS    1\n",
       "7         7    21325543  2015-09                      LIVE ANIMALS    1\n",
       "8         8    25069663  2015-10                      LIVE ANIMALS    1\n",
       "9         9    26831863  2015-11                      LIVE ANIMALS    1\n",
       "10       10    27704684  2015-12                      LIVE ANIMALS    1\n",
       "11       11     3449640  2016-01                      LIVE ANIMALS    1\n",
       "12       12     6820440  2016-02                      LIVE ANIMALS    1\n",
       "13       13    10966765  2016-03                      LIVE ANIMALS    1\n",
       "14       14    15397595  2016-04                      LIVE ANIMALS    1\n",
       "15       15    18704453  2016-05                      LIVE ANIMALS    1\n",
       "16       16    23403788  2016-06                      LIVE ANIMALS    1\n",
       "17       17    26698533  2016-07                      LIVE ANIMALS    1\n",
       "18       18    30164718  2016-08                      LIVE ANIMALS    1\n",
       "19       19    35249173  2016-09                      LIVE ANIMALS    1\n",
       "20       20    36445573  2016-10                      LIVE ANIMALS    1\n",
       "21       21    40657758  2016-11                      LIVE ANIMALS    1\n",
       "22       22    44705784  2016-12                      LIVE ANIMALS    1\n",
       "23       23      615500  2017-01                      LIVE ANIMALS    1\n",
       "24       24     2586262  2017-02                      LIVE ANIMALS    1\n",
       "25       25     5120287  2017-03                      LIVE ANIMALS    1\n",
       "26       26     9445282  2017-04                      LIVE ANIMALS    1\n",
       "27       27    12367384  2017-05                      LIVE ANIMALS    1\n",
       "28       28    15657051  2017-06                      LIVE ANIMALS    1\n",
       "29       29    18511088  2017-07                      LIVE ANIMALS    1\n",
       "...     ...         ...      ...                               ...  ...\n",
       "4771   4771  2025642914  2016-08  SPECIAL IMPORT PROVISIONS, NESOI   99\n",
       "4772   4772  2287920696  2016-09  SPECIAL IMPORT PROVISIONS, NESOI   99\n",
       "4773   4773  2548353205  2016-10  SPECIAL IMPORT PROVISIONS, NESOI   99\n",
       "4774   4774  2810987060  2016-11  SPECIAL IMPORT PROVISIONS, NESOI   99\n",
       "4775   4775  3070484007  2016-12  SPECIAL IMPORT PROVISIONS, NESOI   99\n",
       "4776   4776   277519567  2017-01  SPECIAL IMPORT PROVISIONS, NESOI   99\n",
       "4777   4777   505470564  2017-02  SPECIAL IMPORT PROVISIONS, NESOI   99\n",
       "4778   4778   759845622  2017-03  SPECIAL IMPORT PROVISIONS, NESOI   99\n",
       "4779   4779  1017688643  2017-04  SPECIAL IMPORT PROVISIONS, NESOI   99\n",
       "4780   4780  1291995157  2017-05  SPECIAL IMPORT PROVISIONS, NESOI   99\n",
       "4781   4781  1578430537  2017-06  SPECIAL IMPORT PROVISIONS, NESOI   99\n",
       "4782   4782  1860396367  2017-07  SPECIAL IMPORT PROVISIONS, NESOI   99\n",
       "4783   4783  2166205004  2017-08  SPECIAL IMPORT PROVISIONS, NESOI   99\n",
       "4784   4784  2453181906  2017-09  SPECIAL IMPORT PROVISIONS, NESOI   99\n",
       "4785   4785  2747575189  2017-10  SPECIAL IMPORT PROVISIONS, NESOI   99\n",
       "4786   4786  3037946939  2017-11  SPECIAL IMPORT PROVISIONS, NESOI   99\n",
       "4787   4787  3318398641  2017-12  SPECIAL IMPORT PROVISIONS, NESOI   99\n",
       "4788   4788   285879114  2018-01  SPECIAL IMPORT PROVISIONS, NESOI   99\n",
       "4789   4789   515149010  2018-02  SPECIAL IMPORT PROVISIONS, NESOI   99\n",
       "4790   4790   778193950  2018-03  SPECIAL IMPORT PROVISIONS, NESOI   99\n",
       "4791   4791  1046371852  2018-04  SPECIAL IMPORT PROVISIONS, NESOI   99\n",
       "4792   4792  1347429207  2018-05  SPECIAL IMPORT PROVISIONS, NESOI   99\n",
       "4793   4793  1643929986  2018-06  SPECIAL IMPORT PROVISIONS, NESOI   99\n",
       "4794   4794  1953626787  2018-07  SPECIAL IMPORT PROVISIONS, NESOI   99\n",
       "4795   4795  2285480847  2018-08  SPECIAL IMPORT PROVISIONS, NESOI   99\n",
       "4796   4796  2608565542  2018-09  SPECIAL IMPORT PROVISIONS, NESOI   99\n",
       "4797   4797  2964667788  2018-10  SPECIAL IMPORT PROVISIONS, NESOI   99\n",
       "4798   4798  3295502634  2018-11  SPECIAL IMPORT PROVISIONS, NESOI   99\n",
       "4799   4799  3609020146  2018-12  SPECIAL IMPORT PROVISIONS, NESOI   99\n",
       "4800   4800   325342727  2019-01  SPECIAL IMPORT PROVISIONS, NESOI   99\n",
       "\n",
       "[4801 rows x 5 columns]"
      ]
     },
     "execution_count": 506,
     "metadata": {},
     "output_type": "execute_result"
    }
   ],
   "source": [
    "df"
   ]
  },
  {
   "cell_type": "code",
   "execution_count": 503,
   "metadata": {},
   "outputs": [],
   "source": [
    "stmt = session.query(IndImports).statement\n",
    "df = pd.read_sql_query(stmt, session.bind)\n",
    "\n",
    "year = 2015\n",
    "hsc = 1\n",
    "sel = [\n",
    "        IndImports.Description,\n",
    "        IndImports.YTDValue,\n",
    "        IndImports.Period,\n",
    "        IndImports.HSC\n",
    "        ]\n",
    "\n",
    "results = session.query(*sel).filter(IndImports.HSC == 1).filter(IndImports.Period.like(f\"%{year}%\")).all()\n",
    "hsc_ind_imports = {}\n",
    "for result in results:\n",
    "    hsc_ind_imports[\"Description\"] = result[0]\n",
    "    hsc_ind_imports[\"Annual Value\"] = result[1]\n",
    "    hsc_ind_imports[\"Year\"] = result[2]\n",
    "    hsc_ind_imports[\"HSC\"] = result[3]"
   ]
  },
  {
   "cell_type": "code",
   "execution_count": 178,
   "metadata": {},
   "outputs": [],
   "source": [
    "g = session.query(IndImports.HSC).filter(IndImports.HSC == \"01\").all()"
   ]
  },
  {
   "cell_type": "code",
   "execution_count": 504,
   "metadata": {},
   "outputs": [
    {
     "data": {
      "text/plain": [
       "{'Annual Value': 27704684,\n",
       " 'Description': 'LIVE ANIMALS',\n",
       " 'HSC': 1,\n",
       " 'Year': '2015-12'}"
      ]
     },
     "execution_count": 504,
     "metadata": {},
     "output_type": "execute_result"
    }
   ],
   "source": [
    "hsc_ind_imports"
   ]
  },
  {
   "cell_type": "code",
   "execution_count": 297,
   "metadata": {},
   "outputs": [
    {
     "data": {
      "text/plain": [
       "{'Description': 'LEAD AND ARTICLES THEREOF',\n",
       " 'HSC': 78,\n",
       " 'Period': '2017',\n",
       " 'YTDValue': 2194573,\n",
       " '_sa_instance_state': <sqlalchemy.orm.state.InstanceState at 0x1ea339e82e8>,\n",
       " 'index': 0}"
      ]
     },
     "execution_count": 297,
     "metadata": {},
     "output_type": "execute_result"
    }
   ],
   "source": [
    "yr = session.query(YRImports).first()\n",
    "yr.__dict__"
   ]
  },
  {
   "cell_type": "code",
   "execution_count": 407,
   "metadata": {},
   "outputs": [],
   "source": [
    "stmt = session.query(YRImports).statement\n",
    "df = pd.read_sql_query(stmt, session.bind)"
   ]
  },
  {
   "cell_type": "code",
   "execution_count": 398,
   "metadata": {},
   "outputs": [],
   "source": [
    "# df.loc[df['Period'] == 2016]"
   ]
  },
  {
   "cell_type": "code",
   "execution_count": 249,
   "metadata": {},
   "outputs": [],
   "source": [
    "test_df = df.groupby([\"Period\"])[\"YTDValue\", \"HSC\", \"Period\"]"
   ]
  },
  {
   "cell_type": "code",
   "execution_count": 332,
   "metadata": {},
   "outputs": [],
   "source": [
    "df[\"YTDValue\", \"HSC\", \"Period\"]= [i[:4] for i in df['Period']]"
   ]
  },
  {
   "cell_type": "code",
   "execution_count": 409,
   "metadata": {},
   "outputs": [],
   "source": [
    "df = pd.read_sql_query(stmt, session.bind)"
   ]
  },
  {
   "cell_type": "code",
   "execution_count": 408,
   "metadata": {},
   "outputs": [
    {
     "ename": "TypeError",
     "evalue": "'Series' object is not callable",
     "output_type": "error",
     "traceback": [
      "\u001b[1;31m---------------------------------------------------------------------------\u001b[0m",
      "\u001b[1;31mTypeError\u001b[0m                                 Traceback (most recent call last)",
      "\u001b[1;32m<ipython-input-408-2fd49094fdfe>\u001b[0m in \u001b[0;36m<module>\u001b[1;34m()\u001b[0m\n\u001b[1;32m----> 1\u001b[1;33m \u001b[0mdf\u001b[0m\u001b[1;33m[\u001b[0m\u001b[1;34m\"Period\"\u001b[0m\u001b[1;33m]\u001b[0m\u001b[1;33m(\u001b[0m\u001b[1;34m\"2015\"\u001b[0m\u001b[1;33m)\u001b[0m\u001b[1;33m\u001b[0m\u001b[0m\n\u001b[0m",
      "\u001b[1;31mTypeError\u001b[0m: 'Series' object is not callable"
     ]
    }
   ],
   "source": [
    "df[\"Period\"]"
   ]
  },
  {
   "cell_type": "code",
   "execution_count": 399,
   "metadata": {},
   "outputs": [],
   "source": [
    "yr_hs2_import[\"YTDValue\"] =pd.to_numeric(yr_hs2_import[\"YTDValue\"])\n"
   ]
  },
  {
   "cell_type": "code",
   "execution_count": 400,
   "metadata": {},
   "outputs": [],
   "source": [
    "year = \"2015\"\n",
    "first_2015 = yr_hs2_import[yr_hs2_import[\"Period\"].str.contains(f\"{year}\")]\n"
   ]
  },
  {
   "cell_type": "code",
   "execution_count": 502,
   "metadata": {},
   "outputs": [],
   "source": [
    "check = first_2015.groupby([\"HSC\",\"Description\",\"Period\"])[\"YTDValue\"].sum()\n"
   ]
  },
  {
   "cell_type": "code",
   "execution_count": null,
   "metadata": {},
   "outputs": [],
   "source": []
  },
  {
   "cell_type": "code",
   "execution_count": 402,
   "metadata": {},
   "outputs": [],
   "source": [
    "test= pd.DataFrame({\"total\" : data_2015})\n",
    "data_2015= test.nlargest(10,\"total\")\n",
    "data_2015 = data_2015.reset_index()\n",
    "\n",
    "data_2015= data_2015.nlargest(10,\"total\")"
   ]
  },
  {
   "cell_type": "code",
   "execution_count": 403,
   "metadata": {},
   "outputs": [
    {
     "data": {
      "text/html": [
       "<div>\n",
       "<style scoped>\n",
       "    .dataframe tbody tr th:only-of-type {\n",
       "        vertical-align: middle;\n",
       "    }\n",
       "\n",
       "    .dataframe tbody tr th {\n",
       "        vertical-align: top;\n",
       "    }\n",
       "\n",
       "    .dataframe thead th {\n",
       "        text-align: right;\n",
       "    }\n",
       "</style>\n",
       "<table border=\"1\" class=\"dataframe\">\n",
       "  <thead>\n",
       "    <tr style=\"text-align: right;\">\n",
       "      <th></th>\n",
       "      <th>HSC</th>\n",
       "      <th>Description</th>\n",
       "      <th>Period</th>\n",
       "      <th>total</th>\n",
       "    </tr>\n",
       "  </thead>\n",
       "  <tbody>\n",
       "    <tr>\n",
       "      <th>0</th>\n",
       "      <td>85</td>\n",
       "      <td>ELECTRIC MACHINERY ETC; SOUND</td>\n",
       "      <td>2015</td>\n",
       "      <td>818112819400</td>\n",
       "    </tr>\n",
       "    <tr>\n",
       "      <th>1</th>\n",
       "      <td>84</td>\n",
       "      <td>NUCLEAR REACTORS, BOILERS, MACHINERY ETC.; PARTS</td>\n",
       "      <td>2015</td>\n",
       "      <td>666100643226</td>\n",
       "    </tr>\n",
       "    <tr>\n",
       "      <th>2</th>\n",
       "      <td>94</td>\n",
       "      <td>FURNITURE; BEDDING ETC; LAMPS NESOI ETC</td>\n",
       "      <td>2015</td>\n",
       "      <td>181010404192</td>\n",
       "    </tr>\n",
       "    <tr>\n",
       "      <th>3</th>\n",
       "      <td>95</td>\n",
       "      <td>TOYS, GAMES &amp; SPORT EQUIPMENT; PARTS &amp; ACCESSO...</td>\n",
       "      <td>2015</td>\n",
       "      <td>137998619706</td>\n",
       "    </tr>\n",
       "    <tr>\n",
       "      <th>4</th>\n",
       "      <td>64</td>\n",
       "      <td>FOOTWEAR, GAITERS ETC. AND PARTS THEREOF</td>\n",
       "      <td>2015</td>\n",
       "      <td>113801708948</td>\n",
       "    </tr>\n",
       "    <tr>\n",
       "      <th>5</th>\n",
       "      <td>61</td>\n",
       "      <td>APPAREL ARTICLES AND ACCESSORIES, KNIT OR CROCHET</td>\n",
       "      <td>2015</td>\n",
       "      <td>97092844954</td>\n",
       "    </tr>\n",
       "    <tr>\n",
       "      <th>6</th>\n",
       "      <td>62</td>\n",
       "      <td>APPAREL ARTICLES AND ACCESSORIES, NOT KNIT ETC.</td>\n",
       "      <td>2015</td>\n",
       "      <td>94814507202</td>\n",
       "    </tr>\n",
       "    <tr>\n",
       "      <th>7</th>\n",
       "      <td>39</td>\n",
       "      <td>PLASTICS AND ARTICLES THEREOF</td>\n",
       "      <td>2015</td>\n",
       "      <td>94005729937</td>\n",
       "    </tr>\n",
       "    <tr>\n",
       "      <th>8</th>\n",
       "      <td>87</td>\n",
       "      <td>VEHICLES, EXCEPT RAILWAY OR TRAMWAY, AND PARTS...</td>\n",
       "      <td>2015</td>\n",
       "      <td>85574454525</td>\n",
       "    </tr>\n",
       "    <tr>\n",
       "      <th>9</th>\n",
       "      <td>90</td>\n",
       "      <td>OPTIC, PHOTO ETC, MEDIC OR S</td>\n",
       "      <td>2015</td>\n",
       "      <td>71151180495</td>\n",
       "    </tr>\n",
       "  </tbody>\n",
       "</table>\n",
       "</div>"
      ],
      "text/plain": [
       "  HSC                                        Description Period         total\n",
       "0  85                      ELECTRIC MACHINERY ETC; SOUND   2015  818112819400\n",
       "1  84   NUCLEAR REACTORS, BOILERS, MACHINERY ETC.; PARTS   2015  666100643226\n",
       "2  94            FURNITURE; BEDDING ETC; LAMPS NESOI ETC   2015  181010404192\n",
       "3  95  TOYS, GAMES & SPORT EQUIPMENT; PARTS & ACCESSO...   2015  137998619706\n",
       "4  64           FOOTWEAR, GAITERS ETC. AND PARTS THEREOF   2015  113801708948\n",
       "5  61  APPAREL ARTICLES AND ACCESSORIES, KNIT OR CROCHET   2015   97092844954\n",
       "6  62    APPAREL ARTICLES AND ACCESSORIES, NOT KNIT ETC.   2015   94814507202\n",
       "7  39                      PLASTICS AND ARTICLES THEREOF   2015   94005729937\n",
       "8  87  VEHICLES, EXCEPT RAILWAY OR TRAMWAY, AND PARTS...   2015   85574454525\n",
       "9  90                       OPTIC, PHOTO ETC, MEDIC OR S   2015   71151180495"
      ]
     },
     "execution_count": 403,
     "metadata": {},
     "output_type": "execute_result"
    }
   ],
   "source": [
    "data_2015"
   ]
  },
  {
   "cell_type": "code",
   "execution_count": 495,
   "metadata": {},
   "outputs": [],
   "source": [
    "year= \"2016\"\n",
    "stmt = session.query(YRExports).statement\n",
    "df = pd.read_sql_query(stmt, session.bind)\n",
    "df[\"YTDValue\"] =pd.to_numeric(df[\"YTDValue\"])\n",
    "first_2015 = df[df[\"Period\"].str.contains(f\"{year}\")]\n",
    "data_2015 = first_2015.groupby([\"HSC\",\"Description\",\"Period\"])[\"YTDValue\"].sum()\n",
    "test= pd.DataFrame({\"total\" : data_2015})\n",
    "data_2015= test.nlargest(10,\"total\")\n",
    "data_2015 = data_2015.reset_index()\n",
    "\n",
    "data_2015= data_2015.nlargest(10,\"total\")"
   ]
  },
  {
   "cell_type": "code",
   "execution_count": 476,
   "metadata": {},
   "outputs": [],
   "source": [
    "data_2015= data_2015.to_json()\n"
   ]
  },
  {
   "cell_type": "code",
   "execution_count": 496,
   "metadata": {},
   "outputs": [
    {
     "data": {
      "text/html": [
       "<div>\n",
       "<style scoped>\n",
       "    .dataframe tbody tr th:only-of-type {\n",
       "        vertical-align: middle;\n",
       "    }\n",
       "\n",
       "    .dataframe tbody tr th {\n",
       "        vertical-align: top;\n",
       "    }\n",
       "\n",
       "    .dataframe thead th {\n",
       "        text-align: right;\n",
       "    }\n",
       "</style>\n",
       "<table border=\"1\" class=\"dataframe\">\n",
       "  <thead>\n",
       "    <tr style=\"text-align: right;\">\n",
       "      <th></th>\n",
       "      <th>HSC</th>\n",
       "      <th>Description</th>\n",
       "      <th>Period</th>\n",
       "      <th>total</th>\n",
       "    </tr>\n",
       "  </thead>\n",
       "  <tbody>\n",
       "    <tr>\n",
       "      <th>0</th>\n",
       "      <td>88</td>\n",
       "      <td>AIRCRAFT, SPACECRAFT, AND PARTS THEREOF</td>\n",
       "      <td>2016</td>\n",
       "      <td>86651134392</td>\n",
       "    </tr>\n",
       "    <tr>\n",
       "      <th>1</th>\n",
       "      <td>85</td>\n",
       "      <td>ELECTRIC MACHINERY ETC; SOUND</td>\n",
       "      <td>2016</td>\n",
       "      <td>78930329601</td>\n",
       "    </tr>\n",
       "    <tr>\n",
       "      <th>2</th>\n",
       "      <td>84</td>\n",
       "      <td>NUCLEAR REACTORS, BOILERS, MACHINERY ETC.; PARTS</td>\n",
       "      <td>2016</td>\n",
       "      <td>74341211586</td>\n",
       "    </tr>\n",
       "    <tr>\n",
       "      <th>3</th>\n",
       "      <td>87</td>\n",
       "      <td>VEHICLES, EXCEPT RAILWAY OR TRAMWAY, AND PARTS...</td>\n",
       "      <td>2016</td>\n",
       "      <td>68051586710</td>\n",
       "    </tr>\n",
       "    <tr>\n",
       "      <th>4</th>\n",
       "      <td>12</td>\n",
       "      <td>OIL SEEDS ETC.; MISC GRAIN, SEED, FRUIT, PLANT...</td>\n",
       "      <td>2016</td>\n",
       "      <td>67929422483</td>\n",
       "    </tr>\n",
       "    <tr>\n",
       "      <th>5</th>\n",
       "      <td>90</td>\n",
       "      <td>OPTIC, PHOTO ETC, MEDIC OR S</td>\n",
       "      <td>2016</td>\n",
       "      <td>52258343745</td>\n",
       "    </tr>\n",
       "    <tr>\n",
       "      <th>6</th>\n",
       "      <td>39</td>\n",
       "      <td>PLASTICS AND ARTICLES THEREOF</td>\n",
       "      <td>2016</td>\n",
       "      <td>30831182836</td>\n",
       "    </tr>\n",
       "    <tr>\n",
       "      <th>7</th>\n",
       "      <td>47</td>\n",
       "      <td>WOOD PULP ETC; RECOVD (WASTE &amp; SCRAP) PPR &amp; PPRBD</td>\n",
       "      <td>2016</td>\n",
       "      <td>21010065898</td>\n",
       "    </tr>\n",
       "    <tr>\n",
       "      <th>8</th>\n",
       "      <td>44</td>\n",
       "      <td>WOOD AND ARTICLES OF WOOD; WOOD CHARCOAL</td>\n",
       "      <td>2016</td>\n",
       "      <td>16010520349</td>\n",
       "    </tr>\n",
       "    <tr>\n",
       "      <th>9</th>\n",
       "      <td>29</td>\n",
       "      <td>ORGANIC CHEMICALS</td>\n",
       "      <td>2016</td>\n",
       "      <td>15204269108</td>\n",
       "    </tr>\n",
       "  </tbody>\n",
       "</table>\n",
       "</div>"
      ],
      "text/plain": [
       "   HSC                                        Description Period        total\n",
       "0   88            AIRCRAFT, SPACECRAFT, AND PARTS THEREOF   2016  86651134392\n",
       "1   85                      ELECTRIC MACHINERY ETC; SOUND   2016  78930329601\n",
       "2   84   NUCLEAR REACTORS, BOILERS, MACHINERY ETC.; PARTS   2016  74341211586\n",
       "3   87  VEHICLES, EXCEPT RAILWAY OR TRAMWAY, AND PARTS...   2016  68051586710\n",
       "4   12  OIL SEEDS ETC.; MISC GRAIN, SEED, FRUIT, PLANT...   2016  67929422483\n",
       "5   90                       OPTIC, PHOTO ETC, MEDIC OR S   2016  52258343745\n",
       "6   39                      PLASTICS AND ARTICLES THEREOF   2016  30831182836\n",
       "7   47  WOOD PULP ETC; RECOVD (WASTE & SCRAP) PPR & PPRBD   2016  21010065898\n",
       "8   44           WOOD AND ARTICLES OF WOOD; WOOD CHARCOAL   2016  16010520349\n",
       "9   29                                  ORGANIC CHEMICALS   2016  15204269108"
      ]
     },
     "execution_count": 496,
     "metadata": {},
     "output_type": "execute_result"
    }
   ],
   "source": [
    "data_2015"
   ]
  },
  {
   "cell_type": "code",
   "execution_count": 497,
   "metadata": {},
   "outputs": [],
   "source": [
    "year= \"2016\"\n",
    "stmt = session.query(YRImports).statement\n",
    "df = pd.read_sql_query(stmt, session.bind)\n",
    "df[\"YTDValue\"] =pd.to_numeric(df[\"YTDValue\"])\n",
    "first_2015 = df[df[\"Period\"].str.contains(f\"{year}\")]\n",
    "data_2015 = first_2015.groupby([\"HSC\",\"Description\",\"Period\"])[\"YTDValue\"].sum()\n",
    "test= pd.DataFrame({\"total\" : data_2015})\n",
    "data_2015= test.nlargest(10,\"total\")\n",
    "data_2015 = data_2015.reset_index()\n",
    "\n",
    "imp_2015= data_2015.nlargest(10,\"total\")"
   ]
  },
  {
   "cell_type": "code",
   "execution_count": 501,
   "metadata": {},
   "outputs": [
    {
     "data": {
      "text/plain": [
       "0    7.727439e+06\n",
       "1    6.185776e+06\n",
       "2    1.863899e+06\n",
       "3    1.356311e+06\n",
       "4    9.768266e+05\n",
       "5    9.259231e+05\n",
       "6    8.961216e+05\n",
       "7    8.787688e+05\n",
       "8    8.654447e+05\n",
       "9    7.121349e+05\n",
       "Name: total, dtype: float64"
      ]
     },
     "execution_count": 501,
     "metadata": {},
     "output_type": "execute_result"
    }
   ],
   "source": [
    "imp_2015[\"total\"].div(100000)"
   ]
  },
  {
   "cell_type": "code",
   "execution_count": 424,
   "metadata": {},
   "outputs": [],
   "source": [
    "pie_imports = {}\n",
    "for result in data_2015:\n",
    "    pie_imports[\"Description\"] = result[1]\n",
    "    pie_imports[\"Annual Value\"] = result[2]\n",
    "    pie_imports[\"HSC\"] = result[0]"
   ]
  },
  {
   "cell_type": "code",
   "execution_count": null,
   "metadata": {},
   "outputs": [],
   "source": []
  },
  {
   "cell_type": "code",
   "execution_count": 429,
   "metadata": {},
   "outputs": [
    {
     "data": {
      "text/plain": [
       "[{'Description': 'ELECTRIC MACHINERY ETC; SOUND',\n",
       "  'HSC': '85',\n",
       "  'Period': '2015',\n",
       "  'total': 818112819400},\n",
       " {'Description': 'NUCLEAR REACTORS, BOILERS, MACHINERY ETC.; PARTS',\n",
       "  'HSC': '84',\n",
       "  'Period': '2015',\n",
       "  'total': 666100643226},\n",
       " {'Description': 'FURNITURE; BEDDING ETC; LAMPS NESOI ETC',\n",
       "  'HSC': '94',\n",
       "  'Period': '2015',\n",
       "  'total': 181010404192},\n",
       " {'Description': 'TOYS, GAMES & SPORT EQUIPMENT; PARTS & ACCESSORIES',\n",
       "  'HSC': '95',\n",
       "  'Period': '2015',\n",
       "  'total': 137998619706},\n",
       " {'Description': 'FOOTWEAR, GAITERS ETC. AND PARTS THEREOF',\n",
       "  'HSC': '64',\n",
       "  'Period': '2015',\n",
       "  'total': 113801708948},\n",
       " {'Description': 'APPAREL ARTICLES AND ACCESSORIES, KNIT OR CROCHET',\n",
       "  'HSC': '61',\n",
       "  'Period': '2015',\n",
       "  'total': 97092844954},\n",
       " {'Description': 'APPAREL ARTICLES AND ACCESSORIES, NOT KNIT ETC.',\n",
       "  'HSC': '62',\n",
       "  'Period': '2015',\n",
       "  'total': 94814507202},\n",
       " {'Description': 'PLASTICS AND ARTICLES THEREOF',\n",
       "  'HSC': '39',\n",
       "  'Period': '2015',\n",
       "  'total': 94005729937},\n",
       " {'Description': 'VEHICLES, EXCEPT RAILWAY OR TRAMWAY, AND PARTS ETC',\n",
       "  'HSC': '87',\n",
       "  'Period': '2015',\n",
       "  'total': 85574454525},\n",
       " {'Description': 'OPTIC, PHOTO ETC, MEDIC OR S',\n",
       "  'HSC': '90',\n",
       "  'Period': '2015',\n",
       "  'total': 71151180495}]"
      ]
     },
     "execution_count": 429,
     "metadata": {},
     "output_type": "execute_result"
    }
   ],
   "source": [
    "data_2015.to_dict(\"records\")"
   ]
  },
  {
   "cell_type": "code",
   "execution_count": null,
   "metadata": {},
   "outputs": [],
   "source": []
  }
 ],
 "metadata": {
  "kernelspec": {
   "display_name": "Python 3",
   "language": "python",
   "name": "python3"
  },
  "language_info": {
   "codemirror_mode": {
    "name": "ipython",
    "version": 3
   },
   "file_extension": ".py",
   "mimetype": "text/x-python",
   "name": "python",
   "nbconvert_exporter": "python",
   "pygments_lexer": "ipython3",
   "version": "3.6.5"
  }
 },
 "nbformat": 4,
 "nbformat_minor": 2
}
