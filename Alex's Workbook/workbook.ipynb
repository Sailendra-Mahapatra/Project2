{
 "cells": [
  {
   "cell_type": "code",
   "execution_count": 435,
   "metadata": {},
   "outputs": [],
   "source": [
    "import datetime as dt\n",
    "import numpy as np\n",
    "import pandas as pd\n",
    "import requests\n",
    "import json\n",
    "from pprint import pprint\n",
    "import csv\n",
    "# from api_key import api_key\n",
    "from flask import Flask, jsonify, render_template\n",
    "\n",
    "from flask_sqlalchemy import SQLAlchemy\n",
    "from sqlalchemy.ext.automap import automap_base\n",
    "from sqlalchemy.orm import Session\n",
    "from sqlalchemy import create_engine, func\n",
    "import sqlalchemy"
   ]
  },
  {
   "cell_type": "code",
   "execution_count": 436,
   "metadata": {},
   "outputs": [],
   "source": [
    "api_key = \"93ba5366cb39b249dcbde95cc4d461e7b05b747d\"\n",
    "export_url = (f\"https://api.census.gov/data/timeseries/intltrade/exports\")\n",
    "import_url = (f\"https://api.census.gov/data/timeseries/intltrade/imports\")\n",
    "china_code = \"5700\"\n",
    "usa_code = \"1000\"\n",
    "month = []\n",
    "year = []\n",
    "#&ParameterName={parameter_name}\n",
    "#url = (f\"https://apps.bea.gov/api/data?&UserID={api_key}&method={get_data}&datasetname={dataset}&LineCode={line_code}&TableName={table_name}&GeoFIPS={geofip}&Year={year}\")\n",
    "\n",
    "#SAINC51\n",
    "#response = requests.get(url).json()       \n",
    "#list_response = requests.get(list_url).json()"
   ]
  },
  {
   "cell_type": "code",
   "execution_count": 38,
   "metadata": {},
   "outputs": [],
   "source": [
    "total_trade = requests.get(f\"{export_url}/hs?get=ALL_VAL_MO&key={api_key}&time=2019-01\").json() "
   ]
  },
  {
   "cell_type": "code",
   "execution_count": 39,
   "metadata": {},
   "outputs": [
    {
     "data": {
      "text/plain": [
       "'129545568405'"
      ]
     },
     "execution_count": 39,
     "metadata": {},
     "output_type": "execute_result"
    }
   ],
   "source": [
    "total_trade[1][0]\n"
   ]
  },
  {
   "cell_type": "code",
   "execution_count": 40,
   "metadata": {},
   "outputs": [
    {
     "data": {
      "text/plain": [
       "[['DF', 'ALL_VAL_MO', 'ALL_VAL_YR', 'YEAR', 'MONTH'],\n",
       " ['-', '131915459503', '1578516879950', '2013', '12'],\n",
       " ['1', '114956497285', '1371134061205', '2013', '12'],\n",
       " ['2', '16958962218', '207382818745', '2013', '12']]"
      ]
     },
     "execution_count": 40,
     "metadata": {},
     "output_type": "execute_result"
    }
   ],
   "source": [
    "requests.get(f\"https://api.census.gov/data/timeseries/intltrade/exports/hs?get=DF,ALL_VAL_MO,ALL_VAL_YR&YEAR=2013&MONTH=12\").json()"
   ]
  },
  {
   "cell_type": "code",
   "execution_count": 160,
   "metadata": {},
   "outputs": [],
   "source": [
    "china_exports = requests.get(f\"{export_url}/hs?get=ALL_VAL_MO,ALL_VAL_YR&key={api_key}&time=from+2015-01&CTY_CODE={china_code}\").json()\n"
   ]
  },
  {
   "cell_type": "code",
   "execution_count": 44,
   "metadata": {},
   "outputs": [
    {
     "name": "stdout",
     "output_type": "stream",
     "text": [
      "clear\n"
     ]
    }
   ],
   "source": [
    "# requests.get(f\"{export_url}/hs?get=CTY_CODE,CTY_NAME,ALL_VAL_MO,ALL_VAL_YR,E_COMMODITY_LDESC&key={api_key}&time=from+2015-01&CTY_CODE={china_code}\").json()\n"
   ]
  },
  {
   "cell_type": "code",
   "execution_count": 45,
   "metadata": {},
   "outputs": [],
   "source": [
    "# export_by_commodity = requests.get(f\"{export_url}/hs?get=E_COMMODITY,E_COMMODITY_SDESC,ALL_VAL_MO,ALL_VAL_YR&key={api_key}&time=from+2015-01&COMM_LVL=HS4&CTY_CODE={china_code}\").json()\n"
   ]
  },
  {
   "cell_type": "code",
   "execution_count": 47,
   "metadata": {},
   "outputs": [
    {
     "data": {
      "text/plain": [
       "54073"
      ]
     },
     "execution_count": 47,
     "metadata": {},
     "output_type": "execute_result"
    }
   ],
   "source": [
    "len(export_by_commodity)"
   ]
  },
  {
   "cell_type": "code",
   "execution_count": 48,
   "metadata": {},
   "outputs": [],
   "source": [
    "count = 1\n",
    "movalue = []\n",
    "yrvalue = []\n",
    "period = []\n",
    "desc = []\n",
    "code = []\n",
    "while count < 54072:\n",
    "    count += 1\n",
    "    movalue.append(export_by_commodity[count][2])\n",
    "    yrvalue.append(export_by_commodity[count][3])\n",
    "    desc.append(export_by_commodity[count][1])\n",
    "    period.append(export_by_commodity[count][4])\n",
    "    code.append(export_by_commodity[count][0])\n",
    "china_data = pd.DataFrame({\"YTD Value\" : yrvalue,\n",
    "                           \"Monthly Value \" : movalue,\n",
    "                          \"Period\" : period,\n",
    "                          \"Commodity\" : desc,\n",
    "                          \"Comm Code\": code})"
   ]
  },
  {
   "cell_type": "code",
   "execution_count": 51,
   "metadata": {},
   "outputs": [
    {
     "data": {
      "text/html": [
       "<div>\n",
       "<style scoped>\n",
       "    .dataframe tbody tr th:only-of-type {\n",
       "        vertical-align: middle;\n",
       "    }\n",
       "\n",
       "    .dataframe tbody tr th {\n",
       "        vertical-align: top;\n",
       "    }\n",
       "\n",
       "    .dataframe thead th {\n",
       "        text-align: right;\n",
       "    }\n",
       "</style>\n",
       "<table border=\"1\" class=\"dataframe\">\n",
       "  <thead>\n",
       "    <tr style=\"text-align: right;\">\n",
       "      <th></th>\n",
       "      <th>YTD Value</th>\n",
       "      <th>Monthly Value</th>\n",
       "      <th>Period</th>\n",
       "      <th>Commodity</th>\n",
       "      <th>Comm Code</th>\n",
       "    </tr>\n",
       "  </thead>\n",
       "  <tbody>\n",
       "    <tr>\n",
       "      <th>54066</th>\n",
       "      <td>320405</td>\n",
       "      <td>37821</td>\n",
       "      <td>2018-08</td>\n",
       "      <td>MONOPODS, BIPODS, TRIPODS AND SIMILAR ARTICLES</td>\n",
       "      <td>9620</td>\n",
       "    </tr>\n",
       "    <tr>\n",
       "      <th>54067</th>\n",
       "      <td>327518</td>\n",
       "      <td>7113</td>\n",
       "      <td>2018-09</td>\n",
       "      <td>MONOPODS, BIPODS, TRIPODS AND SIMILAR ARTICLES</td>\n",
       "      <td>9620</td>\n",
       "    </tr>\n",
       "    <tr>\n",
       "      <th>54068</th>\n",
       "      <td>361042</td>\n",
       "      <td>33524</td>\n",
       "      <td>2018-10</td>\n",
       "      <td>MONOPODS, BIPODS, TRIPODS AND SIMILAR ARTICLES</td>\n",
       "      <td>9620</td>\n",
       "    </tr>\n",
       "    <tr>\n",
       "      <th>54069</th>\n",
       "      <td>399482</td>\n",
       "      <td>38440</td>\n",
       "      <td>2018-11</td>\n",
       "      <td>MONOPODS, BIPODS, TRIPODS AND SIMILAR ARTICLES</td>\n",
       "      <td>9620</td>\n",
       "    </tr>\n",
       "    <tr>\n",
       "      <th>54070</th>\n",
       "      <td>444867</td>\n",
       "      <td>45385</td>\n",
       "      <td>2018-12</td>\n",
       "      <td>MONOPODS, BIPODS, TRIPODS AND SIMILAR ARTICLES</td>\n",
       "      <td>9620</td>\n",
       "    </tr>\n",
       "  </tbody>\n",
       "</table>\n",
       "</div>"
      ],
      "text/plain": [
       "      YTD Value Monthly Value    Period  \\\n",
       "54066    320405          37821  2018-08   \n",
       "54067    327518           7113  2018-09   \n",
       "54068    361042          33524  2018-10   \n",
       "54069    399482          38440  2018-11   \n",
       "54070    444867          45385  2018-12   \n",
       "\n",
       "                                            Commodity Comm Code  \n",
       "54066  MONOPODS, BIPODS, TRIPODS AND SIMILAR ARTICLES      9620  \n",
       "54067  MONOPODS, BIPODS, TRIPODS AND SIMILAR ARTICLES      9620  \n",
       "54068  MONOPODS, BIPODS, TRIPODS AND SIMILAR ARTICLES      9620  \n",
       "54069  MONOPODS, BIPODS, TRIPODS AND SIMILAR ARTICLES      9620  \n",
       "54070  MONOPODS, BIPODS, TRIPODS AND SIMILAR ARTICLES      9620  "
      ]
     },
     "execution_count": 51,
     "metadata": {},
     "output_type": "execute_result"
    }
   ],
   "source": [
    "\n",
    "china_data.tail()"
   ]
  },
  {
   "cell_type": "code",
   "execution_count": 437,
   "metadata": {},
   "outputs": [],
   "source": [
    "engine = create_engine('sqlite:///../data/china_trade.sqlite', echo=False)\n"
   ]
  },
  {
   "cell_type": "code",
   "execution_count": null,
   "metadata": {},
   "outputs": [],
   "source": []
  },
  {
   "cell_type": "code",
   "execution_count": 15,
   "metadata": {},
   "outputs": [
    {
     "ename": "NameError",
     "evalue": "name 'china_data' is not defined",
     "output_type": "error",
     "traceback": [
      "\u001b[1;31m---------------------------------------------------------------------------\u001b[0m",
      "\u001b[1;31mNameError\u001b[0m                                 Traceback (most recent call last)",
      "\u001b[1;32m<ipython-input-15-324fb6a0f833>\u001b[0m in \u001b[0;36m<module>\u001b[1;34m()\u001b[0m\n\u001b[1;32m----> 1\u001b[1;33m \u001b[0mchina_data\u001b[0m\u001b[1;33m.\u001b[0m\u001b[0mto_sql\u001b[0m\u001b[1;33m(\u001b[0m\u001b[1;34m'export'\u001b[0m\u001b[1;33m,\u001b[0m \u001b[0mcon\u001b[0m\u001b[1;33m=\u001b[0m\u001b[0mengine\u001b[0m\u001b[1;33m,\u001b[0m \u001b[0mif_exists\u001b[0m\u001b[1;33m=\u001b[0m\u001b[1;34m'replace'\u001b[0m\u001b[1;33m)\u001b[0m \u001b[1;31m#dont run this again\u001b[0m\u001b[1;33m\u001b[0m\u001b[0m\n\u001b[0m",
      "\u001b[1;31mNameError\u001b[0m: name 'china_data' is not defined"
     ]
    }
   ],
   "source": [
    "# china_data.to_sql('export', con=engine, if_exists='replace') #dont run this again"
   ]
  },
  {
   "cell_type": "code",
   "execution_count": 16,
   "metadata": {},
   "outputs": [],
   "source": [
    "import_by_commodity = requests.get(f\"{import_url}/hs?get=I_COMMODITY,I_COMMODITY_SDESC,GEN_VAL_MO,GEN_VAL_YR&key={api_key}&time=from+2015-01&COMM_LVL=HS4&CTY_CODE={china_code}\").json()"
   ]
  },
  {
   "cell_type": "code",
   "execution_count": 19,
   "metadata": {},
   "outputs": [],
   "source": [
    "count = 1\n",
    "movalue = []\n",
    "yrvalue = []\n",
    "period = []\n",
    "desc = []\n",
    "code = []\n",
    "while count < 55352:\n",
    "    count += 1\n",
    "    movalue.append(import_by_commodity[count][2])\n",
    "    yrvalue.append(import_by_commodity[count][3])\n",
    "    desc.append(import_by_commodity[count][1])\n",
    "    period.append(import_by_commodity[count][4])\n",
    "    code.append(import_by_commodity[count][0])\n",
    "import_china_data = pd.DataFrame({\"YTD Value\" : yrvalue,\n",
    "                           \"Monthly Value \" : movalue,\n",
    "                          \"Period\" : period,\n",
    "                          \"Commodity\" : desc,\n",
    "                          \"Comm Code\": code})"
   ]
  },
  {
   "cell_type": "code",
   "execution_count": 29,
   "metadata": {},
   "outputs": [],
   "source": [
    "import_china_data.to_sql('import', con=engine, if_exists='replace') "
   ]
  },
  {
   "cell_type": "code",
   "execution_count": 24,
   "metadata": {},
   "outputs": [],
   "source": [
    "# import_china_data"
   ]
  },
  {
   "cell_type": "code",
   "execution_count": 60,
   "metadata": {},
   "outputs": [],
   "source": [
    "engine = create_engine('sqlite:///../data/china_trade.sqlite')\n",
    "#engine = create_engine(\"sqlite:///db/china_trade.sqlite\")\n",
    "\n",
    "\n"
   ]
  },
  {
   "cell_type": "code",
   "execution_count": 311,
   "metadata": {},
   "outputs": [],
   "source": [
    "Base = automap_base()\n",
    "Base.prepare(engine, reflect=True)\n",
    "session = Session(engine)\n"
   ]
  },
  {
   "cell_type": "code",
   "execution_count": 312,
   "metadata": {},
   "outputs": [
    {
     "data": {
      "text/plain": [
       "['export', 'hs2export', 'hs2import', 'imports', 'yrhs2import']"
      ]
     },
     "execution_count": 312,
     "metadata": {},
     "output_type": "execute_result"
    }
   ],
   "source": [
    "Base.classes.keys()"
   ]
  },
  {
   "cell_type": "code",
   "execution_count": 63,
   "metadata": {},
   "outputs": [],
   "source": [
    "Imports = Base.classes.imports"
   ]
  },
  {
   "cell_type": "code",
   "execution_count": 313,
   "metadata": {},
   "outputs": [],
   "source": [
    "IndImports = Base.classes.hs2import\n",
    "IndExports = Base.classes.hs2export\n",
    "YRImports = Base.classes.yrhs2import"
   ]
  },
  {
   "cell_type": "code",
   "execution_count": 65,
   "metadata": {},
   "outputs": [],
   "source": [
    "Exports = Base.classes.export"
   ]
  },
  {
   "cell_type": "code",
   "execution_count": 66,
   "metadata": {},
   "outputs": [
    {
     "data": {
      "text/plain": [
       "{'Description': 'FISH, DRIED, SALTED ETC, SMOKED ETC; ED FISH MEAL',\n",
       " 'HSC': 305,\n",
       " 'MoValue ': 274324,\n",
       " 'Period': '2015-02',\n",
       " 'YTDValue': 310025,\n",
       " '_sa_instance_state': <sqlalchemy.orm.state.InstanceState at 0x1ea322345c0>,\n",
       " 'index': 0}"
      ]
     },
     "execution_count": 66,
     "metadata": {},
     "output_type": "execute_result"
    }
   ],
   "source": [
    "exports = session.query(Exports).first()\n",
    "exports.__dict__\n"
   ]
  },
  {
   "cell_type": "code",
   "execution_count": 14,
   "metadata": {},
   "outputs": [],
   "source": [
    "results = session.query(Imports).statement\n"
   ]
  },
  {
   "cell_type": "code",
   "execution_count": 12,
   "metadata": {},
   "outputs": [],
   "source": [
    "df = pd.read_sql_query(results, session.bind)"
   ]
  },
  {
   "cell_type": "code",
   "execution_count": 13,
   "metadata": {},
   "outputs": [
    {
     "data": {
      "text/plain": [
       "Index(['index', 'YTDValue', 'MoValue', 'Period', 'Description', 'HSC'], dtype='object')"
      ]
     },
     "execution_count": 13,
     "metadata": {},
     "output_type": "execute_result"
    }
   ],
   "source": [
    "df.columns"
   ]
  },
  {
   "cell_type": "code",
   "execution_count": null,
   "metadata": {},
   "outputs": [],
   "source": []
  },
  {
   "cell_type": "code",
   "execution_count": 14,
   "metadata": {},
   "outputs": [
    {
     "data": {
      "text/plain": [
       "['index', 'YTDValue', 'MoValue', 'Period', 'Description', 'HSC']"
      ]
     },
     "execution_count": 14,
     "metadata": {},
     "output_type": "execute_result"
    }
   ],
   "source": [
    "list(df.columns)"
   ]
  },
  {
   "cell_type": "code",
   "execution_count": 13,
   "metadata": {},
   "outputs": [
    {
     "ename": "AttributeError",
     "evalue": "type object 'imports' has no attribute 'MoValue'",
     "output_type": "error",
     "traceback": [
      "\u001b[1;31m---------------------------------------------------------------------------\u001b[0m",
      "\u001b[1;31mAttributeError\u001b[0m                            Traceback (most recent call last)",
      "\u001b[1;32m<ipython-input-13-37ab62a747f2>\u001b[0m in \u001b[0;36m<module>\u001b[1;34m()\u001b[0m\n\u001b[0;32m      2\u001b[0m         \u001b[0mImports\u001b[0m\u001b[1;33m.\u001b[0m\u001b[0mDescription\u001b[0m\u001b[1;33m,\u001b[0m\u001b[1;33m\u001b[0m\u001b[0m\n\u001b[0;32m      3\u001b[0m         \u001b[0mImports\u001b[0m\u001b[1;33m.\u001b[0m\u001b[0mYTDValue\u001b[0m\u001b[1;33m,\u001b[0m\u001b[1;33m\u001b[0m\u001b[0m\n\u001b[1;32m----> 4\u001b[1;33m         \u001b[0mImports\u001b[0m\u001b[1;33m.\u001b[0m\u001b[0mMoValue\u001b[0m\u001b[1;33m,\u001b[0m\u001b[1;33m\u001b[0m\u001b[0m\n\u001b[0m\u001b[0;32m      5\u001b[0m         \u001b[0mImports\u001b[0m\u001b[1;33m.\u001b[0m\u001b[0mPeriod\u001b[0m\u001b[1;33m,\u001b[0m\u001b[1;33m\u001b[0m\u001b[0m\n\u001b[0;32m      6\u001b[0m         \u001b[0mImports\u001b[0m\u001b[1;33m.\u001b[0m\u001b[0mDescription\u001b[0m\u001b[1;33m\u001b[0m\u001b[0m\n",
      "\u001b[1;31mAttributeError\u001b[0m: type object 'imports' has no attribute 'MoValue'"
     ]
    }
   ],
   "source": [
    "sel = [\n",
    "        Imports.Description,\n",
    "        Imports.YTDValue,\n",
    "        Imports.MoValue,\n",
    "        Imports.Period,\n",
    "        Imports.Description\n",
    "    ]"
   ]
  },
  {
   "cell_type": "code",
   "execution_count": 3,
   "metadata": {},
   "outputs": [],
   "source": [
    "# session.query(*sel).filter(Imports.HSC == \"305\").all()"
   ]
  },
  {
   "cell_type": "code",
   "execution_count": 27,
   "metadata": {},
   "outputs": [],
   "source": [
    "stmt = session.query(Imports).statement\n",
    "df = pd.read_sql_query(stmt, session.bind)\n"
   ]
  },
  {
   "cell_type": "code",
   "execution_count": 120,
   "metadata": {},
   "outputs": [],
   "source": [
    "##### GOOD CODE FOR INDIVIDUAL SEARCHES IE TOOLTIP\"\n",
    "year = 2018\n",
    "hsc = 97\n",
    "sel = [\n",
    "        Imports.Description,\n",
    "        Imports.YTDValue,\n",
    "        Imports.Period,\n",
    "        Imports.HSC\n",
    "        ]\n",
    "\n",
    "results = session.query(*sel).filter(Imports.HSC == hsc).filter(Imports.Period.like(f\"%{year}%\")).all()\n",
    "hsc_data = {}\n",
    "for result in results:\n",
    "    hsc_data[\"Description\"] = result[0]\n",
    "    hsc_data[\"Annual Value\"] = result[1]\n",
    "    hsc_data[\"Year\"] = result[2]\n",
    "    hsc_data[\"HSC\"] = result[3]"
   ]
  },
  {
   "cell_type": "code",
   "execution_count": 137,
   "metadata": {},
   "outputs": [
    {
     "data": {
      "text/plain": [
       "{'Annual Value': 252327033,\n",
       " 'Description': 'SPECIAL IMPORT PROVISIONS, NESOI',\n",
       " 'HSC': 99,\n",
       " 'Year': '2015-01'}"
      ]
     },
     "execution_count": 137,
     "metadata": {},
     "output_type": "execute_result"
    }
   ],
   "source": [
    "hsc_data"
   ]
  },
  {
   "cell_type": "raw",
   "metadata": {},
   "source": [
    "type"
   ]
  },
  {
   "cell_type": "code",
   "execution_count": 326,
   "metadata": {},
   "outputs": [],
   "source": [
    "year_hs2 = requests.get(f\"{import_url}/hs?get=I_COMMODITY,I_COMMODITY_SDESC,GEN_VAL_YR&YEAR=2015&YEAR=2016&YEAR=YEAR=2017&YEAR=2018&YEAR=2019&COMM_LVL=HS2&CTY_CODE={china_code}\").json()\n"
   ]
  },
  {
   "cell_type": "code",
   "execution_count": 329,
   "metadata": {},
   "outputs": [],
   "source": [
    "# year_hs2"
   ]
  },
  {
   "cell_type": "code",
   "execution_count": 286,
   "metadata": {},
   "outputs": [],
   "source": [
    "# count = 1\n",
    "# movalue = []\n",
    "# yrvalue = []\n",
    "# period = []\n",
    "# desc = []\n",
    "# code = []\n",
    "# while count < 4802:\n",
    "#     count += 1\n",
    "#     yrvalue.append(year_hs2[count][2])\n",
    "#     desc.append(year_hs2[count][1])\n",
    "#     period.append(year_hs2[count][3])\n",
    "#     code.append(year_hs2[count][0])\n",
    "# yr_hs2_import = pd.DataFrame({\"YTDValue\" : yrvalue,\n",
    "#                           \"Period\" : period,\n",
    "#                           \"Description\" : desc,\n",
    "#                           \"HSC\": code})"
   ]
  },
  {
   "cell_type": "code",
   "execution_count": 291,
   "metadata": {},
   "outputs": [],
   "source": [
    "# yr_hs2_import.to_sql('yrhs2import', con=engine, if_exists='replace') "
   ]
  },
  {
   "cell_type": "code",
   "execution_count": 434,
   "metadata": {},
   "outputs": [
    {
     "ename": "JSONDecodeError",
     "evalue": "Expecting value: line 1 column 1 (char 0)",
     "output_type": "error",
     "traceback": [
      "\u001b[1;31m---------------------------------------------------------------------------\u001b[0m",
      "\u001b[1;31mJSONDecodeError\u001b[0m                           Traceback (most recent call last)",
      "\u001b[1;32m<ipython-input-434-b6293ee5e06e>\u001b[0m in \u001b[0;36m<module>\u001b[1;34m()\u001b[0m\n\u001b[1;32m----> 1\u001b[1;33m \u001b[0myear_hs2\u001b[0m \u001b[1;33m=\u001b[0m \u001b[0mrequests\u001b[0m\u001b[1;33m.\u001b[0m\u001b[0mget\u001b[0m\u001b[1;33m(\u001b[0m\u001b[1;34mf\"{import_url}/hs?get=E_COMMODITY,E_COMMODITY_SDESC,GEN_VAL_YR&YEAR=2015&YEAR=2016&YEAR=2017&YEAR=2018&YEAR=2019&COMM_LVL=HS2&CTY_CODE={china_code}\"\u001b[0m\u001b[1;33m)\u001b[0m\u001b[1;33m.\u001b[0m\u001b[0mjson\u001b[0m\u001b[1;33m(\u001b[0m\u001b[1;33m)\u001b[0m\u001b[1;33m\u001b[0m\u001b[0m\n\u001b[0m",
      "\u001b[1;32mC:\\Program Files (x86)\\Microsoft Visual Studio\\Shared\\Anaconda3_64\\lib\\site-packages\\requests\\models.py\u001b[0m in \u001b[0;36mjson\u001b[1;34m(self, **kwargs)\u001b[0m\n\u001b[0;32m    890\u001b[0m                     \u001b[1;31m# used.\u001b[0m\u001b[1;33m\u001b[0m\u001b[1;33m\u001b[0m\u001b[0m\n\u001b[0;32m    891\u001b[0m                     \u001b[1;32mpass\u001b[0m\u001b[1;33m\u001b[0m\u001b[0m\n\u001b[1;32m--> 892\u001b[1;33m         \u001b[1;32mreturn\u001b[0m \u001b[0mcomplexjson\u001b[0m\u001b[1;33m.\u001b[0m\u001b[0mloads\u001b[0m\u001b[1;33m(\u001b[0m\u001b[0mself\u001b[0m\u001b[1;33m.\u001b[0m\u001b[0mtext\u001b[0m\u001b[1;33m,\u001b[0m \u001b[1;33m**\u001b[0m\u001b[0mkwargs\u001b[0m\u001b[1;33m)\u001b[0m\u001b[1;33m\u001b[0m\u001b[0m\n\u001b[0m\u001b[0;32m    893\u001b[0m \u001b[1;33m\u001b[0m\u001b[0m\n\u001b[0;32m    894\u001b[0m     \u001b[1;33m@\u001b[0m\u001b[0mproperty\u001b[0m\u001b[1;33m\u001b[0m\u001b[0m\n",
      "\u001b[1;32mC:\\Program Files (x86)\\Microsoft Visual Studio\\Shared\\Anaconda3_64\\lib\\json\\__init__.py\u001b[0m in \u001b[0;36mloads\u001b[1;34m(s, encoding, cls, object_hook, parse_float, parse_int, parse_constant, object_pairs_hook, **kw)\u001b[0m\n\u001b[0;32m    352\u001b[0m             \u001b[0mparse_int\u001b[0m \u001b[1;32mis\u001b[0m \u001b[1;32mNone\u001b[0m \u001b[1;32mand\u001b[0m \u001b[0mparse_float\u001b[0m \u001b[1;32mis\u001b[0m \u001b[1;32mNone\u001b[0m \u001b[1;32mand\u001b[0m\u001b[1;33m\u001b[0m\u001b[0m\n\u001b[0;32m    353\u001b[0m             parse_constant is None and object_pairs_hook is None and not kw):\n\u001b[1;32m--> 354\u001b[1;33m         \u001b[1;32mreturn\u001b[0m \u001b[0m_default_decoder\u001b[0m\u001b[1;33m.\u001b[0m\u001b[0mdecode\u001b[0m\u001b[1;33m(\u001b[0m\u001b[0ms\u001b[0m\u001b[1;33m)\u001b[0m\u001b[1;33m\u001b[0m\u001b[0m\n\u001b[0m\u001b[0;32m    355\u001b[0m     \u001b[1;32mif\u001b[0m \u001b[0mcls\u001b[0m \u001b[1;32mis\u001b[0m \u001b[1;32mNone\u001b[0m\u001b[1;33m:\u001b[0m\u001b[1;33m\u001b[0m\u001b[0m\n\u001b[0;32m    356\u001b[0m         \u001b[0mcls\u001b[0m \u001b[1;33m=\u001b[0m \u001b[0mJSONDecoder\u001b[0m\u001b[1;33m\u001b[0m\u001b[0m\n",
      "\u001b[1;32mC:\\Program Files (x86)\\Microsoft Visual Studio\\Shared\\Anaconda3_64\\lib\\json\\decoder.py\u001b[0m in \u001b[0;36mdecode\u001b[1;34m(self, s, _w)\u001b[0m\n\u001b[0;32m    337\u001b[0m \u001b[1;33m\u001b[0m\u001b[0m\n\u001b[0;32m    338\u001b[0m         \"\"\"\n\u001b[1;32m--> 339\u001b[1;33m         \u001b[0mobj\u001b[0m\u001b[1;33m,\u001b[0m \u001b[0mend\u001b[0m \u001b[1;33m=\u001b[0m \u001b[0mself\u001b[0m\u001b[1;33m.\u001b[0m\u001b[0mraw_decode\u001b[0m\u001b[1;33m(\u001b[0m\u001b[0ms\u001b[0m\u001b[1;33m,\u001b[0m \u001b[0midx\u001b[0m\u001b[1;33m=\u001b[0m\u001b[0m_w\u001b[0m\u001b[1;33m(\u001b[0m\u001b[0ms\u001b[0m\u001b[1;33m,\u001b[0m \u001b[1;36m0\u001b[0m\u001b[1;33m)\u001b[0m\u001b[1;33m.\u001b[0m\u001b[0mend\u001b[0m\u001b[1;33m(\u001b[0m\u001b[1;33m)\u001b[0m\u001b[1;33m)\u001b[0m\u001b[1;33m\u001b[0m\u001b[0m\n\u001b[0m\u001b[0;32m    340\u001b[0m         \u001b[0mend\u001b[0m \u001b[1;33m=\u001b[0m \u001b[0m_w\u001b[0m\u001b[1;33m(\u001b[0m\u001b[0ms\u001b[0m\u001b[1;33m,\u001b[0m \u001b[0mend\u001b[0m\u001b[1;33m)\u001b[0m\u001b[1;33m.\u001b[0m\u001b[0mend\u001b[0m\u001b[1;33m(\u001b[0m\u001b[1;33m)\u001b[0m\u001b[1;33m\u001b[0m\u001b[0m\n\u001b[0;32m    341\u001b[0m         \u001b[1;32mif\u001b[0m \u001b[0mend\u001b[0m \u001b[1;33m!=\u001b[0m \u001b[0mlen\u001b[0m\u001b[1;33m(\u001b[0m\u001b[0ms\u001b[0m\u001b[1;33m)\u001b[0m\u001b[1;33m:\u001b[0m\u001b[1;33m\u001b[0m\u001b[0m\n",
      "\u001b[1;32mC:\\Program Files (x86)\\Microsoft Visual Studio\\Shared\\Anaconda3_64\\lib\\json\\decoder.py\u001b[0m in \u001b[0;36mraw_decode\u001b[1;34m(self, s, idx)\u001b[0m\n\u001b[0;32m    355\u001b[0m             \u001b[0mobj\u001b[0m\u001b[1;33m,\u001b[0m \u001b[0mend\u001b[0m \u001b[1;33m=\u001b[0m \u001b[0mself\u001b[0m\u001b[1;33m.\u001b[0m\u001b[0mscan_once\u001b[0m\u001b[1;33m(\u001b[0m\u001b[0ms\u001b[0m\u001b[1;33m,\u001b[0m \u001b[0midx\u001b[0m\u001b[1;33m)\u001b[0m\u001b[1;33m\u001b[0m\u001b[0m\n\u001b[0;32m    356\u001b[0m         \u001b[1;32mexcept\u001b[0m \u001b[0mStopIteration\u001b[0m \u001b[1;32mas\u001b[0m \u001b[0merr\u001b[0m\u001b[1;33m:\u001b[0m\u001b[1;33m\u001b[0m\u001b[0m\n\u001b[1;32m--> 357\u001b[1;33m             \u001b[1;32mraise\u001b[0m \u001b[0mJSONDecodeError\u001b[0m\u001b[1;33m(\u001b[0m\u001b[1;34m\"Expecting value\"\u001b[0m\u001b[1;33m,\u001b[0m \u001b[0ms\u001b[0m\u001b[1;33m,\u001b[0m \u001b[0merr\u001b[0m\u001b[1;33m.\u001b[0m\u001b[0mvalue\u001b[0m\u001b[1;33m)\u001b[0m \u001b[1;32mfrom\u001b[0m \u001b[1;32mNone\u001b[0m\u001b[1;33m\u001b[0m\u001b[0m\n\u001b[0m\u001b[0;32m    358\u001b[0m         \u001b[1;32mreturn\u001b[0m \u001b[0mobj\u001b[0m\u001b[1;33m,\u001b[0m \u001b[0mend\u001b[0m\u001b[1;33m\u001b[0m\u001b[0m\n",
      "\u001b[1;31mJSONDecodeError\u001b[0m: Expecting value: line 1 column 1 (char 0)"
     ]
    }
   ],
   "source": [
    "year_hs2 = requests.get(f\"{import_url}/hs?get=E_COMMODITY,E_COMMODITY_SDESC,GEN_VAL_YR&YEAR=2015&YEAR=2016&YEAR=2017&YEAR=2018&YEAR=2019&COMM_LVL=HS2&CTY_CODE={china_code}\").json()\n"
   ]
  },
  {
   "cell_type": "code",
   "execution_count": null,
   "metadata": {},
   "outputs": [],
   "source": [
    "count = 1\n",
    "movalue = []\n",
    "yrvalue = []\n",
    "period = []\n",
    "desc = []\n",
    "code = []\n",
    "while count < 4802:\n",
    "    count += 1\n",
    "    yrvalue.append(year_hs2[count][2])\n",
    "    desc.append(year_hs2[count][1])\n",
    "    period.append(year_hs2[count][3])\n",
    "    code.append(year_hs2[count][0])\n",
    "yr_hs2_export = pd.DataFrame({\"YTDValue\" : yrvalue,\n",
    "                          \"Period\" : period,\n",
    "                          \"Description\" : desc,\n",
    "                          \"HSC\": code})"
   ]
  },
  {
   "cell_type": "code",
   "execution_count": null,
   "metadata": {},
   "outputs": [],
   "source": [
    "yr_hs2_export.to_sql('yrhs2import', con=engine, if_exists='replace') "
   ]
  },
  {
   "cell_type": "code",
   "execution_count": 19,
   "metadata": {},
   "outputs": [],
   "source": [
    "count = 1\n",
    "movalue = []\n",
    "yrvalue = []\n",
    "period = []\n",
    "desc = []\n",
    "code = []\n",
    "while count < 4802:\n",
    "    count += 1\n",
    "    yrvalue.append(import_hs2[count][2])\n",
    "    desc.append(import_hs2[count][1])\n",
    "    period.append(import_hs2[count][3])\n",
    "    code.append(import_hs2[count][0])\n",
    "hs2_import = pd.DataFrame({\"YTDValue\" : yrvalue,\n",
    "                          \"Period\" : period,\n",
    "                          \"Description\" : desc,\n",
    "                          \"HSC\": code})\n"
   ]
  },
  {
   "cell_type": "code",
   "execution_count": 21,
   "metadata": {},
   "outputs": [],
   "source": [
    "# hs2_import.to_sql('hs2import', con=engine, if_exists='replace') "
   ]
  },
  {
   "cell_type": "code",
   "execution_count": 33,
   "metadata": {},
   "outputs": [],
   "source": [
    "# export_hs2 = requests.get(f\"{export_url}/hs?get=E_COMMODITY,E_COMMODITY_SDESC,ALL_VAL_MO,ALL_VAL_YR&time=from+2015-01&COMM_LVL=HS2&CTY_CODE={china_code}\").json()\n",
    "\n"
   ]
  },
  {
   "cell_type": "code",
   "execution_count": 143,
   "metadata": {},
   "outputs": [],
   "source": [
    "# count = 1\n",
    "# movalue = []\n",
    "# yrvalue = []\n",
    "# period = []\n",
    "# desc = []\n",
    "# code = []\n",
    "# while count < 4802:\n",
    "#     count += 1\n",
    "#     movalue.append(import_by_commodity[count][2])\n",
    "#     yrvalue.append(import_by_commodity[count][3])\n",
    "#     desc.append(import_by_commodity[count][1])\n",
    "#     period.append(import_by_commodity[count][4])\n",
    "#     code.append(import_by_commodity[count][0])\n",
    "# hs2_export = pd.DataFrame({\"YTDValue\" : yrvalue,\n",
    "#                            \"MoValue \" : movalue,\n",
    "#                           \"Period\" : period,\n",
    "#                           \"Description\" : desc,\n",
    "#                           \"HSC\": code})\n"
   ]
  },
  {
   "cell_type": "code",
   "execution_count": 34,
   "metadata": {},
   "outputs": [],
   "source": [
    "# hs2_export.to_sql('hs2export', con=engine, if_exists='replace') \n"
   ]
  },
  {
   "cell_type": "code",
   "execution_count": 177,
   "metadata": {},
   "outputs": [],
   "source": [
    "stmt = session.query(IndImports).statement\n",
    "df = pd.read_sql_query(stmt, session.bind)\n",
    "\n",
    "year = 2015\n",
    "hsc = 1\n",
    "sel = [\n",
    "        IndImports.Description,\n",
    "        IndImports.YTDValue,\n",
    "        IndImports.Period,\n",
    "        IndImports.HSC\n",
    "        ]\n",
    "\n",
    "results = session.query(*sel).filter(IndImports.HSC == 1).filter(IndImports.Period.like(f\"%{year}%\")).all()\n",
    "hsc_ind_imports = {}\n",
    "for result in results:\n",
    "    hsc_ind_imports[\"Description\"] = result[0]\n",
    "    hsc_ind_imports[\"Annual Value\"] = result[1]\n",
    "    hsc_ind_imports[\"Year\"] = result[2]\n",
    "    hsc_ind_imports[\"HSC\"] = result[3]"
   ]
  },
  {
   "cell_type": "code",
   "execution_count": 178,
   "metadata": {},
   "outputs": [],
   "source": [
    "g = session.query(IndImports.HSC).filter(IndImports.HSC == \"01\").all()"
   ]
  },
  {
   "cell_type": "code",
   "execution_count": 181,
   "metadata": {},
   "outputs": [
    {
     "data": {
      "text/plain": [
       "{'Annual Value': 27704684,\n",
       " 'Description': 'LIVE ANIMALS',\n",
       " 'HSC': 1,\n",
       " 'Year': '2015-12'}"
      ]
     },
     "execution_count": 181,
     "metadata": {},
     "output_type": "execute_result"
    }
   ],
   "source": [
    "hsc_ind_imports"
   ]
  },
  {
   "cell_type": "code",
   "execution_count": 297,
   "metadata": {},
   "outputs": [
    {
     "data": {
      "text/plain": [
       "{'Description': 'LEAD AND ARTICLES THEREOF',\n",
       " 'HSC': 78,\n",
       " 'Period': '2017',\n",
       " 'YTDValue': 2194573,\n",
       " '_sa_instance_state': <sqlalchemy.orm.state.InstanceState at 0x1ea339e82e8>,\n",
       " 'index': 0}"
      ]
     },
     "execution_count": 297,
     "metadata": {},
     "output_type": "execute_result"
    }
   ],
   "source": [
    "yr = session.query(YRImports).first()\n",
    "yr.__dict__"
   ]
  },
  {
   "cell_type": "code",
   "execution_count": 407,
   "metadata": {},
   "outputs": [],
   "source": [
    "stmt = session.query(YRImports).statement\n",
    "df = pd.read_sql_query(stmt, session.bind)"
   ]
  },
  {
   "cell_type": "code",
   "execution_count": 398,
   "metadata": {},
   "outputs": [],
   "source": [
    "# df.loc[df['Period'] == 2016]"
   ]
  },
  {
   "cell_type": "code",
   "execution_count": 249,
   "metadata": {},
   "outputs": [],
   "source": [
    "test_df = df.groupby([\"Period\"])[\"YTDValue\", \"HSC\", \"Period\"]"
   ]
  },
  {
   "cell_type": "code",
   "execution_count": 332,
   "metadata": {},
   "outputs": [],
   "source": [
    "df[\"YTDValue\", \"HSC\", \"Period\"]= [i[:4] for i in df['Period']]"
   ]
  },
  {
   "cell_type": "code",
   "execution_count": 409,
   "metadata": {},
   "outputs": [],
   "source": [
    "df = pd.read_sql_query(stmt, session.bind)"
   ]
  },
  {
   "cell_type": "code",
   "execution_count": 408,
   "metadata": {},
   "outputs": [
    {
     "ename": "TypeError",
     "evalue": "'Series' object is not callable",
     "output_type": "error",
     "traceback": [
      "\u001b[1;31m---------------------------------------------------------------------------\u001b[0m",
      "\u001b[1;31mTypeError\u001b[0m                                 Traceback (most recent call last)",
      "\u001b[1;32m<ipython-input-408-2fd49094fdfe>\u001b[0m in \u001b[0;36m<module>\u001b[1;34m()\u001b[0m\n\u001b[1;32m----> 1\u001b[1;33m \u001b[0mdf\u001b[0m\u001b[1;33m[\u001b[0m\u001b[1;34m\"Period\"\u001b[0m\u001b[1;33m]\u001b[0m\u001b[1;33m(\u001b[0m\u001b[1;34m\"2015\"\u001b[0m\u001b[1;33m)\u001b[0m\u001b[1;33m\u001b[0m\u001b[0m\n\u001b[0m",
      "\u001b[1;31mTypeError\u001b[0m: 'Series' object is not callable"
     ]
    }
   ],
   "source": [
    "df[\"Period\"]"
   ]
  },
  {
   "cell_type": "code",
   "execution_count": 399,
   "metadata": {},
   "outputs": [],
   "source": [
    "yr_hs2_import[\"YTDValue\"] =pd.to_numeric(yr_hs2_import[\"YTDValue\"])\n"
   ]
  },
  {
   "cell_type": "code",
   "execution_count": 400,
   "metadata": {},
   "outputs": [],
   "source": [
    "year = \"2015\"\n",
    "first_2015 = yr_hs2_import[yr_hs2_import[\"Period\"].str.contains(f\"{year}\")]\n"
   ]
  },
  {
   "cell_type": "code",
   "execution_count": 401,
   "metadata": {},
   "outputs": [],
   "source": [
    "data_2015 = first_2015.groupby([\"HSC\",\"Description\",\"Period\"])[\"YTDValue\"].sum()\n"
   ]
  },
  {
   "cell_type": "code",
   "execution_count": 402,
   "metadata": {},
   "outputs": [],
   "source": [
    "test= pd.DataFrame({\"total\" : data_2015})\n",
    "data_2015= test.nlargest(10,\"total\")\n",
    "data_2015 = data_2015.reset_index()\n",
    "\n",
    "data_2015= data_2015.nlargest(10,\"total\")"
   ]
  },
  {
   "cell_type": "code",
   "execution_count": 403,
   "metadata": {},
   "outputs": [
    {
     "data": {
      "text/html": [
       "<div>\n",
       "<style scoped>\n",
       "    .dataframe tbody tr th:only-of-type {\n",
       "        vertical-align: middle;\n",
       "    }\n",
       "\n",
       "    .dataframe tbody tr th {\n",
       "        vertical-align: top;\n",
       "    }\n",
       "\n",
       "    .dataframe thead th {\n",
       "        text-align: right;\n",
       "    }\n",
       "</style>\n",
       "<table border=\"1\" class=\"dataframe\">\n",
       "  <thead>\n",
       "    <tr style=\"text-align: right;\">\n",
       "      <th></th>\n",
       "      <th>HSC</th>\n",
       "      <th>Description</th>\n",
       "      <th>Period</th>\n",
       "      <th>total</th>\n",
       "    </tr>\n",
       "  </thead>\n",
       "  <tbody>\n",
       "    <tr>\n",
       "      <th>0</th>\n",
       "      <td>85</td>\n",
       "      <td>ELECTRIC MACHINERY ETC; SOUND</td>\n",
       "      <td>2015</td>\n",
       "      <td>818112819400</td>\n",
       "    </tr>\n",
       "    <tr>\n",
       "      <th>1</th>\n",
       "      <td>84</td>\n",
       "      <td>NUCLEAR REACTORS, BOILERS, MACHINERY ETC.; PARTS</td>\n",
       "      <td>2015</td>\n",
       "      <td>666100643226</td>\n",
       "    </tr>\n",
       "    <tr>\n",
       "      <th>2</th>\n",
       "      <td>94</td>\n",
       "      <td>FURNITURE; BEDDING ETC; LAMPS NESOI ETC</td>\n",
       "      <td>2015</td>\n",
       "      <td>181010404192</td>\n",
       "    </tr>\n",
       "    <tr>\n",
       "      <th>3</th>\n",
       "      <td>95</td>\n",
       "      <td>TOYS, GAMES &amp; SPORT EQUIPMENT; PARTS &amp; ACCESSO...</td>\n",
       "      <td>2015</td>\n",
       "      <td>137998619706</td>\n",
       "    </tr>\n",
       "    <tr>\n",
       "      <th>4</th>\n",
       "      <td>64</td>\n",
       "      <td>FOOTWEAR, GAITERS ETC. AND PARTS THEREOF</td>\n",
       "      <td>2015</td>\n",
       "      <td>113801708948</td>\n",
       "    </tr>\n",
       "    <tr>\n",
       "      <th>5</th>\n",
       "      <td>61</td>\n",
       "      <td>APPAREL ARTICLES AND ACCESSORIES, KNIT OR CROCHET</td>\n",
       "      <td>2015</td>\n",
       "      <td>97092844954</td>\n",
       "    </tr>\n",
       "    <tr>\n",
       "      <th>6</th>\n",
       "      <td>62</td>\n",
       "      <td>APPAREL ARTICLES AND ACCESSORIES, NOT KNIT ETC.</td>\n",
       "      <td>2015</td>\n",
       "      <td>94814507202</td>\n",
       "    </tr>\n",
       "    <tr>\n",
       "      <th>7</th>\n",
       "      <td>39</td>\n",
       "      <td>PLASTICS AND ARTICLES THEREOF</td>\n",
       "      <td>2015</td>\n",
       "      <td>94005729937</td>\n",
       "    </tr>\n",
       "    <tr>\n",
       "      <th>8</th>\n",
       "      <td>87</td>\n",
       "      <td>VEHICLES, EXCEPT RAILWAY OR TRAMWAY, AND PARTS...</td>\n",
       "      <td>2015</td>\n",
       "      <td>85574454525</td>\n",
       "    </tr>\n",
       "    <tr>\n",
       "      <th>9</th>\n",
       "      <td>90</td>\n",
       "      <td>OPTIC, PHOTO ETC, MEDIC OR S</td>\n",
       "      <td>2015</td>\n",
       "      <td>71151180495</td>\n",
       "    </tr>\n",
       "  </tbody>\n",
       "</table>\n",
       "</div>"
      ],
      "text/plain": [
       "  HSC                                        Description Period         total\n",
       "0  85                      ELECTRIC MACHINERY ETC; SOUND   2015  818112819400\n",
       "1  84   NUCLEAR REACTORS, BOILERS, MACHINERY ETC.; PARTS   2015  666100643226\n",
       "2  94            FURNITURE; BEDDING ETC; LAMPS NESOI ETC   2015  181010404192\n",
       "3  95  TOYS, GAMES & SPORT EQUIPMENT; PARTS & ACCESSO...   2015  137998619706\n",
       "4  64           FOOTWEAR, GAITERS ETC. AND PARTS THEREOF   2015  113801708948\n",
       "5  61  APPAREL ARTICLES AND ACCESSORIES, KNIT OR CROCHET   2015   97092844954\n",
       "6  62    APPAREL ARTICLES AND ACCESSORIES, NOT KNIT ETC.   2015   94814507202\n",
       "7  39                      PLASTICS AND ARTICLES THEREOF   2015   94005729937\n",
       "8  87  VEHICLES, EXCEPT RAILWAY OR TRAMWAY, AND PARTS...   2015   85574454525\n",
       "9  90                       OPTIC, PHOTO ETC, MEDIC OR S   2015   71151180495"
      ]
     },
     "execution_count": 403,
     "metadata": {},
     "output_type": "execute_result"
    }
   ],
   "source": [
    "data_2015"
   ]
  },
  {
   "cell_type": "code",
   "execution_count": 422,
   "metadata": {},
   "outputs": [],
   "source": [
    "stmt = session.query(YRImports).statement\n",
    "df = pd.read_sql_query(stmt, session.bind)\n",
    "df[\"YTDValue\"] =pd.to_numeric(df[\"YTDValue\"])\n",
    "first_2015 = df[df[\"Period\"].str.contains(f\"{year}\")]\n",
    "data_2015 = first_2015.groupby([\"HSC\",\"Description\",\"Period\"])[\"YTDValue\"].sum()\n",
    "test= pd.DataFrame({\"total\" : data_2015})\n",
    "data_2015= test.nlargest(10,\"total\")\n",
    "data_2015 = data_2015.reset_index()\n",
    "\n",
    "data_2015= data_2015.nlargest(10,\"total\")"
   ]
  },
  {
   "cell_type": "code",
   "execution_count": 416,
   "metadata": {},
   "outputs": [
    {
     "ename": "AttributeError",
     "evalue": "'dict' object has no attribute 'to_json'",
     "output_type": "error",
     "traceback": [
      "\u001b[1;31m---------------------------------------------------------------------------\u001b[0m",
      "\u001b[1;31mAttributeError\u001b[0m                            Traceback (most recent call last)",
      "\u001b[1;32m<ipython-input-416-c5dcf557f030>\u001b[0m in \u001b[0;36m<module>\u001b[1;34m()\u001b[0m\n\u001b[1;32m----> 1\u001b[1;33m \u001b[0mdata_2015\u001b[0m\u001b[1;33m=\u001b[0m \u001b[0mdata_2015\u001b[0m\u001b[1;33m.\u001b[0m\u001b[0mto_json\u001b[0m\u001b[1;33m(\u001b[0m\u001b[1;33m)\u001b[0m\u001b[1;33m\u001b[0m\u001b[0m\n\u001b[0m",
      "\u001b[1;31mAttributeError\u001b[0m: 'dict' object has no attribute 'to_json'"
     ]
    }
   ],
   "source": [
    "data_2015= data_2015.to_json()\n"
   ]
  },
  {
   "cell_type": "code",
   "execution_count": 423,
   "metadata": {},
   "outputs": [
    {
     "data": {
      "text/html": [
       "<div>\n",
       "<style scoped>\n",
       "    .dataframe tbody tr th:only-of-type {\n",
       "        vertical-align: middle;\n",
       "    }\n",
       "\n",
       "    .dataframe tbody tr th {\n",
       "        vertical-align: top;\n",
       "    }\n",
       "\n",
       "    .dataframe thead th {\n",
       "        text-align: right;\n",
       "    }\n",
       "</style>\n",
       "<table border=\"1\" class=\"dataframe\">\n",
       "  <thead>\n",
       "    <tr style=\"text-align: right;\">\n",
       "      <th></th>\n",
       "      <th>HSC</th>\n",
       "      <th>Description</th>\n",
       "      <th>Period</th>\n",
       "      <th>total</th>\n",
       "    </tr>\n",
       "  </thead>\n",
       "  <tbody>\n",
       "    <tr>\n",
       "      <th>0</th>\n",
       "      <td>85</td>\n",
       "      <td>ELECTRIC MACHINERY ETC; SOUND</td>\n",
       "      <td>2015</td>\n",
       "      <td>818112819400</td>\n",
       "    </tr>\n",
       "    <tr>\n",
       "      <th>1</th>\n",
       "      <td>84</td>\n",
       "      <td>NUCLEAR REACTORS, BOILERS, MACHINERY ETC.; PARTS</td>\n",
       "      <td>2015</td>\n",
       "      <td>666100643226</td>\n",
       "    </tr>\n",
       "    <tr>\n",
       "      <th>2</th>\n",
       "      <td>94</td>\n",
       "      <td>FURNITURE; BEDDING ETC; LAMPS NESOI ETC</td>\n",
       "      <td>2015</td>\n",
       "      <td>181010404192</td>\n",
       "    </tr>\n",
       "    <tr>\n",
       "      <th>3</th>\n",
       "      <td>95</td>\n",
       "      <td>TOYS, GAMES &amp; SPORT EQUIPMENT; PARTS &amp; ACCESSO...</td>\n",
       "      <td>2015</td>\n",
       "      <td>137998619706</td>\n",
       "    </tr>\n",
       "    <tr>\n",
       "      <th>4</th>\n",
       "      <td>64</td>\n",
       "      <td>FOOTWEAR, GAITERS ETC. AND PARTS THEREOF</td>\n",
       "      <td>2015</td>\n",
       "      <td>113801708948</td>\n",
       "    </tr>\n",
       "    <tr>\n",
       "      <th>5</th>\n",
       "      <td>61</td>\n",
       "      <td>APPAREL ARTICLES AND ACCESSORIES, KNIT OR CROCHET</td>\n",
       "      <td>2015</td>\n",
       "      <td>97092844954</td>\n",
       "    </tr>\n",
       "    <tr>\n",
       "      <th>6</th>\n",
       "      <td>62</td>\n",
       "      <td>APPAREL ARTICLES AND ACCESSORIES, NOT KNIT ETC.</td>\n",
       "      <td>2015</td>\n",
       "      <td>94814507202</td>\n",
       "    </tr>\n",
       "    <tr>\n",
       "      <th>7</th>\n",
       "      <td>39</td>\n",
       "      <td>PLASTICS AND ARTICLES THEREOF</td>\n",
       "      <td>2015</td>\n",
       "      <td>94005729937</td>\n",
       "    </tr>\n",
       "    <tr>\n",
       "      <th>8</th>\n",
       "      <td>87</td>\n",
       "      <td>VEHICLES, EXCEPT RAILWAY OR TRAMWAY, AND PARTS...</td>\n",
       "      <td>2015</td>\n",
       "      <td>85574454525</td>\n",
       "    </tr>\n",
       "    <tr>\n",
       "      <th>9</th>\n",
       "      <td>90</td>\n",
       "      <td>OPTIC, PHOTO ETC, MEDIC OR S</td>\n",
       "      <td>2015</td>\n",
       "      <td>71151180495</td>\n",
       "    </tr>\n",
       "  </tbody>\n",
       "</table>\n",
       "</div>"
      ],
      "text/plain": [
       "  HSC                                        Description Period         total\n",
       "0  85                      ELECTRIC MACHINERY ETC; SOUND   2015  818112819400\n",
       "1  84   NUCLEAR REACTORS, BOILERS, MACHINERY ETC.; PARTS   2015  666100643226\n",
       "2  94            FURNITURE; BEDDING ETC; LAMPS NESOI ETC   2015  181010404192\n",
       "3  95  TOYS, GAMES & SPORT EQUIPMENT; PARTS & ACCESSO...   2015  137998619706\n",
       "4  64           FOOTWEAR, GAITERS ETC. AND PARTS THEREOF   2015  113801708948\n",
       "5  61  APPAREL ARTICLES AND ACCESSORIES, KNIT OR CROCHET   2015   97092844954\n",
       "6  62    APPAREL ARTICLES AND ACCESSORIES, NOT KNIT ETC.   2015   94814507202\n",
       "7  39                      PLASTICS AND ARTICLES THEREOF   2015   94005729937\n",
       "8  87  VEHICLES, EXCEPT RAILWAY OR TRAMWAY, AND PARTS...   2015   85574454525\n",
       "9  90                       OPTIC, PHOTO ETC, MEDIC OR S   2015   71151180495"
      ]
     },
     "execution_count": 423,
     "metadata": {},
     "output_type": "execute_result"
    }
   ],
   "source": [
    "data_2015"
   ]
  },
  {
   "cell_type": "code",
   "execution_count": 424,
   "metadata": {},
   "outputs": [],
   "source": [
    "pie_imports = {}\n",
    "for result in data_2015:\n",
    "    pie_imports[\"Description\"] = result[1]\n",
    "    pie_imports[\"Annual Value\"] = result[2]\n",
    "    pie_imports[\"HSC\"] = result[0]"
   ]
  },
  {
   "cell_type": "code",
   "execution_count": 429,
   "metadata": {},
   "outputs": [
    {
     "data": {
      "text/plain": [
       "[{'Description': 'ELECTRIC MACHINERY ETC; SOUND',\n",
       "  'HSC': '85',\n",
       "  'Period': '2015',\n",
       "  'total': 818112819400},\n",
       " {'Description': 'NUCLEAR REACTORS, BOILERS, MACHINERY ETC.; PARTS',\n",
       "  'HSC': '84',\n",
       "  'Period': '2015',\n",
       "  'total': 666100643226},\n",
       " {'Description': 'FURNITURE; BEDDING ETC; LAMPS NESOI ETC',\n",
       "  'HSC': '94',\n",
       "  'Period': '2015',\n",
       "  'total': 181010404192},\n",
       " {'Description': 'TOYS, GAMES & SPORT EQUIPMENT; PARTS & ACCESSORIES',\n",
       "  'HSC': '95',\n",
       "  'Period': '2015',\n",
       "  'total': 137998619706},\n",
       " {'Description': 'FOOTWEAR, GAITERS ETC. AND PARTS THEREOF',\n",
       "  'HSC': '64',\n",
       "  'Period': '2015',\n",
       "  'total': 113801708948},\n",
       " {'Description': 'APPAREL ARTICLES AND ACCESSORIES, KNIT OR CROCHET',\n",
       "  'HSC': '61',\n",
       "  'Period': '2015',\n",
       "  'total': 97092844954},\n",
       " {'Description': 'APPAREL ARTICLES AND ACCESSORIES, NOT KNIT ETC.',\n",
       "  'HSC': '62',\n",
       "  'Period': '2015',\n",
       "  'total': 94814507202},\n",
       " {'Description': 'PLASTICS AND ARTICLES THEREOF',\n",
       "  'HSC': '39',\n",
       "  'Period': '2015',\n",
       "  'total': 94005729937},\n",
       " {'Description': 'VEHICLES, EXCEPT RAILWAY OR TRAMWAY, AND PARTS ETC',\n",
       "  'HSC': '87',\n",
       "  'Period': '2015',\n",
       "  'total': 85574454525},\n",
       " {'Description': 'OPTIC, PHOTO ETC, MEDIC OR S',\n",
       "  'HSC': '90',\n",
       "  'Period': '2015',\n",
       "  'total': 71151180495}]"
      ]
     },
     "execution_count": 429,
     "metadata": {},
     "output_type": "execute_result"
    }
   ],
   "source": [
    "data_2015.to_dict(\"records\")"
   ]
  },
  {
   "cell_type": "code",
   "execution_count": null,
   "metadata": {},
   "outputs": [],
   "source": []
  }
 ],
 "metadata": {
  "kernelspec": {
   "display_name": "Python 3",
   "language": "python",
   "name": "python3"
  },
  "language_info": {
   "codemirror_mode": {
    "name": "ipython",
    "version": 3
   },
   "file_extension": ".py",
   "mimetype": "text/x-python",
   "name": "python",
   "nbconvert_exporter": "python",
   "pygments_lexer": "ipython3",
   "version": "3.6.5"
  }
 },
 "nbformat": 4,
 "nbformat_minor": 2
}
