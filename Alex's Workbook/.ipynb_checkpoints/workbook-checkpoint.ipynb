{
 "cells": [
  {
   "cell_type": "code",
   "execution_count": 1,
   "metadata": {},
   "outputs": [],
   "source": [
    "import datetime as dt\n",
    "import numpy as np\n",
    "import pandas as pd\n",
    "import requests\n",
    "import json\n",
    "from pprint import pprint\n",
    "import csv\n",
    "# from api_key import api_key\n",
    "from flask import Flask, jsonify, render_template\n",
    "\n",
    "from flask_sqlalchemy import SQLAlchemy\n",
    "from sqlalchemy.ext.automap import automap_base\n",
    "from sqlalchemy.orm import Session\n",
    "from sqlalchemy import create_engine, func\n",
    "import sqlalchemy"
   ]
  },
  {
   "cell_type": "code",
   "execution_count": 2,
   "metadata": {},
   "outputs": [],
   "source": [
    "api_key = \"93ba5366cb39b249dcbde95cc4d461e7b05b747d\"\n",
    "export_url = (f\"https://api.census.gov/data/timeseries/intltrade/exports\")\n",
    "import_url = (f\"https://api.census.gov/data/timeseries/intltrade/imports\")\n",
    "china_code = \"5700\"\n",
    "usa_code = \"1000\"\n",
    "month = []\n",
    "year = []\n",
    "#&ParameterName={parameter_name}\n",
    "#url = (f\"https://apps.bea.gov/api/data?&UserID={api_key}&method={get_data}&datasetname={dataset}&LineCode={line_code}&TableName={table_name}&GeoFIPS={geofip}&Year={year}\")\n",
    "\n",
    "#SAINC51\n",
    "#response = requests.get(url).json()       \n",
    "#list_response = requests.get(list_url).json()"
   ]
  },
  {
   "cell_type": "code",
   "execution_count": 38,
   "metadata": {},
   "outputs": [],
   "source": [
    "total_trade = requests.get(f\"{export_url}/hs?get=ALL_VAL_MO&key={api_key}&time=2019-01\").json() "
   ]
  },
  {
   "cell_type": "code",
   "execution_count": 39,
   "metadata": {},
   "outputs": [
    {
     "data": {
      "text/plain": [
       "'129545568405'"
      ]
     },
     "execution_count": 39,
     "metadata": {},
     "output_type": "execute_result"
    }
   ],
   "source": [
    "total_trade[1][0]\n"
   ]
  },
  {
   "cell_type": "code",
   "execution_count": 40,
   "metadata": {},
   "outputs": [
    {
     "data": {
      "text/plain": [
       "[['DF', 'ALL_VAL_MO', 'ALL_VAL_YR', 'YEAR', 'MONTH'],\n",
       " ['-', '131915459503', '1578516879950', '2013', '12'],\n",
       " ['1', '114956497285', '1371134061205', '2013', '12'],\n",
       " ['2', '16958962218', '207382818745', '2013', '12']]"
      ]
     },
     "execution_count": 40,
     "metadata": {},
     "output_type": "execute_result"
    }
   ],
   "source": [
    "requests.get(f\"https://api.census.gov/data/timeseries/intltrade/exports/hs?get=DF,ALL_VAL_MO,ALL_VAL_YR&YEAR=2013&MONTH=12\").json()"
   ]
  },
  {
   "cell_type": "code",
   "execution_count": 160,
   "metadata": {},
   "outputs": [],
   "source": [
    "china_exports = requests.get(f\"{export_url}/hs?get=ALL_VAL_MO,ALL_VAL_YR&key={api_key}&time=from+2015-01&CTY_CODE={china_code}\").json()\n"
   ]
  },
  {
   "cell_type": "code",
   "execution_count": 44,
   "metadata": {},
   "outputs": [
    {
     "name": "stdout",
     "output_type": "stream",
     "text": [
      "clear\n"
     ]
    }
   ],
   "source": [
    "# requests.get(f\"{export_url}/hs?get=CTY_CODE,CTY_NAME,ALL_VAL_MO,ALL_VAL_YR,E_COMMODITY_LDESC&key={api_key}&time=from+2015-01&CTY_CODE={china_code}\").json()\n"
   ]
  },
  {
   "cell_type": "code",
   "execution_count": 45,
   "metadata": {},
   "outputs": [],
   "source": [
    "# export_by_commodity = requests.get(f\"{export_url}/hs?get=E_COMMODITY,E_COMMODITY_SDESC,ALL_VAL_MO,ALL_VAL_YR&key={api_key}&time=from+2015-01&COMM_LVL=HS4&CTY_CODE={china_code}\").json()\n"
   ]
  },
  {
   "cell_type": "code",
   "execution_count": 47,
   "metadata": {},
   "outputs": [
    {
     "data": {
      "text/plain": [
       "54073"
      ]
     },
     "execution_count": 47,
     "metadata": {},
     "output_type": "execute_result"
    }
   ],
   "source": [
    "len(export_by_commodity)"
   ]
  },
  {
   "cell_type": "code",
   "execution_count": 48,
   "metadata": {},
   "outputs": [],
   "source": [
    "count = 1\n",
    "movalue = []\n",
    "yrvalue = []\n",
    "period = []\n",
    "desc = []\n",
    "code = []\n",
    "while count < 54072:\n",
    "    count += 1\n",
    "    movalue.append(export_by_commodity[count][2])\n",
    "    yrvalue.append(export_by_commodity[count][3])\n",
    "    desc.append(export_by_commodity[count][1])\n",
    "    period.append(export_by_commodity[count][4])\n",
    "    code.append(export_by_commodity[count][0])\n",
    "china_data = pd.DataFrame({\"YTD Value\" : yrvalue,\n",
    "                           \"Monthly Value \" : movalue,\n",
    "                          \"Period\" : period,\n",
    "                          \"Commodity\" : desc,\n",
    "                          \"Comm Code\": code})"
   ]
  },
  {
   "cell_type": "code",
   "execution_count": 51,
   "metadata": {},
   "outputs": [
    {
     "data": {
      "text/html": [
       "<div>\n",
       "<style scoped>\n",
       "    .dataframe tbody tr th:only-of-type {\n",
       "        vertical-align: middle;\n",
       "    }\n",
       "\n",
       "    .dataframe tbody tr th {\n",
       "        vertical-align: top;\n",
       "    }\n",
       "\n",
       "    .dataframe thead th {\n",
       "        text-align: right;\n",
       "    }\n",
       "</style>\n",
       "<table border=\"1\" class=\"dataframe\">\n",
       "  <thead>\n",
       "    <tr style=\"text-align: right;\">\n",
       "      <th></th>\n",
       "      <th>YTD Value</th>\n",
       "      <th>Monthly Value</th>\n",
       "      <th>Period</th>\n",
       "      <th>Commodity</th>\n",
       "      <th>Comm Code</th>\n",
       "    </tr>\n",
       "  </thead>\n",
       "  <tbody>\n",
       "    <tr>\n",
       "      <th>54066</th>\n",
       "      <td>320405</td>\n",
       "      <td>37821</td>\n",
       "      <td>2018-08</td>\n",
       "      <td>MONOPODS, BIPODS, TRIPODS AND SIMILAR ARTICLES</td>\n",
       "      <td>9620</td>\n",
       "    </tr>\n",
       "    <tr>\n",
       "      <th>54067</th>\n",
       "      <td>327518</td>\n",
       "      <td>7113</td>\n",
       "      <td>2018-09</td>\n",
       "      <td>MONOPODS, BIPODS, TRIPODS AND SIMILAR ARTICLES</td>\n",
       "      <td>9620</td>\n",
       "    </tr>\n",
       "    <tr>\n",
       "      <th>54068</th>\n",
       "      <td>361042</td>\n",
       "      <td>33524</td>\n",
       "      <td>2018-10</td>\n",
       "      <td>MONOPODS, BIPODS, TRIPODS AND SIMILAR ARTICLES</td>\n",
       "      <td>9620</td>\n",
       "    </tr>\n",
       "    <tr>\n",
       "      <th>54069</th>\n",
       "      <td>399482</td>\n",
       "      <td>38440</td>\n",
       "      <td>2018-11</td>\n",
       "      <td>MONOPODS, BIPODS, TRIPODS AND SIMILAR ARTICLES</td>\n",
       "      <td>9620</td>\n",
       "    </tr>\n",
       "    <tr>\n",
       "      <th>54070</th>\n",
       "      <td>444867</td>\n",
       "      <td>45385</td>\n",
       "      <td>2018-12</td>\n",
       "      <td>MONOPODS, BIPODS, TRIPODS AND SIMILAR ARTICLES</td>\n",
       "      <td>9620</td>\n",
       "    </tr>\n",
       "  </tbody>\n",
       "</table>\n",
       "</div>"
      ],
      "text/plain": [
       "      YTD Value Monthly Value    Period  \\\n",
       "54066    320405          37821  2018-08   \n",
       "54067    327518           7113  2018-09   \n",
       "54068    361042          33524  2018-10   \n",
       "54069    399482          38440  2018-11   \n",
       "54070    444867          45385  2018-12   \n",
       "\n",
       "                                            Commodity Comm Code  \n",
       "54066  MONOPODS, BIPODS, TRIPODS AND SIMILAR ARTICLES      9620  \n",
       "54067  MONOPODS, BIPODS, TRIPODS AND SIMILAR ARTICLES      9620  \n",
       "54068  MONOPODS, BIPODS, TRIPODS AND SIMILAR ARTICLES      9620  \n",
       "54069  MONOPODS, BIPODS, TRIPODS AND SIMILAR ARTICLES      9620  \n",
       "54070  MONOPODS, BIPODS, TRIPODS AND SIMILAR ARTICLES      9620  "
      ]
     },
     "execution_count": 51,
     "metadata": {},
     "output_type": "execute_result"
    }
   ],
   "source": [
    "\n",
    "china_data.tail()"
   ]
  },
  {
   "cell_type": "code",
   "execution_count": 3,
   "metadata": {},
   "outputs": [],
   "source": [
    "engine = create_engine('sqlite:///../data/china_trade.sqlite', echo=False)\n"
   ]
  },
  {
   "cell_type": "code",
   "execution_count": null,
   "metadata": {},
   "outputs": [],
   "source": []
  },
  {
   "cell_type": "code",
   "execution_count": 15,
   "metadata": {},
   "outputs": [
    {
     "ename": "NameError",
     "evalue": "name 'china_data' is not defined",
     "output_type": "error",
     "traceback": [
      "\u001b[1;31m---------------------------------------------------------------------------\u001b[0m",
      "\u001b[1;31mNameError\u001b[0m                                 Traceback (most recent call last)",
      "\u001b[1;32m<ipython-input-15-324fb6a0f833>\u001b[0m in \u001b[0;36m<module>\u001b[1;34m()\u001b[0m\n\u001b[1;32m----> 1\u001b[1;33m \u001b[0mchina_data\u001b[0m\u001b[1;33m.\u001b[0m\u001b[0mto_sql\u001b[0m\u001b[1;33m(\u001b[0m\u001b[1;34m'export'\u001b[0m\u001b[1;33m,\u001b[0m \u001b[0mcon\u001b[0m\u001b[1;33m=\u001b[0m\u001b[0mengine\u001b[0m\u001b[1;33m,\u001b[0m \u001b[0mif_exists\u001b[0m\u001b[1;33m=\u001b[0m\u001b[1;34m'replace'\u001b[0m\u001b[1;33m)\u001b[0m \u001b[1;31m#dont run this again\u001b[0m\u001b[1;33m\u001b[0m\u001b[0m\n\u001b[0m",
      "\u001b[1;31mNameError\u001b[0m: name 'china_data' is not defined"
     ]
    }
   ],
   "source": [
    "# china_data.to_sql('export', con=engine, if_exists='replace') #dont run this again"
   ]
  },
  {
   "cell_type": "code",
   "execution_count": 16,
   "metadata": {},
   "outputs": [],
   "source": [
    "import_by_commodity = requests.get(f\"{import_url}/hs?get=I_COMMODITY,I_COMMODITY_SDESC,GEN_VAL_MO,GEN_VAL_YR&key={api_key}&time=from+2015-01&COMM_LVL=HS4&CTY_CODE={china_code}\").json()"
   ]
  },
  {
   "cell_type": "code",
   "execution_count": 19,
   "metadata": {},
   "outputs": [],
   "source": [
    "count = 1\n",
    "movalue = []\n",
    "yrvalue = []\n",
    "period = []\n",
    "desc = []\n",
    "code = []\n",
    "while count < 55352:\n",
    "    count += 1\n",
    "    movalue.append(import_by_commodity[count][2])\n",
    "    yrvalue.append(import_by_commodity[count][3])\n",
    "    desc.append(import_by_commodity[count][1])\n",
    "    period.append(import_by_commodity[count][4])\n",
    "    code.append(import_by_commodity[count][0])\n",
    "import_china_data = pd.DataFrame({\"YTD Value\" : yrvalue,\n",
    "                           \"Monthly Value \" : movalue,\n",
    "                          \"Period\" : period,\n",
    "                          \"Commodity\" : desc,\n",
    "                          \"Comm Code\": code})"
   ]
  },
  {
   "cell_type": "code",
   "execution_count": 29,
   "metadata": {},
   "outputs": [],
   "source": [
    "import_china_data.to_sql('import', con=engine, if_exists='replace') "
   ]
  },
  {
   "cell_type": "code",
   "execution_count": 24,
   "metadata": {},
   "outputs": [],
   "source": [
    "# import_china_data"
   ]
  },
  {
   "cell_type": "code",
   "execution_count": 60,
   "metadata": {},
   "outputs": [],
   "source": [
    "engine = create_engine('sqlite:///../data/china_trade.sqlite')\n",
    "#engine = create_engine(\"sqlite:///db/china_trade.sqlite\")\n",
    "\n",
    "\n"
   ]
  },
  {
   "cell_type": "code",
   "execution_count": 311,
   "metadata": {},
   "outputs": [],
   "source": [
    "Base = automap_base()\n",
    "Base.prepare(engine, reflect=True)\n",
    "session = Session(engine)\n"
   ]
  },
  {
   "cell_type": "code",
   "execution_count": 312,
   "metadata": {},
   "outputs": [
    {
     "data": {
      "text/plain": [
       "['export', 'hs2export', 'hs2import', 'imports', 'yrhs2import']"
      ]
     },
     "execution_count": 312,
     "metadata": {},
     "output_type": "execute_result"
    }
   ],
   "source": [
    "Base.classes.keys()"
   ]
  },
  {
   "cell_type": "code",
   "execution_count": 63,
   "metadata": {},
   "outputs": [],
   "source": [
    "Imports = Base.classes.imports"
   ]
  },
  {
   "cell_type": "code",
   "execution_count": 313,
   "metadata": {},
   "outputs": [],
   "source": [
    "IndImports = Base.classes.hs2import\n",
    "IndExports = Base.classes.hs2export\n",
    "YRImports = Base.classes.yrhs2import"
   ]
  },
  {
   "cell_type": "code",
   "execution_count": 65,
   "metadata": {},
   "outputs": [],
   "source": [
    "Exports = Base.classes.export"
   ]
  },
  {
   "cell_type": "code",
   "execution_count": 66,
   "metadata": {},
   "outputs": [
    {
     "data": {
      "text/plain": [
       "{'Description': 'FISH, DRIED, SALTED ETC, SMOKED ETC; ED FISH MEAL',\n",
       " 'HSC': 305,\n",
       " 'MoValue ': 274324,\n",
       " 'Period': '2015-02',\n",
       " 'YTDValue': 310025,\n",
       " '_sa_instance_state': <sqlalchemy.orm.state.InstanceState at 0x1ea322345c0>,\n",
       " 'index': 0}"
      ]
     },
     "execution_count": 66,
     "metadata": {},
     "output_type": "execute_result"
    }
   ],
   "source": [
    "exports = session.query(Exports).first()\n",
    "exports.__dict__\n"
   ]
  },
  {
   "cell_type": "code",
   "execution_count": 14,
   "metadata": {},
   "outputs": [],
   "source": [
    "results = session.query(Imports).statement\n"
   ]
  },
  {
   "cell_type": "code",
   "execution_count": 12,
   "metadata": {},
   "outputs": [],
   "source": [
    "df = pd.read_sql_query(results, session.bind)"
   ]
  },
  {
   "cell_type": "code",
   "execution_count": 13,
   "metadata": {},
   "outputs": [
    {
     "data": {
      "text/plain": [
       "Index(['index', 'YTDValue', 'MoValue', 'Period', 'Description', 'HSC'], dtype='object')"
      ]
     },
     "execution_count": 13,
     "metadata": {},
     "output_type": "execute_result"
    }
   ],
   "source": [
    "df.columns"
   ]
  },
  {
   "cell_type": "code",
   "execution_count": null,
   "metadata": {},
   "outputs": [],
   "source": []
  },
  {
   "cell_type": "code",
   "execution_count": 14,
   "metadata": {},
   "outputs": [
    {
     "data": {
      "text/plain": [
       "['index', 'YTDValue', 'MoValue', 'Period', 'Description', 'HSC']"
      ]
     },
     "execution_count": 14,
     "metadata": {},
     "output_type": "execute_result"
    }
   ],
   "source": [
    "list(df.columns)"
   ]
  },
  {
   "cell_type": "code",
   "execution_count": 13,
   "metadata": {},
   "outputs": [
    {
     "ename": "AttributeError",
     "evalue": "type object 'imports' has no attribute 'MoValue'",
     "output_type": "error",
     "traceback": [
      "\u001b[1;31m---------------------------------------------------------------------------\u001b[0m",
      "\u001b[1;31mAttributeError\u001b[0m                            Traceback (most recent call last)",
      "\u001b[1;32m<ipython-input-13-37ab62a747f2>\u001b[0m in \u001b[0;36m<module>\u001b[1;34m()\u001b[0m\n\u001b[0;32m      2\u001b[0m         \u001b[0mImports\u001b[0m\u001b[1;33m.\u001b[0m\u001b[0mDescription\u001b[0m\u001b[1;33m,\u001b[0m\u001b[1;33m\u001b[0m\u001b[0m\n\u001b[0;32m      3\u001b[0m         \u001b[0mImports\u001b[0m\u001b[1;33m.\u001b[0m\u001b[0mYTDValue\u001b[0m\u001b[1;33m,\u001b[0m\u001b[1;33m\u001b[0m\u001b[0m\n\u001b[1;32m----> 4\u001b[1;33m         \u001b[0mImports\u001b[0m\u001b[1;33m.\u001b[0m\u001b[0mMoValue\u001b[0m\u001b[1;33m,\u001b[0m\u001b[1;33m\u001b[0m\u001b[0m\n\u001b[0m\u001b[0;32m      5\u001b[0m         \u001b[0mImports\u001b[0m\u001b[1;33m.\u001b[0m\u001b[0mPeriod\u001b[0m\u001b[1;33m,\u001b[0m\u001b[1;33m\u001b[0m\u001b[0m\n\u001b[0;32m      6\u001b[0m         \u001b[0mImports\u001b[0m\u001b[1;33m.\u001b[0m\u001b[0mDescription\u001b[0m\u001b[1;33m\u001b[0m\u001b[0m\n",
      "\u001b[1;31mAttributeError\u001b[0m: type object 'imports' has no attribute 'MoValue'"
     ]
    }
   ],
   "source": [
    "sel = [\n",
    "        Imports.Description,\n",
    "        Imports.YTDValue,\n",
    "        Imports.MoValue,\n",
    "        Imports.Period,\n",
    "        Imports.Description\n",
    "    ]"
   ]
  },
  {
   "cell_type": "code",
   "execution_count": 3,
   "metadata": {},
   "outputs": [],
   "source": [
    "# session.query(*sel).filter(Imports.HSC == \"305\").all()"
   ]
  },
  {
   "cell_type": "code",
   "execution_count": 27,
   "metadata": {},
   "outputs": [],
   "source": [
    "stmt = session.query(Imports).statement\n",
    "df = pd.read_sql_query(stmt, session.bind)\n"
   ]
  },
  {
   "cell_type": "code",
   "execution_count": 120,
   "metadata": {},
   "outputs": [],
   "source": [
    "##### GOOD CODE FOR INDIVIDUAL SEARCHES IE TOOLTIP\"\n",
    "year = 2018\n",
    "hsc = 97\n",
    "sel = [\n",
    "        Imports.Description,\n",
    "        Imports.YTDValue,\n",
    "        Imports.Period,\n",
    "        Imports.HSC\n",
    "        ]\n",
    "\n",
    "results = session.query(*sel).filter(Imports.HSC == hsc).filter(Imports.Period.like(f\"%{year}%\")).all()\n",
    "hsc_data = {}\n",
    "for result in results:\n",
    "    hsc_data[\"Description\"] = result[0]\n",
    "    hsc_data[\"Annual Value\"] = result[1]\n",
    "    hsc_data[\"Year\"] = result[2]\n",
    "    hsc_data[\"HSC\"] = result[3]"
   ]
  },
  {
   "cell_type": "code",
   "execution_count": 137,
   "metadata": {},
   "outputs": [
    {
     "data": {
      "text/plain": [
       "{'Annual Value': 252327033,\n",
       " 'Description': 'SPECIAL IMPORT PROVISIONS, NESOI',\n",
       " 'HSC': 99,\n",
       " 'Year': '2015-01'}"
      ]
     },
     "execution_count": 137,
     "metadata": {},
     "output_type": "execute_result"
    }
   ],
   "source": [
    "hsc_data"
   ]
  },
  {
   "cell_type": "raw",
   "metadata": {},
   "source": [
    "type"
   ]
  },
  {
   "cell_type": "code",
   "execution_count": 326,
   "metadata": {},
   "outputs": [],
   "source": [
    "year_hs2 = requests.get(f\"{import_url}/hs?get=I_COMMODITY,I_COMMODITY_SDESC,GEN_VAL_YR&YEAR=2015&YEAR=2016&YEAR=YEAR=2017&YEAR=2018&YEAR=2019&COMM_LVL=HS2&CTY_CODE={china_code}\").json()\n"
   ]
  },
  {
   "cell_type": "code",
   "execution_count": 329,
   "metadata": {},
   "outputs": [],
   "source": [
    "# year_hs2"
   ]
  },
  {
   "cell_type": "code",
   "execution_count": 286,
   "metadata": {},
   "outputs": [],
   "source": [
    "# count = 1\n",
    "# movalue = []\n",
    "# yrvalue = []\n",
    "# period = []\n",
    "# desc = []\n",
    "# code = []\n",
    "# while count < 4802:\n",
    "#     count += 1\n",
    "#     yrvalue.append(year_hs2[count][2])\n",
    "#     desc.append(year_hs2[count][1])\n",
    "#     period.append(year_hs2[count][3])\n",
    "#     code.append(year_hs2[count][0])\n",
    "# yr_hs2_import = pd.DataFrame({\"YTDValue\" : yrvalue,\n",
    "#                           \"Period\" : period,\n",
    "#                           \"Description\" : desc,\n",
    "#                           \"HSC\": code})"
   ]
  },
  {
   "cell_type": "code",
   "execution_count": 291,
   "metadata": {},
   "outputs": [],
   "source": [
    "# yr_hs2_import.to_sql('yrhs2import', con=engine, if_exists='replace') "
   ]
  },
  {
   "cell_type": "code",
   "execution_count": 328,
   "metadata": {},
   "outputs": [
    {
     "data": {
      "text/plain": [
       "3627"
      ]
     },
     "execution_count": 328,
     "metadata": {},
     "output_type": "execute_result"
    }
   ],
   "source": [
    "len(year_hs2)"
   ]
  },
  {
   "cell_type": "code",
   "execution_count": 19,
   "metadata": {},
   "outputs": [],
   "source": [
    "count = 1\n",
    "movalue = []\n",
    "yrvalue = []\n",
    "period = []\n",
    "desc = []\n",
    "code = []\n",
    "while count < 4802:\n",
    "    count += 1\n",
    "    yrvalue.append(import_hs2[count][2])\n",
    "    desc.append(import_hs2[count][1])\n",
    "    period.append(import_hs2[count][3])\n",
    "    code.append(import_hs2[count][0])\n",
    "hs2_import = pd.DataFrame({\"YTDValue\" : yrvalue,\n",
    "                          \"Period\" : period,\n",
    "                          \"Description\" : desc,\n",
    "                          \"HSC\": code})\n"
   ]
  },
  {
   "cell_type": "code",
   "execution_count": 21,
   "metadata": {},
   "outputs": [],
   "source": [
    "# hs2_import.to_sql('hs2import', con=engine, if_exists='replace') "
   ]
  },
  {
   "cell_type": "code",
   "execution_count": 33,
   "metadata": {},
   "outputs": [],
   "source": [
    "# export_hs2 = requests.get(f\"{export_url}/hs?get=E_COMMODITY,E_COMMODITY_SDESC,ALL_VAL_MO,ALL_VAL_YR&time=from+2015-01&COMM_LVL=HS2&CTY_CODE={china_code}\").json()\n",
    "\n"
   ]
  },
  {
   "cell_type": "code",
   "execution_count": 143,
   "metadata": {},
   "outputs": [],
   "source": [
    "# count = 1\n",
    "# movalue = []\n",
    "# yrvalue = []\n",
    "# period = []\n",
    "# desc = []\n",
    "# code = []\n",
    "# while count < 4802:\n",
    "#     count += 1\n",
    "#     movalue.append(import_by_commodity[count][2])\n",
    "#     yrvalue.append(import_by_commodity[count][3])\n",
    "#     desc.append(import_by_commodity[count][1])\n",
    "#     period.append(import_by_commodity[count][4])\n",
    "#     code.append(import_by_commodity[count][0])\n",
    "# hs2_export = pd.DataFrame({\"YTDValue\" : yrvalue,\n",
    "#                            \"MoValue \" : movalue,\n",
    "#                           \"Period\" : period,\n",
    "#                           \"Description\" : desc,\n",
    "#                           \"HSC\": code})\n"
   ]
  },
  {
   "cell_type": "code",
   "execution_count": 34,
   "metadata": {},
   "outputs": [],
   "source": [
    "# hs2_export.to_sql('hs2export', con=engine, if_exists='replace') \n"
   ]
  },
  {
   "cell_type": "code",
   "execution_count": 177,
   "metadata": {},
   "outputs": [],
   "source": [
    "stmt = session.query(IndImports).statement\n",
    "df = pd.read_sql_query(stmt, session.bind)\n",
    "\n",
    "year = 2015\n",
    "hsc = 1\n",
    "sel = [\n",
    "        IndImports.Description,\n",
    "        IndImports.YTDValue,\n",
    "        IndImports.Period,\n",
    "        IndImports.HSC\n",
    "        ]\n",
    "\n",
    "results = session.query(*sel).filter(IndImports.HSC == 1).filter(IndImports.Period.like(f\"%{year}%\")).all()\n",
    "hsc_ind_imports = {}\n",
    "for result in results:\n",
    "    hsc_ind_imports[\"Description\"] = result[0]\n",
    "    hsc_ind_imports[\"Annual Value\"] = result[1]\n",
    "    hsc_ind_imports[\"Year\"] = result[2]\n",
    "    hsc_ind_imports[\"HSC\"] = result[3]"
   ]
  },
  {
   "cell_type": "code",
   "execution_count": 178,
   "metadata": {},
   "outputs": [],
   "source": [
    "g = session.query(IndImports.HSC).filter(IndImports.HSC == \"01\").all()"
   ]
  },
  {
   "cell_type": "code",
   "execution_count": 181,
   "metadata": {},
   "outputs": [
    {
     "data": {
      "text/plain": [
       "{'Annual Value': 27704684,\n",
       " 'Description': 'LIVE ANIMALS',\n",
       " 'HSC': 1,\n",
       " 'Year': '2015-12'}"
      ]
     },
     "execution_count": 181,
     "metadata": {},
     "output_type": "execute_result"
    }
   ],
   "source": [
    "hsc_ind_imports"
   ]
  },
  {
   "cell_type": "code",
   "execution_count": 297,
   "metadata": {},
   "outputs": [
    {
     "data": {
      "text/plain": [
       "{'Description': 'LEAD AND ARTICLES THEREOF',\n",
       " 'HSC': 78,\n",
       " 'Period': '2017',\n",
       " 'YTDValue': 2194573,\n",
       " '_sa_instance_state': <sqlalchemy.orm.state.InstanceState at 0x1ea339e82e8>,\n",
       " 'index': 0}"
      ]
     },
     "execution_count": 297,
     "metadata": {},
     "output_type": "execute_result"
    }
   ],
   "source": [
    "yr = session.query(YRImports).first()\n",
    "yr.__dict__"
   ]
  },
  {
   "cell_type": "code",
   "execution_count": 341,
   "metadata": {},
   "outputs": [],
   "source": [
    "stmt = session.query(YRImports).statement\n",
    "df = pd.read_sql_query(stmt, session.bind)"
   ]
  },
  {
   "cell_type": "code",
   "execution_count": 377,
   "metadata": {},
   "outputs": [
    {
     "data": {
      "text/html": [
       "<div>\n",
       "<style scoped>\n",
       "    .dataframe tbody tr th:only-of-type {\n",
       "        vertical-align: middle;\n",
       "    }\n",
       "\n",
       "    .dataframe tbody tr th {\n",
       "        vertical-align: top;\n",
       "    }\n",
       "\n",
       "    .dataframe thead th {\n",
       "        text-align: right;\n",
       "    }\n",
       "</style>\n",
       "<table border=\"1\" class=\"dataframe\">\n",
       "  <thead>\n",
       "    <tr style=\"text-align: right;\">\n",
       "      <th></th>\n",
       "      <th>index</th>\n",
       "      <th>YTDValue</th>\n",
       "      <th>Period</th>\n",
       "      <th>Description</th>\n",
       "      <th>HSC</th>\n",
       "    </tr>\n",
       "  </thead>\n",
       "  <tbody>\n",
       "    <tr>\n",
       "      <th>1</th>\n",
       "      <td>1</td>\n",
       "      <td>514116</td>\n",
       "      <td>2016</td>\n",
       "      <td>LEAD AND ARTICLES THEREOF</td>\n",
       "      <td>78</td>\n",
       "    </tr>\n",
       "    <tr>\n",
       "      <th>7</th>\n",
       "      <td>7</td>\n",
       "      <td>1344382</td>\n",
       "      <td>2016</td>\n",
       "      <td>LEAD AND ARTICLES THEREOF</td>\n",
       "      <td>78</td>\n",
       "    </tr>\n",
       "    <tr>\n",
       "      <th>14</th>\n",
       "      <td>14</td>\n",
       "      <td>1762652</td>\n",
       "      <td>2016</td>\n",
       "      <td>LEAD AND ARTICLES THEREOF</td>\n",
       "      <td>78</td>\n",
       "    </tr>\n",
       "    <tr>\n",
       "      <th>15</th>\n",
       "      <td>15</td>\n",
       "      <td>3449525872</td>\n",
       "      <td>2016</td>\n",
       "      <td>OPTIC, PHOTO ETC, MEDIC OR S</td>\n",
       "      <td>90</td>\n",
       "    </tr>\n",
       "    <tr>\n",
       "      <th>18</th>\n",
       "      <td>18</td>\n",
       "      <td>2591093138</td>\n",
       "      <td>2016</td>\n",
       "      <td>OPTIC, PHOTO ETC, MEDIC OR S</td>\n",
       "      <td>90</td>\n",
       "    </tr>\n",
       "    <tr>\n",
       "      <th>30</th>\n",
       "      <td>30</td>\n",
       "      <td>4395755887</td>\n",
       "      <td>2016</td>\n",
       "      <td>OPTIC, PHOTO ETC, MEDIC OR S</td>\n",
       "      <td>90</td>\n",
       "    </tr>\n",
       "    <tr>\n",
       "      <th>32</th>\n",
       "      <td>32</td>\n",
       "      <td>7303660316</td>\n",
       "      <td>2016</td>\n",
       "      <td>OPTIC, PHOTO ETC, MEDIC OR S</td>\n",
       "      <td>90</td>\n",
       "    </tr>\n",
       "    <tr>\n",
       "      <th>35</th>\n",
       "      <td>35</td>\n",
       "      <td>990621</td>\n",
       "      <td>2016</td>\n",
       "      <td>LEAD AND ARTICLES THEREOF</td>\n",
       "      <td>78</td>\n",
       "    </tr>\n",
       "    <tr>\n",
       "      <th>45</th>\n",
       "      <td>45</td>\n",
       "      <td>5639998</td>\n",
       "      <td>2016</td>\n",
       "      <td>LEAD AND ARTICLES THEREOF</td>\n",
       "      <td>78</td>\n",
       "    </tr>\n",
       "    <tr>\n",
       "      <th>47</th>\n",
       "      <td>47</td>\n",
       "      <td>11291912664</td>\n",
       "      <td>2016</td>\n",
       "      <td>OPTIC, PHOTO ETC, MEDIC OR S</td>\n",
       "      <td>90</td>\n",
       "    </tr>\n",
       "    <tr>\n",
       "      <th>48</th>\n",
       "      <td>48</td>\n",
       "      <td>5164112</td>\n",
       "      <td>2016</td>\n",
       "      <td>LEAD AND ARTICLES THEREOF</td>\n",
       "      <td>78</td>\n",
       "    </tr>\n",
       "    <tr>\n",
       "      <th>52</th>\n",
       "      <td>52</td>\n",
       "      <td>2881730</td>\n",
       "      <td>2016</td>\n",
       "      <td>LEAD AND ARTICLES THEREOF</td>\n",
       "      <td>78</td>\n",
       "    </tr>\n",
       "    <tr>\n",
       "      <th>53</th>\n",
       "      <td>53</td>\n",
       "      <td>5331975065</td>\n",
       "      <td>2016</td>\n",
       "      <td>OPTIC, PHOTO ETC, MEDIC OR S</td>\n",
       "      <td>90</td>\n",
       "    </tr>\n",
       "    <tr>\n",
       "      <th>54</th>\n",
       "      <td>54</td>\n",
       "      <td>2338887</td>\n",
       "      <td>2016</td>\n",
       "      <td>LEAD AND ARTICLES THEREOF</td>\n",
       "      <td>78</td>\n",
       "    </tr>\n",
       "    <tr>\n",
       "      <th>60</th>\n",
       "      <td>60</td>\n",
       "      <td>9285668047</td>\n",
       "      <td>2016</td>\n",
       "      <td>OPTIC, PHOTO ETC, MEDIC OR S</td>\n",
       "      <td>90</td>\n",
       "    </tr>\n",
       "    <tr>\n",
       "      <th>61</th>\n",
       "      <td>61</td>\n",
       "      <td>3336173</td>\n",
       "      <td>2016</td>\n",
       "      <td>LEAD AND ARTICLES THEREOF</td>\n",
       "      <td>78</td>\n",
       "    </tr>\n",
       "    <tr>\n",
       "      <th>64</th>\n",
       "      <td>64</td>\n",
       "      <td>3896180</td>\n",
       "      <td>2016</td>\n",
       "      <td>LEAD AND ARTICLES THEREOF</td>\n",
       "      <td>78</td>\n",
       "    </tr>\n",
       "    <tr>\n",
       "      <th>69</th>\n",
       "      <td>69</td>\n",
       "      <td>6268721121</td>\n",
       "      <td>2016</td>\n",
       "      <td>OPTIC, PHOTO ETC, MEDIC OR S</td>\n",
       "      <td>90</td>\n",
       "    </tr>\n",
       "    <tr>\n",
       "      <th>73</th>\n",
       "      <td>73</td>\n",
       "      <td>4934191</td>\n",
       "      <td>2016</td>\n",
       "      <td>LEAD AND ARTICLES THEREOF</td>\n",
       "      <td>78</td>\n",
       "    </tr>\n",
       "    <tr>\n",
       "      <th>77</th>\n",
       "      <td>77</td>\n",
       "      <td>4475774</td>\n",
       "      <td>2016</td>\n",
       "      <td>LEAD AND ARTICLES THEREOF</td>\n",
       "      <td>78</td>\n",
       "    </tr>\n",
       "    <tr>\n",
       "      <th>78</th>\n",
       "      <td>78</td>\n",
       "      <td>10299020259</td>\n",
       "      <td>2016</td>\n",
       "      <td>OPTIC, PHOTO ETC, MEDIC OR S</td>\n",
       "      <td>90</td>\n",
       "    </tr>\n",
       "    <tr>\n",
       "      <th>87</th>\n",
       "      <td>87</td>\n",
       "      <td>1806882720</td>\n",
       "      <td>2016</td>\n",
       "      <td>OPTIC, PHOTO ETC, MEDIC OR S</td>\n",
       "      <td>90</td>\n",
       "    </tr>\n",
       "    <tr>\n",
       "      <th>92</th>\n",
       "      <td>92</td>\n",
       "      <td>921074708</td>\n",
       "      <td>2016</td>\n",
       "      <td>OPTIC, PHOTO ETC, MEDIC OR S</td>\n",
       "      <td>90</td>\n",
       "    </tr>\n",
       "    <tr>\n",
       "      <th>94</th>\n",
       "      <td>94</td>\n",
       "      <td>8268202149</td>\n",
       "      <td>2016</td>\n",
       "      <td>OPTIC, PHOTO ETC, MEDIC OR S</td>\n",
       "      <td>90</td>\n",
       "    </tr>\n",
       "    <tr>\n",
       "      <th>98</th>\n",
       "      <td>98</td>\n",
       "      <td>1541928266</td>\n",
       "      <td>2016</td>\n",
       "      <td>ART OF STONE, PLASTER, CEMENT, ASBESTOS, MICA ...</td>\n",
       "      <td>68</td>\n",
       "    </tr>\n",
       "    <tr>\n",
       "      <th>107</th>\n",
       "      <td>107</td>\n",
       "      <td>297099381</td>\n",
       "      <td>2016</td>\n",
       "      <td>ART OF STONE, PLASTER, CEMENT, ASBESTOS, MICA ...</td>\n",
       "      <td>68</td>\n",
       "    </tr>\n",
       "    <tr>\n",
       "      <th>109</th>\n",
       "      <td>109</td>\n",
       "      <td>387379898</td>\n",
       "      <td>2016</td>\n",
       "      <td>ART OF STONE, PLASTER, CEMENT, ASBESTOS, MICA ...</td>\n",
       "      <td>68</td>\n",
       "    </tr>\n",
       "    <tr>\n",
       "      <th>110</th>\n",
       "      <td>110</td>\n",
       "      <td>1248746615</td>\n",
       "      <td>2016</td>\n",
       "      <td>ART OF STONE, PLASTER, CEMENT, ASBESTOS, MICA ...</td>\n",
       "      <td>68</td>\n",
       "    </tr>\n",
       "    <tr>\n",
       "      <th>112</th>\n",
       "      <td>112</td>\n",
       "      <td>941909227</td>\n",
       "      <td>2016</td>\n",
       "      <td>ART OF STONE, PLASTER, CEMENT, ASBESTOS, MICA ...</td>\n",
       "      <td>68</td>\n",
       "    </tr>\n",
       "    <tr>\n",
       "      <th>122</th>\n",
       "      <td>122</td>\n",
       "      <td>1705410656</td>\n",
       "      <td>2016</td>\n",
       "      <td>ART OF STONE, PLASTER, CEMENT, ASBESTOS, MICA ...</td>\n",
       "      <td>68</td>\n",
       "    </tr>\n",
       "    <tr>\n",
       "      <th>...</th>\n",
       "      <td>...</td>\n",
       "      <td>...</td>\n",
       "      <td>...</td>\n",
       "      <td>...</td>\n",
       "      <td>...</td>\n",
       "    </tr>\n",
       "    <tr>\n",
       "      <th>4670</th>\n",
       "      <td>4670</td>\n",
       "      <td>56901759</td>\n",
       "      <td>2016</td>\n",
       "      <td>ZINC AND ARTICLES THEREOF</td>\n",
       "      <td>79</td>\n",
       "    </tr>\n",
       "    <tr>\n",
       "      <th>4671</th>\n",
       "      <td>4671</td>\n",
       "      <td>47699060</td>\n",
       "      <td>2016</td>\n",
       "      <td>ZINC AND ARTICLES THEREOF</td>\n",
       "      <td>79</td>\n",
       "    </tr>\n",
       "    <tr>\n",
       "      <th>4678</th>\n",
       "      <td>4678</td>\n",
       "      <td>66680580</td>\n",
       "      <td>2016</td>\n",
       "      <td>ZINC AND ARTICLES THEREOF</td>\n",
       "      <td>79</td>\n",
       "    </tr>\n",
       "    <tr>\n",
       "      <th>4679</th>\n",
       "      <td>4679</td>\n",
       "      <td>77441389</td>\n",
       "      <td>2016</td>\n",
       "      <td>ZINC AND ARTICLES THEREOF</td>\n",
       "      <td>79</td>\n",
       "    </tr>\n",
       "    <tr>\n",
       "      <th>4682</th>\n",
       "      <td>4682</td>\n",
       "      <td>99465580</td>\n",
       "      <td>2016</td>\n",
       "      <td>ZINC AND ARTICLES THEREOF</td>\n",
       "      <td>79</td>\n",
       "    </tr>\n",
       "    <tr>\n",
       "      <th>4692</th>\n",
       "      <td>4692</td>\n",
       "      <td>4331987355</td>\n",
       "      <td>2016</td>\n",
       "      <td>MISCELLANEOUS ARTICLES OF BASE METAL</td>\n",
       "      <td>83</td>\n",
       "    </tr>\n",
       "    <tr>\n",
       "      <th>4693</th>\n",
       "      <td>4693</td>\n",
       "      <td>411520783</td>\n",
       "      <td>2016</td>\n",
       "      <td>MISCELLANEOUS ARTICLES OF BASE METAL</td>\n",
       "      <td>83</td>\n",
       "    </tr>\n",
       "    <tr>\n",
       "      <th>4698</th>\n",
       "      <td>4698</td>\n",
       "      <td>829570682</td>\n",
       "      <td>2016</td>\n",
       "      <td>MISCELLANEOUS ARTICLES OF BASE METAL</td>\n",
       "      <td>83</td>\n",
       "    </tr>\n",
       "    <tr>\n",
       "      <th>4701</th>\n",
       "      <td>4701</td>\n",
       "      <td>1472322058</td>\n",
       "      <td>2016</td>\n",
       "      <td>MISCELLANEOUS ARTICLES OF BASE METAL</td>\n",
       "      <td>83</td>\n",
       "    </tr>\n",
       "    <tr>\n",
       "      <th>4712</th>\n",
       "      <td>4712</td>\n",
       "      <td>4752480930</td>\n",
       "      <td>2016</td>\n",
       "      <td>MISCELLANEOUS ARTICLES OF BASE METAL</td>\n",
       "      <td>83</td>\n",
       "    </tr>\n",
       "    <tr>\n",
       "      <th>4715</th>\n",
       "      <td>4715</td>\n",
       "      <td>2274626743</td>\n",
       "      <td>2016</td>\n",
       "      <td>MISCELLANEOUS ARTICLES OF BASE METAL</td>\n",
       "      <td>83</td>\n",
       "    </tr>\n",
       "    <tr>\n",
       "      <th>4717</th>\n",
       "      <td>4717</td>\n",
       "      <td>1878526882</td>\n",
       "      <td>2016</td>\n",
       "      <td>MISCELLANEOUS ARTICLES OF BASE METAL</td>\n",
       "      <td>83</td>\n",
       "    </tr>\n",
       "    <tr>\n",
       "      <th>4724</th>\n",
       "      <td>4724</td>\n",
       "      <td>3903124052</td>\n",
       "      <td>2016</td>\n",
       "      <td>MISCELLANEOUS ARTICLES OF BASE METAL</td>\n",
       "      <td>83</td>\n",
       "    </tr>\n",
       "    <tr>\n",
       "      <th>4725</th>\n",
       "      <td>4725</td>\n",
       "      <td>2678329287</td>\n",
       "      <td>2016</td>\n",
       "      <td>MISCELLANEOUS ARTICLES OF BASE METAL</td>\n",
       "      <td>83</td>\n",
       "    </tr>\n",
       "    <tr>\n",
       "      <th>4726</th>\n",
       "      <td>4726</td>\n",
       "      <td>3113368526</td>\n",
       "      <td>2016</td>\n",
       "      <td>MISCELLANEOUS ARTICLES OF BASE METAL</td>\n",
       "      <td>83</td>\n",
       "    </tr>\n",
       "    <tr>\n",
       "      <th>4732</th>\n",
       "      <td>4732</td>\n",
       "      <td>3502746139</td>\n",
       "      <td>2016</td>\n",
       "      <td>MISCELLANEOUS ARTICLES OF BASE METAL</td>\n",
       "      <td>83</td>\n",
       "    </tr>\n",
       "    <tr>\n",
       "      <th>4733</th>\n",
       "      <td>4733</td>\n",
       "      <td>1113699410</td>\n",
       "      <td>2016</td>\n",
       "      <td>MISCELLANEOUS ARTICLES OF BASE METAL</td>\n",
       "      <td>83</td>\n",
       "    </tr>\n",
       "    <tr>\n",
       "      <th>4742</th>\n",
       "      <td>4742</td>\n",
       "      <td>229164530</td>\n",
       "      <td>2016</td>\n",
       "      <td>LAC; GUMS, RESINS &amp; OTHER VEGETABLE SAP &amp; EXTRACT</td>\n",
       "      <td>13</td>\n",
       "    </tr>\n",
       "    <tr>\n",
       "      <th>4743</th>\n",
       "      <td>4743</td>\n",
       "      <td>64413387</td>\n",
       "      <td>2016</td>\n",
       "      <td>LAC; GUMS, RESINS &amp; OTHER VEGETABLE SAP &amp; EXTRACT</td>\n",
       "      <td>13</td>\n",
       "    </tr>\n",
       "    <tr>\n",
       "      <th>4745</th>\n",
       "      <td>4745</td>\n",
       "      <td>117134460</td>\n",
       "      <td>2016</td>\n",
       "      <td>LAC; GUMS, RESINS &amp; OTHER VEGETABLE SAP &amp; EXTRACT</td>\n",
       "      <td>13</td>\n",
       "    </tr>\n",
       "    <tr>\n",
       "      <th>4750</th>\n",
       "      <td>4750</td>\n",
       "      <td>144164810</td>\n",
       "      <td>2016</td>\n",
       "      <td>LAC; GUMS, RESINS &amp; OTHER VEGETABLE SAP &amp; EXTRACT</td>\n",
       "      <td>13</td>\n",
       "    </tr>\n",
       "    <tr>\n",
       "      <th>4758</th>\n",
       "      <td>4758</td>\n",
       "      <td>199282816</td>\n",
       "      <td>2016</td>\n",
       "      <td>LAC; GUMS, RESINS &amp; OTHER VEGETABLE SAP &amp; EXTRACT</td>\n",
       "      <td>13</td>\n",
       "    </tr>\n",
       "    <tr>\n",
       "      <th>4760</th>\n",
       "      <td>4760</td>\n",
       "      <td>215643303</td>\n",
       "      <td>2016</td>\n",
       "      <td>LAC; GUMS, RESINS &amp; OTHER VEGETABLE SAP &amp; EXTRACT</td>\n",
       "      <td>13</td>\n",
       "    </tr>\n",
       "    <tr>\n",
       "      <th>4763</th>\n",
       "      <td>4763</td>\n",
       "      <td>91029548</td>\n",
       "      <td>2016</td>\n",
       "      <td>LAC; GUMS, RESINS &amp; OTHER VEGETABLE SAP &amp; EXTRACT</td>\n",
       "      <td>13</td>\n",
       "    </tr>\n",
       "    <tr>\n",
       "      <th>4764</th>\n",
       "      <td>4764</td>\n",
       "      <td>165218712</td>\n",
       "      <td>2016</td>\n",
       "      <td>LAC; GUMS, RESINS &amp; OTHER VEGETABLE SAP &amp; EXTRACT</td>\n",
       "      <td>13</td>\n",
       "    </tr>\n",
       "    <tr>\n",
       "      <th>4765</th>\n",
       "      <td>4765</td>\n",
       "      <td>46105232</td>\n",
       "      <td>2016</td>\n",
       "      <td>LAC; GUMS, RESINS &amp; OTHER VEGETABLE SAP &amp; EXTRACT</td>\n",
       "      <td>13</td>\n",
       "    </tr>\n",
       "    <tr>\n",
       "      <th>4770</th>\n",
       "      <td>4770</td>\n",
       "      <td>28078533</td>\n",
       "      <td>2016</td>\n",
       "      <td>LAC; GUMS, RESINS &amp; OTHER VEGETABLE SAP &amp; EXTRACT</td>\n",
       "      <td>13</td>\n",
       "    </tr>\n",
       "    <tr>\n",
       "      <th>4773</th>\n",
       "      <td>4773</td>\n",
       "      <td>183696239</td>\n",
       "      <td>2016</td>\n",
       "      <td>LAC; GUMS, RESINS &amp; OTHER VEGETABLE SAP &amp; EXTRACT</td>\n",
       "      <td>13</td>\n",
       "    </tr>\n",
       "    <tr>\n",
       "      <th>4775</th>\n",
       "      <td>4775</td>\n",
       "      <td>249414156</td>\n",
       "      <td>2016</td>\n",
       "      <td>LAC; GUMS, RESINS &amp; OTHER VEGETABLE SAP &amp; EXTRACT</td>\n",
       "      <td>13</td>\n",
       "    </tr>\n",
       "    <tr>\n",
       "      <th>4791</th>\n",
       "      <td>4791</td>\n",
       "      <td>175137793</td>\n",
       "      <td>2016</td>\n",
       "      <td>EDIBLE VEGETABLES &amp; CERTAIN ROOTS &amp; TUBERS</td>\n",
       "      <td>7</td>\n",
       "    </tr>\n",
       "  </tbody>\n",
       "</table>\n",
       "<p>1176 rows × 5 columns</p>\n",
       "</div>"
      ],
      "text/plain": [
       "      index     YTDValue  Period  \\\n",
       "1         1       514116    2016   \n",
       "7         7      1344382    2016   \n",
       "14       14      1762652    2016   \n",
       "15       15   3449525872    2016   \n",
       "18       18   2591093138    2016   \n",
       "30       30   4395755887    2016   \n",
       "32       32   7303660316    2016   \n",
       "35       35       990621    2016   \n",
       "45       45      5639998    2016   \n",
       "47       47  11291912664    2016   \n",
       "48       48      5164112    2016   \n",
       "52       52      2881730    2016   \n",
       "53       53   5331975065    2016   \n",
       "54       54      2338887    2016   \n",
       "60       60   9285668047    2016   \n",
       "61       61      3336173    2016   \n",
       "64       64      3896180    2016   \n",
       "69       69   6268721121    2016   \n",
       "73       73      4934191    2016   \n",
       "77       77      4475774    2016   \n",
       "78       78  10299020259    2016   \n",
       "87       87   1806882720    2016   \n",
       "92       92    921074708    2016   \n",
       "94       94   8268202149    2016   \n",
       "98       98   1541928266    2016   \n",
       "107     107    297099381    2016   \n",
       "109     109    387379898    2016   \n",
       "110     110   1248746615    2016   \n",
       "112     112    941909227    2016   \n",
       "122     122   1705410656    2016   \n",
       "...     ...          ...     ...   \n",
       "4670   4670     56901759    2016   \n",
       "4671   4671     47699060    2016   \n",
       "4678   4678     66680580    2016   \n",
       "4679   4679     77441389    2016   \n",
       "4682   4682     99465580    2016   \n",
       "4692   4692   4331987355    2016   \n",
       "4693   4693    411520783    2016   \n",
       "4698   4698    829570682    2016   \n",
       "4701   4701   1472322058    2016   \n",
       "4712   4712   4752480930    2016   \n",
       "4715   4715   2274626743    2016   \n",
       "4717   4717   1878526882    2016   \n",
       "4724   4724   3903124052    2016   \n",
       "4725   4725   2678329287    2016   \n",
       "4726   4726   3113368526    2016   \n",
       "4732   4732   3502746139    2016   \n",
       "4733   4733   1113699410    2016   \n",
       "4742   4742    229164530    2016   \n",
       "4743   4743     64413387    2016   \n",
       "4745   4745    117134460    2016   \n",
       "4750   4750    144164810    2016   \n",
       "4758   4758    199282816    2016   \n",
       "4760   4760    215643303    2016   \n",
       "4763   4763     91029548    2016   \n",
       "4764   4764    165218712    2016   \n",
       "4765   4765     46105232    2016   \n",
       "4770   4770     28078533    2016   \n",
       "4773   4773    183696239    2016   \n",
       "4775   4775    249414156    2016   \n",
       "4791   4791    175137793    2016   \n",
       "\n",
       "                                            Description HSC  \n",
       "1                             LEAD AND ARTICLES THEREOF  78  \n",
       "7                             LEAD AND ARTICLES THEREOF  78  \n",
       "14                            LEAD AND ARTICLES THEREOF  78  \n",
       "15                         OPTIC, PHOTO ETC, MEDIC OR S  90  \n",
       "18                         OPTIC, PHOTO ETC, MEDIC OR S  90  \n",
       "30                         OPTIC, PHOTO ETC, MEDIC OR S  90  \n",
       "32                         OPTIC, PHOTO ETC, MEDIC OR S  90  \n",
       "35                            LEAD AND ARTICLES THEREOF  78  \n",
       "45                            LEAD AND ARTICLES THEREOF  78  \n",
       "47                         OPTIC, PHOTO ETC, MEDIC OR S  90  \n",
       "48                            LEAD AND ARTICLES THEREOF  78  \n",
       "52                            LEAD AND ARTICLES THEREOF  78  \n",
       "53                         OPTIC, PHOTO ETC, MEDIC OR S  90  \n",
       "54                            LEAD AND ARTICLES THEREOF  78  \n",
       "60                         OPTIC, PHOTO ETC, MEDIC OR S  90  \n",
       "61                            LEAD AND ARTICLES THEREOF  78  \n",
       "64                            LEAD AND ARTICLES THEREOF  78  \n",
       "69                         OPTIC, PHOTO ETC, MEDIC OR S  90  \n",
       "73                            LEAD AND ARTICLES THEREOF  78  \n",
       "77                            LEAD AND ARTICLES THEREOF  78  \n",
       "78                         OPTIC, PHOTO ETC, MEDIC OR S  90  \n",
       "87                         OPTIC, PHOTO ETC, MEDIC OR S  90  \n",
       "92                         OPTIC, PHOTO ETC, MEDIC OR S  90  \n",
       "94                         OPTIC, PHOTO ETC, MEDIC OR S  90  \n",
       "98    ART OF STONE, PLASTER, CEMENT, ASBESTOS, MICA ...  68  \n",
       "107   ART OF STONE, PLASTER, CEMENT, ASBESTOS, MICA ...  68  \n",
       "109   ART OF STONE, PLASTER, CEMENT, ASBESTOS, MICA ...  68  \n",
       "110   ART OF STONE, PLASTER, CEMENT, ASBESTOS, MICA ...  68  \n",
       "112   ART OF STONE, PLASTER, CEMENT, ASBESTOS, MICA ...  68  \n",
       "122   ART OF STONE, PLASTER, CEMENT, ASBESTOS, MICA ...  68  \n",
       "...                                                 ...  ..  \n",
       "4670                          ZINC AND ARTICLES THEREOF  79  \n",
       "4671                          ZINC AND ARTICLES THEREOF  79  \n",
       "4678                          ZINC AND ARTICLES THEREOF  79  \n",
       "4679                          ZINC AND ARTICLES THEREOF  79  \n",
       "4682                          ZINC AND ARTICLES THEREOF  79  \n",
       "4692               MISCELLANEOUS ARTICLES OF BASE METAL  83  \n",
       "4693               MISCELLANEOUS ARTICLES OF BASE METAL  83  \n",
       "4698               MISCELLANEOUS ARTICLES OF BASE METAL  83  \n",
       "4701               MISCELLANEOUS ARTICLES OF BASE METAL  83  \n",
       "4712               MISCELLANEOUS ARTICLES OF BASE METAL  83  \n",
       "4715               MISCELLANEOUS ARTICLES OF BASE METAL  83  \n",
       "4717               MISCELLANEOUS ARTICLES OF BASE METAL  83  \n",
       "4724               MISCELLANEOUS ARTICLES OF BASE METAL  83  \n",
       "4725               MISCELLANEOUS ARTICLES OF BASE METAL  83  \n",
       "4726               MISCELLANEOUS ARTICLES OF BASE METAL  83  \n",
       "4732               MISCELLANEOUS ARTICLES OF BASE METAL  83  \n",
       "4733               MISCELLANEOUS ARTICLES OF BASE METAL  83  \n",
       "4742  LAC; GUMS, RESINS & OTHER VEGETABLE SAP & EXTRACT  13  \n",
       "4743  LAC; GUMS, RESINS & OTHER VEGETABLE SAP & EXTRACT  13  \n",
       "4745  LAC; GUMS, RESINS & OTHER VEGETABLE SAP & EXTRACT  13  \n",
       "4750  LAC; GUMS, RESINS & OTHER VEGETABLE SAP & EXTRACT  13  \n",
       "4758  LAC; GUMS, RESINS & OTHER VEGETABLE SAP & EXTRACT  13  \n",
       "4760  LAC; GUMS, RESINS & OTHER VEGETABLE SAP & EXTRACT  13  \n",
       "4763  LAC; GUMS, RESINS & OTHER VEGETABLE SAP & EXTRACT  13  \n",
       "4764  LAC; GUMS, RESINS & OTHER VEGETABLE SAP & EXTRACT  13  \n",
       "4765  LAC; GUMS, RESINS & OTHER VEGETABLE SAP & EXTRACT  13  \n",
       "4770  LAC; GUMS, RESINS & OTHER VEGETABLE SAP & EXTRACT  13  \n",
       "4773  LAC; GUMS, RESINS & OTHER VEGETABLE SAP & EXTRACT  13  \n",
       "4775  LAC; GUMS, RESINS & OTHER VEGETABLE SAP & EXTRACT  13  \n",
       "4791         EDIBLE VEGETABLES & CERTAIN ROOTS & TUBERS   7  \n",
       "\n",
       "[1176 rows x 5 columns]"
      ]
     },
     "execution_count": 377,
     "metadata": {},
     "output_type": "execute_result"
    }
   ],
   "source": [
    "df.loc[df['Period'] == 2016]"
   ]
  },
  {
   "cell_type": "code",
   "execution_count": 249,
   "metadata": {},
   "outputs": [],
   "source": [
    "test_df = df.groupby([\"Period\"])[\"YTDValue\", \"HSC\", \"Period\"]"
   ]
  },
  {
   "cell_type": "code",
   "execution_count": 332,
   "metadata": {},
   "outputs": [],
   "source": [
    "df[\"YTDValue\", \"HSC\", \"Period\"]= [i[:4] for i in df['Period']]"
   ]
  },
  {
   "cell_type": "code",
   "execution_count": 274,
   "metadata": {},
   "outputs": [],
   "source": [
    "df = pd.read_sql_query(stmt, session.bind)"
   ]
  },
  {
   "cell_type": "code",
   "execution_count": 356,
   "metadata": {},
   "outputs": [
    {
     "ename": "TypeError",
     "evalue": "'Series' object is not callable",
     "output_type": "error",
     "traceback": [
      "\u001b[1;31m---------------------------------------------------------------------------\u001b[0m",
      "\u001b[1;31mTypeError\u001b[0m                                 Traceback (most recent call last)",
      "\u001b[1;32m<ipython-input-356-2fd49094fdfe>\u001b[0m in \u001b[0;36m<module>\u001b[1;34m()\u001b[0m\n\u001b[1;32m----> 1\u001b[1;33m \u001b[0mdf\u001b[0m\u001b[1;33m[\u001b[0m\u001b[1;34m\"Period\"\u001b[0m\u001b[1;33m]\u001b[0m\u001b[1;33m(\u001b[0m\u001b[1;34m\"2015\"\u001b[0m\u001b[1;33m)\u001b[0m\u001b[1;33m\u001b[0m\u001b[0m\n\u001b[0m",
      "\u001b[1;31mTypeError\u001b[0m: 'Series' object is not callable"
     ]
    }
   ],
   "source": [
    "df[\"Period\"](\"2015\")"
   ]
  },
  {
   "cell_type": "code",
   "execution_count": 379,
   "metadata": {},
   "outputs": [],
   "source": [
    "yr_hs2_import[\"YTDValue\"] =pd.to_numeric(yr_hs2_import[\"YTDValue\"])\n"
   ]
  },
  {
   "cell_type": "code",
   "execution_count": 380,
   "metadata": {},
   "outputs": [],
   "source": [
    "first_2015 = yr_hs2_import[yr_hs2_import[\"Period\"].str.contains(\"2015\")]\n"
   ]
  },
  {
   "cell_type": "code",
   "execution_count": 393,
   "metadata": {},
   "outputs": [],
   "source": [
    "data_2015 = first_2015.groupby([\"HSC\",\"Description\",\"Period\"])[\"YTDValue\"].sum()\n"
   ]
  },
  {
   "cell_type": "code",
   "execution_count": 396,
   "metadata": {},
   "outputs": [],
   "source": [
    "test= pd.DataFrame({\"total\" : data_2015})\n",
    "data_2015= test.nlargest(10,\"total\")\n",
    "data_2015 = data_2015.reset_index()\n",
    "\n",
    "data_2015= data_2015.nlargest(10,\"total\")"
   ]
  },
  {
   "cell_type": "code",
   "execution_count": 397,
   "metadata": {},
   "outputs": [
    {
     "data": {
      "text/html": [
       "<div>\n",
       "<style scoped>\n",
       "    .dataframe tbody tr th:only-of-type {\n",
       "        vertical-align: middle;\n",
       "    }\n",
       "\n",
       "    .dataframe tbody tr th {\n",
       "        vertical-align: top;\n",
       "    }\n",
       "\n",
       "    .dataframe thead th {\n",
       "        text-align: right;\n",
       "    }\n",
       "</style>\n",
       "<table border=\"1\" class=\"dataframe\">\n",
       "  <thead>\n",
       "    <tr style=\"text-align: right;\">\n",
       "      <th></th>\n",
       "      <th>HSC</th>\n",
       "      <th>Description</th>\n",
       "      <th>Period</th>\n",
       "      <th>total</th>\n",
       "    </tr>\n",
       "  </thead>\n",
       "  <tbody>\n",
       "    <tr>\n",
       "      <th>0</th>\n",
       "      <td>85</td>\n",
       "      <td>ELECTRIC MACHINERY ETC; SOUND</td>\n",
       "      <td>2015</td>\n",
       "      <td>818112819400</td>\n",
       "    </tr>\n",
       "    <tr>\n",
       "      <th>1</th>\n",
       "      <td>84</td>\n",
       "      <td>NUCLEAR REACTORS, BOILERS, MACHINERY ETC.; PARTS</td>\n",
       "      <td>2015</td>\n",
       "      <td>666100643226</td>\n",
       "    </tr>\n",
       "    <tr>\n",
       "      <th>2</th>\n",
       "      <td>94</td>\n",
       "      <td>FURNITURE; BEDDING ETC; LAMPS NESOI ETC</td>\n",
       "      <td>2015</td>\n",
       "      <td>181010404192</td>\n",
       "    </tr>\n",
       "    <tr>\n",
       "      <th>3</th>\n",
       "      <td>95</td>\n",
       "      <td>TOYS, GAMES &amp; SPORT EQUIPMENT; PARTS &amp; ACCESSO...</td>\n",
       "      <td>2015</td>\n",
       "      <td>137998619706</td>\n",
       "    </tr>\n",
       "    <tr>\n",
       "      <th>4</th>\n",
       "      <td>64</td>\n",
       "      <td>FOOTWEAR, GAITERS ETC. AND PARTS THEREOF</td>\n",
       "      <td>2015</td>\n",
       "      <td>113801708948</td>\n",
       "    </tr>\n",
       "    <tr>\n",
       "      <th>5</th>\n",
       "      <td>61</td>\n",
       "      <td>APPAREL ARTICLES AND ACCESSORIES, KNIT OR CROCHET</td>\n",
       "      <td>2015</td>\n",
       "      <td>97092844954</td>\n",
       "    </tr>\n",
       "    <tr>\n",
       "      <th>6</th>\n",
       "      <td>62</td>\n",
       "      <td>APPAREL ARTICLES AND ACCESSORIES, NOT KNIT ETC.</td>\n",
       "      <td>2015</td>\n",
       "      <td>94814507202</td>\n",
       "    </tr>\n",
       "    <tr>\n",
       "      <th>7</th>\n",
       "      <td>39</td>\n",
       "      <td>PLASTICS AND ARTICLES THEREOF</td>\n",
       "      <td>2015</td>\n",
       "      <td>94005729937</td>\n",
       "    </tr>\n",
       "    <tr>\n",
       "      <th>8</th>\n",
       "      <td>87</td>\n",
       "      <td>VEHICLES, EXCEPT RAILWAY OR TRAMWAY, AND PARTS...</td>\n",
       "      <td>2015</td>\n",
       "      <td>85574454525</td>\n",
       "    </tr>\n",
       "    <tr>\n",
       "      <th>9</th>\n",
       "      <td>90</td>\n",
       "      <td>OPTIC, PHOTO ETC, MEDIC OR S</td>\n",
       "      <td>2015</td>\n",
       "      <td>71151180495</td>\n",
       "    </tr>\n",
       "  </tbody>\n",
       "</table>\n",
       "</div>"
      ],
      "text/plain": [
       "  HSC                                        Description Period         total\n",
       "0  85                      ELECTRIC MACHINERY ETC; SOUND   2015  818112819400\n",
       "1  84   NUCLEAR REACTORS, BOILERS, MACHINERY ETC.; PARTS   2015  666100643226\n",
       "2  94            FURNITURE; BEDDING ETC; LAMPS NESOI ETC   2015  181010404192\n",
       "3  95  TOYS, GAMES & SPORT EQUIPMENT; PARTS & ACCESSO...   2015  137998619706\n",
       "4  64           FOOTWEAR, GAITERS ETC. AND PARTS THEREOF   2015  113801708948\n",
       "5  61  APPAREL ARTICLES AND ACCESSORIES, KNIT OR CROCHET   2015   97092844954\n",
       "6  62    APPAREL ARTICLES AND ACCESSORIES, NOT KNIT ETC.   2015   94814507202\n",
       "7  39                      PLASTICS AND ARTICLES THEREOF   2015   94005729937\n",
       "8  87  VEHICLES, EXCEPT RAILWAY OR TRAMWAY, AND PARTS...   2015   85574454525\n",
       "9  90                       OPTIC, PHOTO ETC, MEDIC OR S   2015   71151180495"
      ]
     },
     "execution_count": 397,
     "metadata": {},
     "output_type": "execute_result"
    }
   ],
   "source": [
    "data_2015"
   ]
  },
  {
   "cell_type": "code",
   "execution_count": null,
   "metadata": {},
   "outputs": [],
   "source": []
  }
 ],
 "metadata": {
  "kernelspec": {
   "display_name": "Python 3",
   "language": "python",
   "name": "python3"
  },
  "language_info": {
   "codemirror_mode": {
    "name": "ipython",
    "version": 3
   },
   "file_extension": ".py",
   "mimetype": "text/x-python",
   "name": "python",
   "nbconvert_exporter": "python",
   "pygments_lexer": "ipython3",
   "version": "3.6.5"
  }
 },
 "nbformat": 4,
 "nbformat_minor": 2
}
