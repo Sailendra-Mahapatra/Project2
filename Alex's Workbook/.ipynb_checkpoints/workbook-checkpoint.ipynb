{
 "cells": [
  {
   "cell_type": "code",
   "execution_count": 1,
   "metadata": {},
   "outputs": [],
   "source": [
    "import datetime as dt\n",
    "import numpy as np\n",
    "import pandas as pd\n",
    "import requests\n",
    "import json\n",
    "from pprint import pprint\n",
    "import csv\n",
    "# from api_key import api_key\n",
    "from flask import Flask, jsonify, render_template\n",
    "\n",
    "from flask_sqlalchemy import SQLAlchemy\n",
    "from sqlalchemy.ext.automap import automap_base\n",
    "from sqlalchemy.orm import Session\n",
    "from sqlalchemy import create_engine, func\n",
    "import sqlalchemy"
   ]
  },
  {
   "cell_type": "code",
   "execution_count": 2,
   "metadata": {},
   "outputs": [],
   "source": [
    "api_key = \"93ba5366cb39b249dcbde95cc4d461e7b05b747d\"\n",
    "export_url = (f\"https://api.census.gov/data/timeseries/intltrade/exports\")\n",
    "import_url = (f\"https://api.census.gov/data/timeseries/intltrade/imports\")\n",
    "china_code = \"5700\"\n",
    "usa_code = \"1000\"\n",
    "month = []\n",
    "year = []\n",
    "#&ParameterName={parameter_name}\n",
    "#url = (f\"https://apps.bea.gov/api/data?&UserID={api_key}&method={get_data}&datasetname={dataset}&LineCode={line_code}&TableName={table_name}&GeoFIPS={geofip}&Year={year}\")\n",
    "\n",
    "#SAINC51\n",
    "#response = requests.get(url).json()       \n",
    "#list_response = requests.get(list_url).json()"
   ]
  },
  {
   "cell_type": "code",
   "execution_count": 38,
   "metadata": {},
   "outputs": [],
   "source": [
    "total_trade = requests.get(f\"{export_url}/hs?get=ALL_VAL_MO&key={api_key}&time=2019-01\").json() "
   ]
  },
  {
   "cell_type": "code",
   "execution_count": 39,
   "metadata": {},
   "outputs": [
    {
     "data": {
      "text/plain": [
       "'129545568405'"
      ]
     },
     "execution_count": 39,
     "metadata": {},
     "output_type": "execute_result"
    }
   ],
   "source": [
    "total_trade[1][0]\n"
   ]
  },
  {
   "cell_type": "code",
   "execution_count": 40,
   "metadata": {},
   "outputs": [
    {
     "data": {
      "text/plain": [
       "[['DF', 'ALL_VAL_MO', 'ALL_VAL_YR', 'YEAR', 'MONTH'],\n",
       " ['-', '131915459503', '1578516879950', '2013', '12'],\n",
       " ['1', '114956497285', '1371134061205', '2013', '12'],\n",
       " ['2', '16958962218', '207382818745', '2013', '12']]"
      ]
     },
     "execution_count": 40,
     "metadata": {},
     "output_type": "execute_result"
    }
   ],
   "source": [
    "requests.get(f\"https://api.census.gov/data/timeseries/intltrade/exports/hs?get=DF,ALL_VAL_MO,ALL_VAL_YR&YEAR=2013&MONTH=12\").json()"
   ]
  },
  {
   "cell_type": "code",
   "execution_count": 160,
   "metadata": {},
   "outputs": [],
   "source": [
    "china_exports = requests.get(f\"{export_url}/hs?get=ALL_VAL_MO,ALL_VAL_YR&key={api_key}&time=from+2015-01&CTY_CODE={china_code}\").json()\n"
   ]
  },
  {
   "cell_type": "code",
   "execution_count": 44,
   "metadata": {},
   "outputs": [
    {
     "name": "stdout",
     "output_type": "stream",
     "text": [
      "clear\n"
     ]
    }
   ],
   "source": [
    "# requests.get(f\"{export_url}/hs?get=CTY_CODE,CTY_NAME,ALL_VAL_MO,ALL_VAL_YR,E_COMMODITY_LDESC&key={api_key}&time=from+2015-01&CTY_CODE={china_code}\").json()\n"
   ]
  },
  {
   "cell_type": "code",
   "execution_count": 45,
   "metadata": {},
   "outputs": [],
   "source": [
    "# export_by_commodity = requests.get(f\"{export_url}/hs?get=E_COMMODITY,E_COMMODITY_SDESC,ALL_VAL_MO,ALL_VAL_YR&key={api_key}&time=from+2015-01&COMM_LVL=HS4&CTY_CODE={china_code}\").json()\n"
   ]
  },
  {
   "cell_type": "code",
   "execution_count": 47,
   "metadata": {},
   "outputs": [
    {
     "data": {
      "text/plain": [
       "54073"
      ]
     },
     "execution_count": 47,
     "metadata": {},
     "output_type": "execute_result"
    }
   ],
   "source": [
    "len(export_by_commodity)"
   ]
  },
  {
   "cell_type": "code",
   "execution_count": 48,
   "metadata": {},
   "outputs": [],
   "source": [
    "count = 1\n",
    "movalue = []\n",
    "yrvalue = []\n",
    "period = []\n",
    "desc = []\n",
    "code = []\n",
    "while count < 54072:\n",
    "    count += 1\n",
    "    movalue.append(export_by_commodity[count][2])\n",
    "    yrvalue.append(export_by_commodity[count][3])\n",
    "    desc.append(export_by_commodity[count][1])\n",
    "    period.append(export_by_commodity[count][4])\n",
    "    code.append(export_by_commodity[count][0])\n",
    "china_data = pd.DataFrame({\"YTD Value\" : yrvalue,\n",
    "                           \"Monthly Value \" : movalue,\n",
    "                          \"Period\" : period,\n",
    "                          \"Commodity\" : desc,\n",
    "                          \"Comm Code\": code})"
   ]
  },
  {
   "cell_type": "code",
   "execution_count": 51,
   "metadata": {},
   "outputs": [
    {
     "data": {
      "text/html": [
       "<div>\n",
       "<style scoped>\n",
       "    .dataframe tbody tr th:only-of-type {\n",
       "        vertical-align: middle;\n",
       "    }\n",
       "\n",
       "    .dataframe tbody tr th {\n",
       "        vertical-align: top;\n",
       "    }\n",
       "\n",
       "    .dataframe thead th {\n",
       "        text-align: right;\n",
       "    }\n",
       "</style>\n",
       "<table border=\"1\" class=\"dataframe\">\n",
       "  <thead>\n",
       "    <tr style=\"text-align: right;\">\n",
       "      <th></th>\n",
       "      <th>YTD Value</th>\n",
       "      <th>Monthly Value</th>\n",
       "      <th>Period</th>\n",
       "      <th>Commodity</th>\n",
       "      <th>Comm Code</th>\n",
       "    </tr>\n",
       "  </thead>\n",
       "  <tbody>\n",
       "    <tr>\n",
       "      <th>54066</th>\n",
       "      <td>320405</td>\n",
       "      <td>37821</td>\n",
       "      <td>2018-08</td>\n",
       "      <td>MONOPODS, BIPODS, TRIPODS AND SIMILAR ARTICLES</td>\n",
       "      <td>9620</td>\n",
       "    </tr>\n",
       "    <tr>\n",
       "      <th>54067</th>\n",
       "      <td>327518</td>\n",
       "      <td>7113</td>\n",
       "      <td>2018-09</td>\n",
       "      <td>MONOPODS, BIPODS, TRIPODS AND SIMILAR ARTICLES</td>\n",
       "      <td>9620</td>\n",
       "    </tr>\n",
       "    <tr>\n",
       "      <th>54068</th>\n",
       "      <td>361042</td>\n",
       "      <td>33524</td>\n",
       "      <td>2018-10</td>\n",
       "      <td>MONOPODS, BIPODS, TRIPODS AND SIMILAR ARTICLES</td>\n",
       "      <td>9620</td>\n",
       "    </tr>\n",
       "    <tr>\n",
       "      <th>54069</th>\n",
       "      <td>399482</td>\n",
       "      <td>38440</td>\n",
       "      <td>2018-11</td>\n",
       "      <td>MONOPODS, BIPODS, TRIPODS AND SIMILAR ARTICLES</td>\n",
       "      <td>9620</td>\n",
       "    </tr>\n",
       "    <tr>\n",
       "      <th>54070</th>\n",
       "      <td>444867</td>\n",
       "      <td>45385</td>\n",
       "      <td>2018-12</td>\n",
       "      <td>MONOPODS, BIPODS, TRIPODS AND SIMILAR ARTICLES</td>\n",
       "      <td>9620</td>\n",
       "    </tr>\n",
       "  </tbody>\n",
       "</table>\n",
       "</div>"
      ],
      "text/plain": [
       "      YTD Value Monthly Value    Period  \\\n",
       "54066    320405          37821  2018-08   \n",
       "54067    327518           7113  2018-09   \n",
       "54068    361042          33524  2018-10   \n",
       "54069    399482          38440  2018-11   \n",
       "54070    444867          45385  2018-12   \n",
       "\n",
       "                                            Commodity Comm Code  \n",
       "54066  MONOPODS, BIPODS, TRIPODS AND SIMILAR ARTICLES      9620  \n",
       "54067  MONOPODS, BIPODS, TRIPODS AND SIMILAR ARTICLES      9620  \n",
       "54068  MONOPODS, BIPODS, TRIPODS AND SIMILAR ARTICLES      9620  \n",
       "54069  MONOPODS, BIPODS, TRIPODS AND SIMILAR ARTICLES      9620  \n",
       "54070  MONOPODS, BIPODS, TRIPODS AND SIMILAR ARTICLES      9620  "
      ]
     },
     "execution_count": 51,
     "metadata": {},
     "output_type": "execute_result"
    }
   ],
   "source": [
    "\n",
    "china_data.tail()"
   ]
  },
  {
   "cell_type": "code",
   "execution_count": 3,
   "metadata": {},
   "outputs": [],
   "source": [
    "engine = create_engine('sqlite:///../data/china_trade.sqlite', echo=False)\n"
   ]
  },
  {
   "cell_type": "code",
   "execution_count": null,
   "metadata": {},
   "outputs": [],
   "source": []
  },
  {
   "cell_type": "code",
   "execution_count": 15,
   "metadata": {},
   "outputs": [
    {
     "ename": "NameError",
     "evalue": "name 'china_data' is not defined",
     "output_type": "error",
     "traceback": [
      "\u001b[1;31m---------------------------------------------------------------------------\u001b[0m",
      "\u001b[1;31mNameError\u001b[0m                                 Traceback (most recent call last)",
      "\u001b[1;32m<ipython-input-15-324fb6a0f833>\u001b[0m in \u001b[0;36m<module>\u001b[1;34m()\u001b[0m\n\u001b[1;32m----> 1\u001b[1;33m \u001b[0mchina_data\u001b[0m\u001b[1;33m.\u001b[0m\u001b[0mto_sql\u001b[0m\u001b[1;33m(\u001b[0m\u001b[1;34m'export'\u001b[0m\u001b[1;33m,\u001b[0m \u001b[0mcon\u001b[0m\u001b[1;33m=\u001b[0m\u001b[0mengine\u001b[0m\u001b[1;33m,\u001b[0m \u001b[0mif_exists\u001b[0m\u001b[1;33m=\u001b[0m\u001b[1;34m'replace'\u001b[0m\u001b[1;33m)\u001b[0m \u001b[1;31m#dont run this again\u001b[0m\u001b[1;33m\u001b[0m\u001b[0m\n\u001b[0m",
      "\u001b[1;31mNameError\u001b[0m: name 'china_data' is not defined"
     ]
    }
   ],
   "source": [
    "# china_data.to_sql('export', con=engine, if_exists='replace') #dont run this again"
   ]
  },
  {
   "cell_type": "code",
   "execution_count": 16,
   "metadata": {},
   "outputs": [],
   "source": [
    "import_by_commodity = requests.get(f\"{import_url}/hs?get=I_COMMODITY,I_COMMODITY_SDESC,GEN_VAL_MO,GEN_VAL_YR&key={api_key}&time=from+2015-01&COMM_LVL=HS4&CTY_CODE={china_code}\").json()"
   ]
  },
  {
   "cell_type": "code",
   "execution_count": 19,
   "metadata": {},
   "outputs": [],
   "source": [
    "count = 1\n",
    "movalue = []\n",
    "yrvalue = []\n",
    "period = []\n",
    "desc = []\n",
    "code = []\n",
    "while count < 55352:\n",
    "    count += 1\n",
    "    movalue.append(import_by_commodity[count][2])\n",
    "    yrvalue.append(import_by_commodity[count][3])\n",
    "    desc.append(import_by_commodity[count][1])\n",
    "    period.append(import_by_commodity[count][4])\n",
    "    code.append(import_by_commodity[count][0])\n",
    "import_china_data = pd.DataFrame({\"YTD Value\" : yrvalue,\n",
    "                           \"Monthly Value \" : movalue,\n",
    "                          \"Period\" : period,\n",
    "                          \"Commodity\" : desc,\n",
    "                          \"Comm Code\": code})"
   ]
  },
  {
   "cell_type": "code",
   "execution_count": 29,
   "metadata": {},
   "outputs": [],
   "source": [
    "import_china_data.to_sql('import', con=engine, if_exists='replace') "
   ]
  },
  {
   "cell_type": "code",
   "execution_count": 24,
   "metadata": {},
   "outputs": [],
   "source": [
    "# import_china_data"
   ]
  },
  {
   "cell_type": "code",
   "execution_count": 60,
   "metadata": {},
   "outputs": [],
   "source": [
    "engine = create_engine('sqlite:///../data/china_trade.sqlite')\n",
    "#engine = create_engine(\"sqlite:///db/china_trade.sqlite\")\n",
    "\n",
    "\n"
   ]
  },
  {
   "cell_type": "code",
   "execution_count": 61,
   "metadata": {},
   "outputs": [],
   "source": [
    "Base = automap_base()\n",
    "Base.prepare(engine, reflect=True)\n",
    "session = Session(engine)\n"
   ]
  },
  {
   "cell_type": "code",
   "execution_count": 62,
   "metadata": {},
   "outputs": [
    {
     "data": {
      "text/plain": [
       "['export', 'hs2export', 'hs2import', 'imports']"
      ]
     },
     "execution_count": 62,
     "metadata": {},
     "output_type": "execute_result"
    }
   ],
   "source": [
    "Base.classes.keys()"
   ]
  },
  {
   "cell_type": "code",
   "execution_count": 63,
   "metadata": {},
   "outputs": [],
   "source": [
    "Imports = Base.classes.imports"
   ]
  },
  {
   "cell_type": "code",
   "execution_count": 64,
   "metadata": {},
   "outputs": [],
   "source": [
    "IndImports = Base.classes.hs2import\n",
    "IndExports = Base.classes.hs2export\n"
   ]
  },
  {
   "cell_type": "code",
   "execution_count": 65,
   "metadata": {},
   "outputs": [],
   "source": [
    "Exports = Base.classes.export"
   ]
  },
  {
   "cell_type": "code",
   "execution_count": 66,
   "metadata": {},
   "outputs": [
    {
     "data": {
      "text/plain": [
       "{'Description': 'FISH, DRIED, SALTED ETC, SMOKED ETC; ED FISH MEAL',\n",
       " 'HSC': 305,\n",
       " 'MoValue ': 274324,\n",
       " 'Period': '2015-02',\n",
       " 'YTDValue': 310025,\n",
       " '_sa_instance_state': <sqlalchemy.orm.state.InstanceState at 0x1ea322345c0>,\n",
       " 'index': 0}"
      ]
     },
     "execution_count": 66,
     "metadata": {},
     "output_type": "execute_result"
    }
   ],
   "source": [
    "exports = session.query(Exports).first()\n",
    "exports.__dict__\n"
   ]
  },
  {
   "cell_type": "code",
   "execution_count": 14,
   "metadata": {},
   "outputs": [],
   "source": [
    "results = session.query(Imports).statement\n"
   ]
  },
  {
   "cell_type": "code",
   "execution_count": 12,
   "metadata": {},
   "outputs": [],
   "source": [
    "df = pd.read_sql_query(results, session.bind)"
   ]
  },
  {
   "cell_type": "code",
   "execution_count": 13,
   "metadata": {},
   "outputs": [
    {
     "data": {
      "text/plain": [
       "Index(['index', 'YTDValue', 'MoValue', 'Period', 'Description', 'HSC'], dtype='object')"
      ]
     },
     "execution_count": 13,
     "metadata": {},
     "output_type": "execute_result"
    }
   ],
   "source": [
    "df.columns"
   ]
  },
  {
   "cell_type": "code",
   "execution_count": null,
   "metadata": {},
   "outputs": [],
   "source": []
  },
  {
   "cell_type": "code",
   "execution_count": 14,
   "metadata": {},
   "outputs": [
    {
     "data": {
      "text/plain": [
       "['index', 'YTDValue', 'MoValue', 'Period', 'Description', 'HSC']"
      ]
     },
     "execution_count": 14,
     "metadata": {},
     "output_type": "execute_result"
    }
   ],
   "source": [
    "list(df.columns)"
   ]
  },
  {
   "cell_type": "code",
   "execution_count": 13,
   "metadata": {},
   "outputs": [
    {
     "ename": "AttributeError",
     "evalue": "type object 'imports' has no attribute 'MoValue'",
     "output_type": "error",
     "traceback": [
      "\u001b[1;31m---------------------------------------------------------------------------\u001b[0m",
      "\u001b[1;31mAttributeError\u001b[0m                            Traceback (most recent call last)",
      "\u001b[1;32m<ipython-input-13-37ab62a747f2>\u001b[0m in \u001b[0;36m<module>\u001b[1;34m()\u001b[0m\n\u001b[0;32m      2\u001b[0m         \u001b[0mImports\u001b[0m\u001b[1;33m.\u001b[0m\u001b[0mDescription\u001b[0m\u001b[1;33m,\u001b[0m\u001b[1;33m\u001b[0m\u001b[0m\n\u001b[0;32m      3\u001b[0m         \u001b[0mImports\u001b[0m\u001b[1;33m.\u001b[0m\u001b[0mYTDValue\u001b[0m\u001b[1;33m,\u001b[0m\u001b[1;33m\u001b[0m\u001b[0m\n\u001b[1;32m----> 4\u001b[1;33m         \u001b[0mImports\u001b[0m\u001b[1;33m.\u001b[0m\u001b[0mMoValue\u001b[0m\u001b[1;33m,\u001b[0m\u001b[1;33m\u001b[0m\u001b[0m\n\u001b[0m\u001b[0;32m      5\u001b[0m         \u001b[0mImports\u001b[0m\u001b[1;33m.\u001b[0m\u001b[0mPeriod\u001b[0m\u001b[1;33m,\u001b[0m\u001b[1;33m\u001b[0m\u001b[0m\n\u001b[0;32m      6\u001b[0m         \u001b[0mImports\u001b[0m\u001b[1;33m.\u001b[0m\u001b[0mDescription\u001b[0m\u001b[1;33m\u001b[0m\u001b[0m\n",
      "\u001b[1;31mAttributeError\u001b[0m: type object 'imports' has no attribute 'MoValue'"
     ]
    }
   ],
   "source": [
    "sel = [\n",
    "        Imports.Description,\n",
    "        Imports.YTDValue,\n",
    "        Imports.MoValue,\n",
    "        Imports.Period,\n",
    "        Imports.Description\n",
    "    ]"
   ]
  },
  {
   "cell_type": "code",
   "execution_count": 3,
   "metadata": {},
   "outputs": [],
   "source": [
    "# session.query(*sel).filter(Imports.HSC == \"305\").all()"
   ]
  },
  {
   "cell_type": "code",
   "execution_count": 27,
   "metadata": {},
   "outputs": [],
   "source": [
    "stmt = session.query(Imports).statement\n",
    "df = pd.read_sql_query(stmt, session.bind)\n"
   ]
  },
  {
   "cell_type": "code",
   "execution_count": 120,
   "metadata": {},
   "outputs": [],
   "source": [
    "##### GOOD CODE FOR INDIVIDUAL SEARCHES IE TOOLTIP\"\n",
    "year = 2018\n",
    "hsc = 97\n",
    "sel = [\n",
    "        Imports.Description,\n",
    "        Imports.YTDValue,\n",
    "        Imports.Period,\n",
    "        Imports.HSC\n",
    "        ]\n",
    "\n",
    "results = session.query(*sel).filter(Imports.HSC == hsc).filter(Imports.Period.like(f\"%{year}%\")).all()\n",
    "hsc_data = {}\n",
    "for result in results:\n",
    "    hsc_data[\"Description\"] = result[0]\n",
    "    hsc_data[\"Annual Value\"] = result[1]\n",
    "    hsc_data[\"Year\"] = result[2]\n",
    "    hsc_data[\"HSC\"] = result[3]"
   ]
  },
  {
   "cell_type": "code",
   "execution_count": 137,
   "metadata": {},
   "outputs": [
    {
     "data": {
      "text/plain": [
       "{'Annual Value': 252327033,\n",
       " 'Description': 'SPECIAL IMPORT PROVISIONS, NESOI',\n",
       " 'HSC': 99,\n",
       " 'Year': '2015-01'}"
      ]
     },
     "execution_count": 137,
     "metadata": {},
     "output_type": "execute_result"
    }
   ],
   "source": [
    "hsc_data"
   ]
  },
  {
   "cell_type": "raw",
   "metadata": {},
   "source": [
    "type"
   ]
  },
  {
   "cell_type": "code",
   "execution_count": 12,
   "metadata": {},
   "outputs": [
    {
     "ename": "AttributeError",
     "evalue": "'list' object has no attribute 'columns'",
     "output_type": "error",
     "traceback": [
      "\u001b[1;31m---------------------------------------------------------------------------\u001b[0m",
      "\u001b[1;31mAttributeError\u001b[0m                            Traceback (most recent call last)",
      "\u001b[1;32m<ipython-input-12-ed5f38e7ec4c>\u001b[0m in \u001b[0;36m<module>\u001b[1;34m()\u001b[0m\n\u001b[0;32m      1\u001b[0m \u001b[0mimport_hs2\u001b[0m \u001b[1;33m=\u001b[0m \u001b[0mrequests\u001b[0m\u001b[1;33m.\u001b[0m\u001b[0mget\u001b[0m\u001b[1;33m(\u001b[0m\u001b[1;34mf\"{import_url}/hs?get=I_COMMODITY,I_COMMODITY_SDESC,GEN_VAL_YR&time=from+2015&COMM_LVL=HS2&CTY_CODE={china_code}\"\u001b[0m\u001b[1;33m)\u001b[0m\u001b[1;33m.\u001b[0m\u001b[0mjson\u001b[0m\u001b[1;33m(\u001b[0m\u001b[1;33m)\u001b[0m\u001b[1;33m\u001b[0m\u001b[0m\n\u001b[1;32m----> 2\u001b[1;33m \u001b[0mimport_hs2\u001b[0m\u001b[1;33m.\u001b[0m\u001b[0mcolumns\u001b[0m\u001b[1;33m(\u001b[0m\u001b[1;33m)\u001b[0m\u001b[1;33m\u001b[0m\u001b[0m\n\u001b[0m",
      "\u001b[1;31mAttributeError\u001b[0m: 'list' object has no attribute 'columns'"
     ]
    }
   ],
   "source": [
    "import_hs2 = requests.get(f\"{import_url}/hs?get=I_COMMODITY,I_COMMODITY_SDESC,GEN_VAL_YR&time=from+2015&COMM_LVL=HS2&CTY_CODE={china_code}\").json()\n"
   ]
  },
  {
   "cell_type": "code",
   "execution_count": 34,
   "metadata": {},
   "outputs": [
    {
     "data": {
      "text/plain": [
       "['01', 'LIVE ANIMALS', '1395030', '2015-02', 'HS2', '5700']"
      ]
     },
     "execution_count": 34,
     "metadata": {},
     "output_type": "execute_result"
    }
   ],
   "source": [
    "import_hs2[2]"
   ]
  },
  {
   "cell_type": "code",
   "execution_count": 19,
   "metadata": {},
   "outputs": [],
   "source": [
    "count = 1\n",
    "movalue = []\n",
    "yrvalue = []\n",
    "period = []\n",
    "desc = []\n",
    "code = []\n",
    "while count < 4802:\n",
    "    count += 1\n",
    "    yrvalue.append(import_hs2[count][2])\n",
    "    desc.append(import_hs2[count][1])\n",
    "    period.append(import_hs2[count][3])\n",
    "    code.append(import_hs2[count][0])\n",
    "hs2_import = pd.DataFrame({\"YTDValue\" : yrvalue,\n",
    "                          \"Period\" : period,\n",
    "                          \"Description\" : desc,\n",
    "                          \"HSC\": code})\n"
   ]
  },
  {
   "cell_type": "code",
   "execution_count": 21,
   "metadata": {},
   "outputs": [],
   "source": [
    "hs2_import.to_sql('hs2import', con=engine, if_exists='replace') "
   ]
  },
  {
   "cell_type": "code",
   "execution_count": 33,
   "metadata": {},
   "outputs": [],
   "source": [
    "# export_hs2 = requests.get(f\"{export_url}/hs?get=E_COMMODITY,E_COMMODITY_SDESC,ALL_VAL_MO,ALL_VAL_YR&time=from+2015-01&COMM_LVL=HS2&CTY_CODE={china_code}\").json()\n",
    "\n"
   ]
  },
  {
   "cell_type": "code",
   "execution_count": 143,
   "metadata": {},
   "outputs": [],
   "source": [
    "# count = 1\n",
    "# movalue = []\n",
    "# yrvalue = []\n",
    "# period = []\n",
    "# desc = []\n",
    "# code = []\n",
    "# while count < 4802:\n",
    "#     count += 1\n",
    "#     movalue.append(import_by_commodity[count][2])\n",
    "#     yrvalue.append(import_by_commodity[count][3])\n",
    "#     desc.append(import_by_commodity[count][1])\n",
    "#     period.append(import_by_commodity[count][4])\n",
    "#     code.append(import_by_commodity[count][0])\n",
    "# hs2_export = pd.DataFrame({\"YTDValue\" : yrvalue,\n",
    "#                            \"MoValue \" : movalue,\n",
    "#                           \"Period\" : period,\n",
    "#                           \"Description\" : desc,\n",
    "#                           \"HSC\": code})\n"
   ]
  },
  {
   "cell_type": "code",
   "execution_count": 34,
   "metadata": {},
   "outputs": [],
   "source": [
    "# hs2_export.to_sql('hs2export', con=engine, if_exists='replace') \n"
   ]
  },
  {
   "cell_type": "code",
   "execution_count": 138,
   "metadata": {},
   "outputs": [],
   "source": [
    "stmt = session.query(IndImports).statement\n",
    "df = pd.read_sql_query(stmt, session.bind)\n",
    "\n",
    "year = 2018\n",
    "hsc = 9999\n",
    "sel = [\n",
    "        IndImports.Description,\n",
    "        IndImports.YTDValue,\n",
    "        IndImports.Period,\n",
    "        IndImports.HSC\n",
    "        ]\n",
    "\n",
    "results = session.query(*sel).filter(IndImports.Period == f\"{year}\").all()\n",
    "hsc_ind_imports = {}\n",
    "for result in results:\n",
    "    hsc_ind_imports[\"Description\"] = result[0]\n",
    "    hsc_ind_imports[\"Annual Value\"] = result[1]\n",
    "    hsc_ind_imports[\"Year\"] = result[2]\n",
    "    hsc_ind_imports[\"HSC\"] = result[3]"
   ]
  },
  {
   "cell_type": "code",
   "execution_count": 133,
   "metadata": {},
   "outputs": [],
   "source": [
    "g = session.query(IndImports.HSC).filter(IndImports.HSC == \"01\").all()"
   ]
  },
  {
   "cell_type": "code",
   "execution_count": 139,
   "metadata": {},
   "outputs": [
    {
     "data": {
      "text/plain": [
       "{'Annual Value': 252327033,\n",
       " 'Description': 'SPECIAL IMPORT PROVISIONS, NESOI',\n",
       " 'HSC': 99,\n",
       " 'Year': '2015-01'}"
      ]
     },
     "execution_count": 139,
     "metadata": {},
     "output_type": "execute_result"
    }
   ],
   "source": [
    "hsc_ind_imports"
   ]
  },
  {
   "cell_type": "code",
   "execution_count": 77,
   "metadata": {},
   "outputs": [
    {
     "data": {
      "text/plain": [
       "{'Description': 'LIVE ANIMALS',\n",
       " 'HSC': 1,\n",
       " 'Period': '2015-02',\n",
       " 'YTDValue': 1395030,\n",
       " '_sa_instance_state': <sqlalchemy.orm.state.InstanceState at 0x1ea32234908>,\n",
       " 'index': 0}"
      ]
     },
     "execution_count": 77,
     "metadata": {},
     "output_type": "execute_result"
    }
   ],
   "source": [
    "hsc = session.query(IndImports).first()\n",
    "hsc.__dict__"
   ]
  },
  {
   "cell_type": "code",
   "execution_count": 140,
   "metadata": {},
   "outputs": [
    {
     "data": {
      "text/plain": [
       "<sqlalchemy.sql.elements.BinaryExpression object at 0x000001EA3365B3C8>"
      ]
     },
     "execution_count": 140,
     "metadata": {},
     "output_type": "execute_result"
    }
   ],
   "source": [
    "Imports.Period.like(f\"%{year}%\")"
   ]
  },
  {
   "cell_type": "code",
   "execution_count": null,
   "metadata": {},
   "outputs": [],
   "source": []
  }
 ],
 "metadata": {
  "kernelspec": {
   "display_name": "Python 3",
   "language": "python",
   "name": "python3"
  },
  "language_info": {
   "codemirror_mode": {
    "name": "ipython",
    "version": 3
   },
   "file_extension": ".py",
   "mimetype": "text/x-python",
   "name": "python",
   "nbconvert_exporter": "python",
   "pygments_lexer": "ipython3",
   "version": "3.6.5"
  }
 },
 "nbformat": 4,
 "nbformat_minor": 2
}
